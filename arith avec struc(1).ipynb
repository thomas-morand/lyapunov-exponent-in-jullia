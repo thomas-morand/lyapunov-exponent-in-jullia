{
 "cells": [
  {
   "cell_type": "code",
   "execution_count": 87,
   "id": "39888979",
   "metadata": {},
   "outputs": [],
   "source": [
    "using IntervalArithmetic\n",
    "using Plots \n",
    "using Dates\n",
    "using StatsBase"
   ]
  },
  {
   "cell_type": "markdown",
   "id": "d0d7fcb3",
   "metadata": {},
   "source": [
    "## Common functions"
   ]
  },
  {
   "cell_type": "code",
   "execution_count": 2,
   "id": "ab8c42e2",
   "metadata": {},
   "outputs": [
    {
     "data": {
      "text/plain": [
       "phi_n (generic function with 1 method)"
      ]
     },
     "execution_count": 2,
     "metadata": {},
     "output_type": "execute_result"
    }
   ],
   "source": [
    "function phi_n(phi,T,x, s, n)\n",
    "    \"Calculate the image of phi^{(n)}\"\n",
    "    if n == 0\n",
    "        return s\n",
    "    else\n",
    "        return phi.image(x, phi_n(phi,T,T.image(x), s, n-1))\n",
    "    end\n",
    "end\n"
   ]
  },
  {
   "cell_type": "code",
   "execution_count": 3,
   "id": "35c5d1d6",
   "metadata": {},
   "outputs": [
    {
     "data": {
      "text/plain": [
       "phi_nBoundK (generic function with 1 method)"
      ]
     },
     "execution_count": 3,
     "metadata": {},
     "output_type": "execute_result"
    }
   ],
   "source": [
    "function phi_nBoundK(phi,T,x, s, n,K)\n",
    "    if n == 0\n",
    "        return s\n",
    "    else\n",
    "        return phi.image(x,min(phi_nBoundK(phi,T,T.image(x), s, n-1,K),K))\n",
    "    end\n",
    "end"
   ]
  },
  {
   "cell_type": "code",
   "execution_count": 4,
   "id": "c31ebcec",
   "metadata": {},
   "outputs": [
    {
     "data": {
      "text/plain": [
       "compose (generic function with 1 method)"
      ]
     },
     "execution_count": 4,
     "metadata": {},
     "output_type": "execute_result"
    }
   ],
   "source": [
    "function compose(f, x, n)\n",
    "    if n == 0\n",
    "        return x\n",
    "    else\n",
    "        return compose(f, f(x), n-1)\n",
    "    end\n",
    "end\n"
   ]
  },
  {
   "cell_type": "markdown",
   "id": "e4082b4c",
   "metadata": {},
   "source": [
    "## Upper bound of q"
   ]
  },
  {
   "cell_type": "code",
   "execution_count": 5,
   "id": "daf6722d",
   "metadata": {},
   "outputs": [
    {
     "data": {
      "text/plain": [
       "FindNK (generic function with 1 method)"
      ]
     },
     "execution_count": 5,
     "metadata": {},
     "output_type": "execute_result"
    }
   ],
   "source": [
    "function FindNK(phi,T,N) \n",
    "    \"Find N such that the derivative at 1 of phi is always bigger than 1\"\n",
    "    x=[interval((i-1)/2^N,i/2^N) for i in 1:2^N]\n",
    "    y=[phi.exp(u) for u in x]\n",
    "    infi=minimum([inf(z) for z in y])\n",
    "    NK=1\n",
    "    while infi <= 1 && NK<30\n",
    "        NK=NK+1\n",
    "        x=[T.image(i) for i in x]\n",
    "        y=y.*[phi.exp(u) for u in x]\n",
    "        infi=minimum([inf(z) for z in y])\n",
    "    end\n",
    "    if NK==30\n",
    "        error(\"NK not find\")\n",
    "    end\n",
    "    return NK\n",
    "end\n"
   ]
  },
  {
   "cell_type": "code",
   "execution_count": 6,
   "id": "6d3b2660",
   "metadata": {},
   "outputs": [
    {
     "data": {
      "text/plain": [
       "FindNKv2 (generic function with 1 method)"
      ]
     },
     "execution_count": 6,
     "metadata": {},
     "output_type": "execute_result"
    }
   ],
   "source": [
    "function FindNKv2(phi,T,N)\n",
    "    K=Inf\n",
    "    x=[interval((i-1)/2^N,i/2^N) for i in 1:2^N]\n",
    "    y=[phi.exp(u) for u in x]\n",
    "    for NK in 1:8\n",
    "        infi=minimum([inf(z) for z in y])\n",
    "        if infi>1\n",
    "            K=min(K,FindKv2(phi,T,NK,N))\n",
    "        end\n",
    "        x=[T.image(i) for i in x]\n",
    "        y=y.*[phi.exp(u) for u in x]\n",
    "    end\n",
    "    if K==Inf\n",
    "        error(\"NK not find\")\n",
    "    end\n",
    "    return K\n",
    "end"
   ]
  },
  {
   "cell_type": "code",
   "execution_count": 7,
   "id": "bb0e17b5",
   "metadata": {},
   "outputs": [
    {
     "data": {
      "text/plain": [
       "FindK (generic function with 1 method)"
      ]
     },
     "execution_count": 7,
     "metadata": {},
     "output_type": "execute_result"
    }
   ],
   "source": [
    "function FindK(phi,T,NK,N)\n",
    "    \"Find K which dominates the extinction probability\"\n",
    "    K=1/2\n",
    "    A=[interval((i-1)/2^N,i/2^N) for i in 1:2^N]\n",
    "    while any(K-sup(phi_n(phi,T,x, K, NK))< 0 for x in A) && K<0.9999\n",
    "        K=(1+K)/2\n",
    "    end\n",
    "    if K>=0.9999\n",
    "        return error(\"NK not find\")\n",
    "    end\n",
    "    return maximum([sup(phi_n(phi,T,x, K, NK)) for x in A])\n",
    "end \n"
   ]
  },
  {
   "cell_type": "code",
   "execution_count": 8,
   "id": "78de56f1",
   "metadata": {},
   "outputs": [
    {
     "data": {
      "text/plain": [
       "FindKv2 (generic function with 1 method)"
      ]
     },
     "execution_count": 8,
     "metadata": {},
     "output_type": "execute_result"
    }
   ],
   "source": [
    "function FindKv2(phi,T,NK,N)\n",
    "    \"Find K which dominates the extinction probability\"\n",
    "    K=1/2\n",
    "    A=[interval((i-1)/2^N,i/2^N) for i in 1:2^N]\n",
    "    while any(K-sup(phi_n(phi,T,x, K, NK))< 0 for x in A) && K<0.9999\n",
    "        K=(1+K)/2\n",
    "    end\n",
    "    if K>=0.9999\n",
    "        return K=Inf\n",
    "    end\n",
    "    return maximum([sup(phi_n(phi,T,x, K, NK)) for x in A])\n",
    "end "
   ]
  },
  {
   "cell_type": "code",
   "execution_count": 9,
   "id": "333b0737",
   "metadata": {},
   "outputs": [
    {
     "data": {
      "text/plain": [
       "upboundq (generic function with 1 method)"
      ]
     },
     "execution_count": 9,
     "metadata": {},
     "output_type": "execute_result"
    }
   ],
   "source": [
    "function upboundq(phi,T,n,N,plt)  # N>n\n",
    "    \"find a good upper bound of q\"\n",
    "    NK=FindNK(phi,T,N)\n",
    "    K=FindK(phi,T,NK,N)\n",
    "    l1=[[interval(i/2^N,(i+1)/2^N),interval(K,K)]  for i in 0:(2^N-1)]\n",
    "    l2=[phi_n(phi,T,x[1],x[2],n) for x in l1]\n",
    "    if plt==true\n",
    "        x=[i/2^N for i in 1:2^N]\n",
    "        majqm=[sup(i) for i in l2]\n",
    "        p=plot(x,majqm,title=\"upboundq\",ylim=(-0.01,1.01))\n",
    "        display(p)\n",
    "    end\n",
    "    return l2\n",
    "end \n"
   ]
  },
  {
   "cell_type": "markdown",
   "id": "2864f003",
   "metadata": {},
   "source": [
    "## Upper bound of LambdaF"
   ]
  },
  {
   "cell_type": "code",
   "execution_count": 10,
   "id": "b3c0dea1",
   "metadata": {},
   "outputs": [
    {
     "data": {
      "text/plain": [
       "upboundlambdaF (generic function with 1 method)"
      ]
     },
     "execution_count": 10,
     "metadata": {},
     "output_type": "execute_result"
    }
   ],
   "source": [
    "function upboundlambdaF(phi,T,n,N,m)\n",
    "    \"find a good upper bound of lambdaF method 1\"   \n",
    "    NK=FindNK(phi,T,N)\n",
    "    K=FindK(phi,T,NK,N)\n",
    "    l=[[interval(i/2^N,(i+1)/2^N) for i in 0:2^N-1]]\n",
    "    for i in 1:m\n",
    "        push!(l,[T.image(x) for x in l[i]])\n",
    "    end\n",
    "    l1=[[x,interval(K,K)]  for x in l[m+1]]\n",
    "    majq=[phi_n(phi,T,x[1],x[2],n) for x in l1]\n",
    "    r=[interval(0,0) for i in 1:2^N]\n",
    "    for i in 1:m\n",
    "        r+=[phi.logds(l[m+1-i][j],majq[j]) for j in 1:2^N]\n",
    "        if i<m\n",
    "            majq=[phi.image(l[m+1-i][j],majq[j]) for j in 1:2^N]\n",
    "        end\n",
    "    end\n",
    "    return maximum([sup(j) for j in r])/m\n",
    "end"
   ]
  },
  {
   "cell_type": "code",
   "execution_count": 50,
   "id": "c2ce03ac",
   "metadata": {},
   "outputs": [
    {
     "data": {
      "text/plain": [
       "upboundlambdaF2 (generic function with 1 method)"
      ]
     },
     "execution_count": 50,
     "metadata": {},
     "output_type": "execute_result"
    }
   ],
   "source": [
    "function upboundlambdaF2(phi,T,n,N,m)\n",
    "    \"find a good upper bound of lambdaF method 2\"   \n",
    "    NK=FindNK(phi,T,N)\n",
    "    K=FindK(phi,T,NK,N)\n",
    "    l=[interval(i/2^N,(i+1)/2^N) for i in 0:2^N-1]\n",
    "    Tl=[]\n",
    "    r=[interval(0,0) for i in 1:2^N]\n",
    "    infi=[0 for i in 1:2^N]\n",
    "    for i in 1:m\n",
    "        Tl=[T.image(x) for x in l]\n",
    "        majq=[phi_nBoundK(phi,T,x,interval(K,K),n,K) for x in Tl]\n",
    "        r+=[phi.logds(l[j],majq[j]) for j in 1:2^N]\n",
    "        infi=[min(sup(r[j])/i,infi[j]) for j in 1:2^N]\n",
    "        l=Tl\n",
    "    end\n",
    "    return maximum(infi)\n",
    "end"
   ]
  },
  {
   "cell_type": "code",
   "execution_count": 138,
   "id": "9c410fe5",
   "metadata": {},
   "outputs": [
    {
     "data": {
      "text/plain": [
       "upboundlambdaF3 (generic function with 1 method)"
      ]
     },
     "execution_count": 138,
     "metadata": {},
     "output_type": "execute_result"
    }
   ],
   "source": [
    "function upboundlambdaF3(phi,T,n,N,m)\n",
    "    \"find a good upper bound of lambdaF method 3\"   \n",
    "    K=FindNKv2(phi,T,N)\n",
    "    l=[interval(i/2^N,(i+1)/2^N) for i in 0:2^N-1]\n",
    "    Tl=[]\n",
    "    r=[interval(0,0) for i in 1:2^N]\n",
    "    infi=[0 for i in 1:2^N]\n",
    "    for i in 1:m\n",
    "        Tl=[T.image(x) for x in l]\n",
    "        majq=[phi_nBoundK(phi,T,x,interval(K,K),n,K) for x in Tl]\n",
    "        r+=[phi.logds(l[j],majq[j]) for j in 1:2^N]\n",
    "        infi=[min(sup(r[j])/i,infi[j]) for j in 1:2^N]\n",
    "        l=Tl\n",
    "    end\n",
    "    return maximum(infi)\n",
    "end"
   ]
  },
  {
   "cell_type": "code",
   "execution_count": 143,
   "id": "0b3f7d11",
   "metadata": {},
   "outputs": [
    {
     "data": {
      "text/plain": [
       "-0.15179372255457313"
      ]
     },
     "execution_count": 143,
     "metadata": {},
     "output_type": "execute_result"
    }
   ],
   "source": [
    "upboundlambdaF3(phi1(0.7),T1(0),14,16,8)\n"
   ]
  },
  {
   "cell_type": "code",
   "execution_count": 136,
   "id": "996cc4b3",
   "metadata": {},
   "outputs": [
    {
     "data": {
      "text/plain": [
       "upboundlambdaNew (generic function with 1 method)"
      ]
     },
     "execution_count": 136,
     "metadata": {},
     "output_type": "execute_result"
    }
   ],
   "source": [
    "function upboundlambdaNew(phi,T,n,N,m)\n",
    "    K=FindNKv2(phi,T,N)\n",
    "    l=[interval(i/2^N,(i+1)/2^N) for i in 0:2^N-1]\n",
    "    Tl=[]\n",
    "    r=[interval(0,0) for i in 1:2^N]\n",
    "    infi=[0 for i in 1:2^N]\n",
    "    for i in 1:m\n",
    "        Tl=[T.image(x) for x in l]\n",
    "        majq=[phi_nBoundK(phi,T,x,interval(K,K),n,K) for x in Tl]\n",
    "        r+=[phi.logds(l[j],majq[j]) for j in 1:2^N]\n",
    "        infi=[min(sup(r[j])/i,infi[j]) for j in 1:2^N]\n",
    "        l=Tl\n",
    "    end\n",
    "    K=FindNKv2(phi,T,N+2)\n",
    "    bound=quantile(infi,0.75)\n",
    "    Indice=(findall(x -> x > bound, infi).-1).*4\n",
    "    IndiceNew=vcat(Indice,Indice.+1,Indice.+2,Indice.+3)\n",
    "    len=length(IndiceNew)\n",
    "    l=[interval(i/2^(N+2),(i+1)/2^(N+2)) for i in IndiceNew]\n",
    "    Tl=[]\n",
    "    r=[interval(0,0) for i in 1:len]\n",
    "    infi=[0 for i in 1:len]\n",
    "    for i in 1:m\n",
    "        Tl=[T.image(x) for x in l]\n",
    "        majq=[phi_nBoundK(phi,T,x,interval(K,K),n,K) for x in Tl]\n",
    "        r+=[phi.logds(l[j],majq[j]) for j in 1:len]\n",
    "        infi=[min(sup(r[j])/i,infi[j]) for j in 1:len]\n",
    "        l=Tl\n",
    "    end\n",
    "        return maximum(infi)\n",
    "end"
   ]
  },
  {
   "cell_type": "code",
   "execution_count": 142,
   "id": "828605ea",
   "metadata": {},
   "outputs": [
    {
     "data": {
      "text/plain": [
       "-0.15179372255457313"
      ]
     },
     "execution_count": 142,
     "metadata": {},
     "output_type": "execute_result"
    }
   ],
   "source": [
    "upboundlambdaNew(phi1(0.7),T1(0),14,14,8)"
   ]
  },
  {
   "cell_type": "code",
   "execution_count": 95,
   "id": "ebc8f906",
   "metadata": {},
   "outputs": [
    {
     "data": {
      "text/plain": [
       "3-element Vector{Int64}:\n",
       "  4\n",
       "  8\n",
       " 12"
      ]
     },
     "execution_count": 95,
     "metadata": {},
     "output_type": "execute_result"
    }
   ],
   "source": [
    "[i  for i in 1:3].*4"
   ]
  },
  {
   "cell_type": "markdown",
   "id": "15775329",
   "metadata": {},
   "source": [
    "## Lower bound of q "
   ]
  },
  {
   "cell_type": "code",
   "execution_count": 12,
   "id": "1fcddb20",
   "metadata": {},
   "outputs": [
    {
     "data": {
      "text/plain": [
       "lowboundq (generic function with 1 method)"
      ]
     },
     "execution_count": 12,
     "metadata": {},
     "output_type": "execute_result"
    }
   ],
   "source": [
    "function lowboundq(phi,T,n,N,plt)  # N>n\n",
    "    \"find a good lower bound of q\"\n",
    "    l1=[[interval(i/2^N,(i+1)/2^N),interval(0,0)]  for i in 0:(2^N-1)]\n",
    "    l2=[phi_n(phi,T,x[1],x[2],n) for x in l1]\n",
    "    if plt==true\n",
    "        x=[i/2^N for i in 1:2^N]\n",
    "        minqm=[inf(i) for i in l2]\n",
    "        p=plot(x,minqm,title=\"lowboundq\",ylim=(-0.01,1.01))\n",
    "        display(p)\n",
    "    end\n",
    "    return l2\n",
    "end"
   ]
  },
  {
   "cell_type": "markdown",
   "id": "6cf778ef",
   "metadata": {},
   "source": [
    "## Bounds on q "
   ]
  },
  {
   "cell_type": "code",
   "execution_count": 13,
   "id": "f57ff081",
   "metadata": {},
   "outputs": [
    {
     "data": {
      "text/plain": [
       "boundq (generic function with 1 method)"
      ]
     },
     "execution_count": 13,
     "metadata": {},
     "output_type": "execute_result"
    }
   ],
   "source": [
    "function boundq(phi,T,n,N,plt)  # N>n\n",
    "    \"find good bounds of q\"\n",
    "        NK=FindNK(phi,T,N)\n",
    "        K=FindK(phi,T,NK,N)\n",
    "        l1=[[interval(i/2^N,(i+1)/2^N),interval(K,K)]  for i in 0:(2^N-1)]\n",
    "        l2=[phi_n(phi,T,x[1],x[2],n) for x in l1]\n",
    "        l3=[[interval(i/2^N,(i+1)/2^N),interval(0,0)]  for i in 0:(2^N-1)]\n",
    "        l4=[phi_n(phi,T,x[1],x[2],n) for x in l3]\n",
    "        if plt==true\n",
    "            x=[i/2^N for i in 1:2^N]\n",
    "            majqm=[sup(i) for i in l2]\n",
    "            minqm=[inf(i) for i in l4]\n",
    "            plot(x,majqm,label=\"upboundq\",ylim=(-0.01,1.01))\n",
    "            display(plot!(x,minqm,label=\"lowboundq\"))\n",
    "        end\n",
    "        return l2,l4\n",
    "    end"
   ]
  },
  {
   "cell_type": "markdown",
   "id": "b079ec73",
   "metadata": {},
   "source": [
    "## Lower bound of Lambda_F"
   ]
  },
  {
   "cell_type": "code",
   "execution_count": 14,
   "id": "aaf302ec",
   "metadata": {},
   "outputs": [
    {
     "data": {
      "text/plain": [
       "next_sequence (generic function with 1 method)"
      ]
     },
     "execution_count": 14,
     "metadata": {},
     "output_type": "execute_result"
    }
   ],
   "source": [
    "\"finds a representative of each sequence of size n with integer values \n",
    "between 0 and d up to rotation and not containing a repeating pattern\"\n",
    "\n",
    "function is_rotation_of_minimal(seq, n)\n",
    "    for i in 1:n-1\n",
    "        rotated_seq = vcat(seq[i+1:end], seq[1:i])\n",
    "        if rotated_seq < seq\n",
    "            return false\n",
    "        end\n",
    "    end\n",
    "    return true\n",
    "end\n",
    "\n",
    "function has_repeating_pattern(seq, n)\n",
    "    for len in 1:div(n, 2)\n",
    "        if n % len == 0\n",
    "            pattern = seq[1:len]\n",
    "            is_repeating = true\n",
    "            for i in 1:div(n, len)\n",
    "                if seq[(i-1)*len+1:i*len] != pattern\n",
    "                    is_repeating = false\n",
    "                    break\n",
    "                end\n",
    "            end\n",
    "            if is_repeating\n",
    "                return true\n",
    "            end\n",
    "        end\n",
    "    end\n",
    "    return false\n",
    "end\n",
    "\n",
    "function generate_minimal_non_repeating_sequences(d::Int, n::Int)\n",
    "    minimal_sequences = Vector{Vector{Int}}()  \n",
    "    seq = fill(0, n)  \n",
    "    \n",
    "    while seq != nothing\n",
    "        if is_rotation_of_minimal(seq, n) && !has_repeating_pattern(seq, n)\n",
    "            push!(minimal_sequences, copy(seq))  # Ajouter une copie de la séquence à la liste\n",
    "        end\n",
    "        seq = next_sequence(seq, d)\n",
    "    end\n",
    "    \n",
    "    return minimal_sequences\n",
    "end\n",
    "\n",
    "function next_sequence(seq::Vector{Int}, d::Int)\n",
    "    n = length(seq)\n",
    "    for i in n:-1:1\n",
    "        if seq[i] < d - 1\n",
    "            seq[i] += 1\n",
    "            for j in i+1:n\n",
    "                seq[j] = 0\n",
    "            end\n",
    "            return seq\n",
    "        end\n",
    "    end\n",
    "    return nothing\n",
    "end"
   ]
  },
  {
   "cell_type": "code",
   "execution_count": 15,
   "id": "40118243",
   "metadata": {},
   "outputs": [
    {
     "data": {
      "text/plain": [
       "dichotomy (generic function with 1 method)"
      ]
     },
     "execution_count": 15,
     "metadata": {},
     "output_type": "execute_result"
    }
   ],
   "source": [
    "function dichotomy(g,z,xm,XM,epsi)\n",
    "    t=(xm+XM)/2\n",
    "    while XM-xm>epsi\n",
    "        if g(t)>z\n",
    "            XM=t\n",
    "        else\n",
    "            xm=t\n",
    "        end\n",
    "        t=(xm+XM)/2\n",
    "    end\n",
    "    return t\n",
    "end"
   ]
  },
  {
   "cell_type": "code",
   "execution_count": 16,
   "id": "2ee8eeb5",
   "metadata": {},
   "outputs": [
    {
     "data": {
      "text/plain": [
       "suite_dadique (generic function with 1 method)"
      ]
     },
     "execution_count": 16,
     "metadata": {},
     "output_type": "execute_result"
    }
   ],
   "source": [
    "function suite_dadique(suite::Vector{Int}, d::Int,i)\n",
    "    value = [sum(suite[(j+i-k)%i+1] * d^(j-1) for j in 1:i) for k in 1:i]\n",
    "    return value\n",
    "end"
   ]
  },
  {
   "cell_type": "code",
   "execution_count": 17,
   "id": "7c01def4",
   "metadata": {},
   "outputs": [
    {
     "data": {
      "text/plain": [
       "logdphiq (generic function with 1 method)"
      ]
     },
     "execution_count": 17,
     "metadata": {},
     "output_type": "execute_result"
    }
   ],
   "source": [
    "function logdphiq(phi,orbx,i,lbq,N,epsi)\n",
    "    lf=0\n",
    "    for j in 1:i\n",
    "        qtx=orbx[(j%i)+1]\n",
    "        indice=Int(mod(div(qtx,2.0^(-N)),2^N))\n",
    "        if indice==0\n",
    "            qtxE=hull(lbq[end],lbq[indice+1],lbq[indice+2])\n",
    "        elseif indice==2^N-1\n",
    "            qtxE=hull(lbq[indice],lbq[indice+1],lbq[1])\n",
    "        else\n",
    "            qtxE=hull(lbq[indice],lbq[indice+1],lbq[indice+2])\n",
    "        end\n",
    "        lf+=inf(phi.logds(interval(orbx[j]-epsi,orbx[j]+epsi),qtxE))\n",
    "    end\n",
    "    return lf/i\n",
    "end"
   ]
  },
  {
   "cell_type": "code",
   "execution_count": 18,
   "id": "7d555ed9",
   "metadata": {},
   "outputs": [
    {
     "data": {
      "text/plain": [
       "lowboundlambdaF (generic function with 1 method)"
      ]
     },
     "execution_count": 18,
     "metadata": {},
     "output_type": "execute_result"
    }
   ],
   "source": [
    "function lowboundlambdaF(phi,T,n,N,M)\n",
    "    d=T.degree\n",
    "    lbq=lowboundq(phi,T,n,N,false)\n",
    "    lf=inf(phi.logds(0,lbq[1]))\n",
    "    epsi=min(1/(2^N),1/(2*(1+T.maxd)*(T.maxd^M-1)))/10\n",
    "    for i in 2:M\n",
    "        g=x->compose(T.image,x,i)-x\n",
    "        seq=generate_minimal_non_repeating_sequences(T.degree,i)\n",
    "        for x in seq \n",
    "            image_orbx=suite_dadique(x,T.degree,i)\n",
    "            orbx=[]\n",
    "            xm=0\n",
    "            xM=1\n",
    "            for f in image_orbx\n",
    "                a=dichotomy(g,f,xm,xM,epsi)\n",
    "                push!(orbx,a)\n",
    "                Ta=T.image(a)\n",
    "                err=epsi*T.maxd\n",
    "                xm=Ta-err\n",
    "                xM=Ta+err\n",
    "            end\n",
    "            lf=max(lf,logdphiq(phi,orbx,i,lbq,N,epsi))\n",
    "        end\n",
    "    end\n",
    "    return lf\n",
    "end"
   ]
  },
  {
   "cell_type": "markdown",
   "id": "fb23a815",
   "metadata": {},
   "source": [
    "## Plot of Lambda_F against lambda\n"
   ]
  },
  {
   "cell_type": "code",
   "execution_count": 19,
   "id": "bfa0c5d1",
   "metadata": {},
   "outputs": [
    {
     "data": {
      "text/plain": [
       "plotlowupbound (generic function with 1 method)"
      ]
     },
     "execution_count": 19,
     "metadata": {},
     "output_type": "execute_result"
    }
   ],
   "source": [
    "function plotlowupbound(phi,T,premierl,pas,nbl,n,N,m,M)\n",
    "    L=[premierl + i*pas for i in 0:nbl-1]\n",
    "    Up=[upboundlambdaF2(phi(l),T,n,N,m) for l in L]\n",
    "    Upl2=[upboundlambdaF2(phi(l),T,n,N-2,m) for l in L]\n",
    "    Upl4=[upboundlambdaF2(phi(l),T,n,N-4,m) for l in L]\n",
    "    Low=[lowboundlambdaF(phi(l),T,n,N,M) for l in L]\n",
    "    p=scatter(L,Up,color=:yellow)\n",
    "    scatter!(p,L,Upl2,color=:red)\n",
    "    scatter!(p,L,Upl4,color=:black)\n",
    "    scatter!(p,L,Low,color=:blue)\n",
    "    times=Dates.format(now(),\"yyyy-mm-dd_HH-MM-SS\")\n",
    "    savefig(homedir() * \"/Bureau/plot/\" * \"graphe_$times.png\")\n",
    "    display(p)\n",
    "end"
   ]
  },
  {
   "cell_type": "markdown",
   "id": "04a93f1e",
   "metadata": {},
   "source": [
    "## Bound on Lambda_u"
   ]
  },
  {
   "cell_type": "code",
   "execution_count": 20,
   "id": "8f0e5cf4",
   "metadata": {},
   "outputs": [
    {
     "data": {
      "text/plain": [
       "upperboundLu (generic function with 1 method)"
      ]
     },
     "execution_count": 20,
     "metadata": {},
     "output_type": "execute_result"
    }
   ],
   "source": [
    "function upperboundLu(T,Nu,nu,plt)\n",
    "    l1=[interval(i/2^Nu,(i+1)/2^Nu) for i in 0:(2^Nu-1)]\n",
    "    l2=[interval(0,0) for i in 0:(2^Nu-1)]\n",
    "    for k in 1:nu\n",
    "        l2+=[log(T.d(x)) for x in l1]\n",
    "        if k<nu\n",
    "            l1=[T.image(x) for x in l1]\n",
    "        end\n",
    "    end\n",
    "    upLu=[sup(i)/nu for i in l2]\n",
    "    if plt==true\n",
    "        x=[i/2^N for i in 1:2^N]\n",
    "        p=plot(x,upLu,title=\"upboundLu\")\n",
    "        display(p)\n",
    "    end\n",
    "    return maximum(upLu)\n",
    "end   "
   ]
  },
  {
   "cell_type": "code",
   "execution_count": 21,
   "id": "ff927d11",
   "metadata": {},
   "outputs": [
    {
     "data": {
      "text/plain": [
       "logdTseq (generic function with 1 method)"
      ]
     },
     "execution_count": 21,
     "metadata": {},
     "output_type": "execute_result"
    }
   ],
   "source": [
    "function logdTseq(T,orbx,i,epsi)\n",
    "    r=interval(0,0)\n",
    "    for j in 1:i\n",
    "        r+=log(T.d(interval(orbx[j]-epsi,orbx[j]+epsi)))\n",
    "    end\n",
    "    return inf(r)/i\n",
    "end"
   ]
  },
  {
   "cell_type": "code",
   "execution_count": 22,
   "id": "6d58d0cf",
   "metadata": {},
   "outputs": [
    {
     "data": {
      "text/plain": [
       "lowerboundLu (generic function with 1 method)"
      ]
     },
     "execution_count": 22,
     "metadata": {},
     "output_type": "execute_result"
    }
   ],
   "source": [
    "function lowerboundLu(T,Mu)\n",
    "    d=T.degree\n",
    "    ldLu=log(T.d(0))\n",
    "    epsi=min(1/(1000),1/(2*(1+T.maxd)*(T.maxd^Mu-1)))/10\n",
    "    for i in 2:Mu\n",
    "        g=x->compose(T.image,x,i)-x\n",
    "        seq=generate_minimal_non_repeating_sequences(T.degree,i)\n",
    "        for x in seq \n",
    "            image_orbx=suite_dadique(x,T.degree,i)\n",
    "            orbx=[]\n",
    "            xm=0\n",
    "            xM=1\n",
    "            for f in image_orbx\n",
    "                a=dichotomy(g,f,xm,xM,epsi)\n",
    "                push!(orbx,a)\n",
    "                Ta=T.image(a)\n",
    "                err=epsi*T.maxd\n",
    "                xm=Ta-err\n",
    "                xM=Ta+err\n",
    "            end\n",
    "            ldLu=max(ldLu,logdTseq(T,orbx,i,epsi))\n",
    "        end\n",
    "    end\n",
    "    return ldLu\n",
    "end"
   ]
  },
  {
   "cell_type": "markdown",
   "id": "3fba8b64",
   "metadata": {},
   "source": [
    "## Plot Holder regularity\n"
   ]
  },
  {
   "cell_type": "code",
   "execution_count": 23,
   "id": "9b1053ef",
   "metadata": {},
   "outputs": [
    {
     "data": {
      "text/plain": [
       "logdTseqbis (generic function with 1 method)"
      ]
     },
     "execution_count": 23,
     "metadata": {},
     "output_type": "execute_result"
    }
   ],
   "source": [
    "function logdTseqbis(T,orbx,epsi)\n",
    "    r=interval(0,0)\n",
    "    i=length(orbx)\n",
    "    for j in 1:i\n",
    "        r+=log(T.d(interval(orbx[j]-epsi,orbx[j]+epsi)))\n",
    "    end\n",
    "    return inf(r)/i\n",
    "end"
   ]
  },
  {
   "cell_type": "code",
   "execution_count": 24,
   "id": "03c2350b",
   "metadata": {},
   "outputs": [
    {
     "data": {
      "text/plain": [
       "logdphiqbis (generic function with 1 method)"
      ]
     },
     "execution_count": 24,
     "metadata": {},
     "output_type": "execute_result"
    }
   ],
   "source": [
    "function logdphiqbis(phi,orbx,lbq,N,epsi)\n",
    "    lf=0\n",
    "    i=length(orbx)\n",
    "    for j in 1:i\n",
    "        qtx=orbx[(j%i)+1]\n",
    "        indice=Int(mod(div(qtx,2.0^(-N)),2^N))\n",
    "        if indice==0\n",
    "            qtxE=hull(lbq[end],lbq[indice+1],lbq[indice+2])\n",
    "        elseif indice==2^N-1\n",
    "            qtxE=hull(lbq[indice],lbq[indice+1],lbq[1])\n",
    "        else\n",
    "            qtxE=hull(lbq[indice],lbq[indice+1],lbq[indice+2])\n",
    "        end\n",
    "        lf+=inf(phi.logds(interval(orbx[j]-epsi,orbx[j]+epsi),qtxE))\n",
    "    end\n",
    "    return lf/i\n",
    "end"
   ]
  },
  {
   "cell_type": "code",
   "execution_count": 25,
   "id": "d7a70176",
   "metadata": {},
   "outputs": [
    {
     "data": {
      "text/plain": [
       "plotBoundHolderreg (generic function with 1 method)"
      ]
     },
     "execution_count": 25,
     "metadata": {},
     "output_type": "execute_result"
    }
   ],
   "source": [
    "function plotBoundHolderreg(phi,T,premierl,pas,nbl,n,N,m,M,nu,Nu,plt)\n",
    "    \"step 1: find approximation of the periodique orbit\"\n",
    "    d=T.degree\n",
    "    epsi=(1/(2*(1+T.maxd)*(T.maxd^M-1)))/10\n",
    "    Orbite=Vector{Vector{Float64}}()\n",
    "    push!(Orbite,[0])\n",
    "    for i in 2:M\n",
    "        g=x->compose(T.image,x,i)-x\n",
    "        seq=generate_minimal_non_repeating_sequences(T.degree,i)\n",
    "        for x in seq \n",
    "            image_orbx=suite_dadique(x,T.degree,i)\n",
    "            orbx=[]\n",
    "            xm=0\n",
    "            xM=1\n",
    "            for f in image_orbx\n",
    "                a=dichotomy(g,f,xm,xM,epsi)\n",
    "                push!(orbx,a)\n",
    "                Ta=T.image(a)\n",
    "                err=epsi*T.maxd\n",
    "                xm=Ta-err\n",
    "                xM=Ta+err\n",
    "            end\n",
    "        push!(Orbite,orbx) \n",
    "        end\n",
    "    end\n",
    "    \"step 2: find Lu\"\n",
    "    lowLu=maximum([logdTseqbis(T,orbx,epsi) for orbx in Orbite])\n",
    "    upLu=upperboundLu(T,Nu,nu,false)\n",
    "    \"step 3: find Lf\"\n",
    "    upLf=zeros(Float64,nbl)\n",
    "    for p in 1:nbl\n",
    "        l=premierl+(p-1)*pas\n",
    "        \"NK=FindNK(phi(l),T,N)\n",
    "        K=FindK(phi(l),T,NK,N)\"\n",
    "        K=FindNKv2(phi(l),T,N)\n",
    "        li=[interval(i/2^N,(i+1)/2^N) for i in 0:2^N-1]\n",
    "        Tl=[]\n",
    "        r=[interval(0,0) for i in 1:2^N]\n",
    "        infi=[0 for i in 1:2^N]\n",
    "        for i in 1:m\n",
    "            Tl=[T.image(x) for x in li]\n",
    "            majq=[phi_nBoundK(phi(l),T,x,interval(K,K),n,K) for x in Tl]\n",
    "            r+=[phi(l).logds(li[j],majq[j]) for j in 1:2^N]\n",
    "            infi=[min(sup(r[j])/i,infi[j]) for j in 1:2^N]\n",
    "            li=Tl\n",
    "        end\n",
    "        upLf[p]=maximum(infi)\n",
    "    end\n",
    "    lowLf=zeros(Float64,nbl)\n",
    "    for p in 1:nbl\n",
    "        l=premierl+(p-1)*pas\n",
    "        lbq=lowboundq(phi(l),T,n,N,false)\n",
    "        lowLf[p]=maximum([logdphiqbis(phi(l),orbx,lbq,N,epsi) for orbx in Orbite])\n",
    "    end\n",
    "    lowReg=upLf./(-lowLu)\n",
    "    upReg=lowLf./(-upLu)\n",
    "    if plt==true\n",
    "        L=[premierl + i*pas for i in 0:nbl-1]\n",
    "        p=scatter(L,upReg,color=:blue)\n",
    "        scatter!(p,L,lowReg,color=:red)\n",
    "        times=Dates.format(now(),\"yyyy-mm-dd_HH-MM-SS\")\n",
    "        savefig(homedir() * \"/Bureau/plot/\" * \"graphe_$times.png\")\n",
    "        display(p)\n",
    "    end\n",
    "    return lowReg,upReg\n",
    "end\n",
    "    "
   ]
  },
  {
   "cell_type": "code",
   "execution_count": 45,
   "id": "d8cfe3c7",
   "metadata": {},
   "outputs": [
    {
     "data": {
      "image/png": "[encoded data removed]",
      "image/svg+xml": [
       "<?xml version=\"1.0\" encoding=\"utf-8\"?>\n",
       "<svg xmlns=\"http://www.w3.org/2000/svg\" xmlns:xlink=\"http://www.w3.org/1999/xlink\" width=\"600\" height=\"400\" viewBox=\"0 0 2400 1600\">\n",
       "<defs>\n",
       "  <clipPath id=\"clip820\">\n",
       "    <rect x=\"0\" y=\"0\" width=\"2400\" height=\"1600\"/>\n",
       "  </clipPath>\n",
       "</defs>\n",
       "<path clip-path=\"url(#clip820)\" d=\"M0 1600 L2400 1600 L2400 0 L0 0  Z\" fill=\"#ffffff\" fill-rule=\"evenodd\" fill-opacity=\"1\"/>\n",
       "<defs>\n",
       "  <clipPath id=\"clip821\">\n",
       "    <rect x=\"480\" y=\"0\" width=\"1681\" height=\"1600\"/>\n",
       "  </clipPath>\n",
       "</defs>\n",
       "<path clip-path=\"url(#clip820)\" d=\"M156.598 1486.45 L2352.76 1486.45 L2352.76 47.2441 L156.598 47.2441  Z\" fill=\"#ffffff\" fill-rule=\"evenodd\" fill-opacity=\"1\"/>\n",
       "<defs>\n",
       "  <clipPath id=\"clip822\">\n",
       "    <rect x=\"156\" y=\"47\" width=\"2197\" height=\"1440\"/>\n",
       "  </clipPath>\n",
       "</defs>\n",
       "<polyline clip-path=\"url(#clip822)\" style=\"stroke:#000000; stroke-linecap:round; stroke-linejoin:round; stroke-width:2; stroke-opacity:0.1; fill:none\" points=\"218.754,1486.45 218.754,47.2441 \"/>\n",
       "<polyline clip-path=\"url(#clip822)\" style=\"stroke:#000000; stroke-linecap:round; stroke-linejoin:round; stroke-width:2; stroke-opacity:0.1; fill:none\" points=\"736.715,1486.45 736.715,47.2441 \"/>\n",
       "<polyline clip-path=\"url(#clip822)\" style=\"stroke:#000000; stroke-linecap:round; stroke-linejoin:round; stroke-width:2; stroke-opacity:0.1; fill:none\" points=\"1254.68,1486.45 1254.68,47.2441 \"/>\n",
       "<polyline clip-path=\"url(#clip822)\" style=\"stroke:#000000; stroke-linecap:round; stroke-linejoin:round; stroke-width:2; stroke-opacity:0.1; fill:none\" points=\"1772.64,1486.45 1772.64,47.2441 \"/>\n",
       "<polyline clip-path=\"url(#clip822)\" style=\"stroke:#000000; stroke-linecap:round; stroke-linejoin:round; stroke-width:2; stroke-opacity:0.1; fill:none\" points=\"2290.6,1486.45 2290.6,47.2441 \"/>\n",
       "<polyline clip-path=\"url(#clip822)\" style=\"stroke:#000000; stroke-linecap:round; stroke-linejoin:round; stroke-width:2; stroke-opacity:0.1; fill:none\" points=\"156.598,1445.72 2352.76,1445.72 \"/>\n",
       "<polyline clip-path=\"url(#clip822)\" style=\"stroke:#000000; stroke-linecap:round; stroke-linejoin:round; stroke-width:2; stroke-opacity:0.1; fill:none\" points=\"156.598,1174.44 2352.76,1174.44 \"/>\n",
       "<polyline clip-path=\"url(#clip822)\" style=\"stroke:#000000; stroke-linecap:round; stroke-linejoin:round; stroke-width:2; stroke-opacity:0.1; fill:none\" points=\"156.598,903.168 2352.76,903.168 \"/>\n",
       "<polyline clip-path=\"url(#clip822)\" style=\"stroke:#000000; stroke-linecap:round; stroke-linejoin:round; stroke-width:2; stroke-opacity:0.1; fill:none\" points=\"156.598,631.894 2352.76,631.894 \"/>\n",
       "<polyline clip-path=\"url(#clip822)\" style=\"stroke:#000000; stroke-linecap:round; stroke-linejoin:round; stroke-width:2; stroke-opacity:0.1; fill:none\" points=\"156.598,360.62 2352.76,360.62 \"/>\n",
       "<polyline clip-path=\"url(#clip822)\" style=\"stroke:#000000; stroke-linecap:round; stroke-linejoin:round; stroke-width:2; stroke-opacity:0.1; fill:none\" points=\"156.598,89.3456 2352.76,89.3456 \"/>\n",
       "<polyline clip-path=\"url(#clip820)\" style=\"stroke:#000000; stroke-linecap:round; stroke-linejoin:round; stroke-width:4; stroke-opacity:1; fill:none\" points=\"156.598,1486.45 2352.76,1486.45 \"/>\n",
       "<polyline clip-path=\"url(#clip820)\" style=\"stroke:#000000; stroke-linecap:round; stroke-linejoin:round; stroke-width:4; stroke-opacity:1; fill:none\" points=\"218.754,1486.45 218.754,1467.55 \"/>\n",
       "<polyline clip-path=\"url(#clip820)\" style=\"stroke:#000000; stroke-linecap:round; stroke-linejoin:round; stroke-width:4; stroke-opacity:1; fill:none\" points=\"736.715,1486.45 736.715,1467.55 \"/>\n",
       "<polyline clip-path=\"url(#clip820)\" style=\"stroke:#000000; stroke-linecap:round; stroke-linejoin:round; stroke-width:4; stroke-opacity:1; fill:none\" points=\"1254.68,1486.45 1254.68,1467.55 \"/>\n",
       "<polyline clip-path=\"url(#clip820)\" style=\"stroke:#000000; stroke-linecap:round; stroke-linejoin:round; stroke-width:4; stroke-opacity:1; fill:none\" points=\"1772.64,1486.45 1772.64,1467.55 \"/>\n",
       "<polyline clip-path=\"url(#clip820)\" style=\"stroke:#000000; stroke-linecap:round; stroke-linejoin:round; stroke-width:4; stroke-opacity:1; fill:none\" points=\"2290.6,1486.45 2290.6,1467.55 \"/>\n",
       "<path clip-path=\"url(#clip820)\" d=\"M181.057 1517.37 Q177.446 1517.37 175.617 1520.93 Q173.812 1524.47 173.812 1531.6 Q173.812 1538.71 175.617 1542.27 Q177.446 1545.82 181.057 1545.82 Q184.691 1545.82 186.497 1542.27 Q188.326 1538.71 188.326 1531.6 Q188.326 1524.47 186.497 1520.93 Q184.691 1517.37 181.057 1517.37 M181.057 1513.66 Q186.867 1513.66 189.923 1518.27 Q193.001 1522.85 193.001 1531.6 Q193.001 1540.33 189.923 1544.94 Q186.867 1549.52 181.057 1549.52 Q175.247 1549.52 172.168 1544.94 Q169.113 1540.33 169.113 1531.6 Q169.113 1522.85 172.168 1518.27 Q175.247 1513.66 181.057 1513.66 Z\" fill=\"#000000\" fill-rule=\"nonzero\" fill-opacity=\"1\" /><path clip-path=\"url(#clip820)\" d=\"M201.219 1542.97 L206.103 1542.97 L206.103 1548.85 L201.219 1548.85 L201.219 1542.97 Z\" fill=\"#000000\" fill-rule=\"nonzero\" fill-opacity=\"1\" /><path clip-path=\"url(#clip820)\" d=\"M226.867 1529.7 Q223.719 1529.7 221.867 1531.86 Q220.038 1534.01 220.038 1537.76 Q220.038 1541.49 221.867 1543.66 Q223.719 1545.82 226.867 1545.82 Q230.015 1545.82 231.844 1543.66 Q233.696 1541.49 233.696 1537.76 Q233.696 1534.01 231.844 1531.86 Q230.015 1529.7 226.867 1529.7 M236.149 1515.05 L236.149 1519.31 Q234.39 1518.48 232.585 1518.04 Q230.802 1517.6 229.043 1517.6 Q224.413 1517.6 221.96 1520.72 Q219.529 1523.85 219.182 1530.17 Q220.548 1528.15 222.608 1527.09 Q224.668 1526 227.145 1526 Q232.353 1526 235.362 1529.17 Q238.395 1532.32 238.395 1537.76 Q238.395 1543.08 235.247 1546.3 Q232.098 1549.52 226.867 1549.52 Q220.872 1549.52 217.7 1544.94 Q214.529 1540.33 214.529 1531.6 Q214.529 1523.41 218.418 1518.55 Q222.307 1513.66 228.858 1513.66 Q230.617 1513.66 232.399 1514.01 Q234.205 1514.36 236.149 1515.05 Z\" fill=\"#000000\" fill-rule=\"nonzero\" fill-opacity=\"1\" /><path clip-path=\"url(#clip820)\" d=\"M256.45 1517.37 Q252.839 1517.37 251.01 1520.93 Q249.205 1524.47 249.205 1531.6 Q249.205 1538.71 251.01 1542.27 Q252.839 1545.82 256.45 1545.82 Q260.084 1545.82 261.89 1542.27 Q263.719 1538.71 263.719 1531.6 Q263.719 1524.47 261.89 1520.93 Q260.084 1517.37 256.45 1517.37 M256.45 1513.66 Q262.26 1513.66 265.316 1518.27 Q268.395 1522.85 268.395 1531.6 Q268.395 1540.33 265.316 1544.94 Q262.26 1549.52 256.45 1549.52 Q250.64 1549.52 247.561 1544.94 Q244.506 1540.33 244.506 1531.6 Q244.506 1522.85 247.561 1518.27 Q250.64 1513.66 256.45 1513.66 Z\" fill=\"#000000\" fill-rule=\"nonzero\" fill-opacity=\"1\" /><path clip-path=\"url(#clip820)\" d=\"M699.516 1517.37 Q695.905 1517.37 694.077 1520.93 Q692.271 1524.47 692.271 1531.6 Q692.271 1538.71 694.077 1542.27 Q695.905 1545.82 699.516 1545.82 Q703.151 1545.82 704.956 1542.27 Q706.785 1538.71 706.785 1531.6 Q706.785 1524.47 704.956 1520.93 Q703.151 1517.37 699.516 1517.37 M699.516 1513.66 Q705.327 1513.66 708.382 1518.27 Q711.461 1522.85 711.461 1531.6 Q711.461 1540.33 708.382 1544.94 Q705.327 1549.52 699.516 1549.52 Q693.706 1549.52 690.628 1544.94 Q687.572 1540.33 687.572 1531.6 Q687.572 1522.85 690.628 1518.27 Q693.706 1513.66 699.516 1513.66 Z\" fill=\"#000000\" fill-rule=\"nonzero\" fill-opacity=\"1\" /><path clip-path=\"url(#clip820)\" d=\"M719.678 1542.97 L724.563 1542.97 L724.563 1548.85 L719.678 1548.85 L719.678 1542.97 Z\" fill=\"#000000\" fill-rule=\"nonzero\" fill-opacity=\"1\" /><path clip-path=\"url(#clip820)\" d=\"M745.326 1529.7 Q742.178 1529.7 740.326 1531.86 Q738.498 1534.01 738.498 1537.76 Q738.498 1541.49 740.326 1543.66 Q742.178 1545.82 745.326 1545.82 Q748.475 1545.82 750.303 1543.66 Q752.155 1541.49 752.155 1537.76 Q752.155 1534.01 750.303 1531.86 Q748.475 1529.7 745.326 1529.7 M754.609 1515.05 L754.609 1519.31 Q752.85 1518.48 751.044 1518.04 Q749.262 1517.6 747.502 1517.6 Q742.873 1517.6 740.419 1520.72 Q737.988 1523.85 737.641 1530.17 Q739.007 1528.15 741.067 1527.09 Q743.127 1526 745.604 1526 Q750.813 1526 753.822 1529.17 Q756.854 1532.32 756.854 1537.76 Q756.854 1543.08 753.706 1546.3 Q750.558 1549.52 745.326 1549.52 Q739.331 1549.52 736.16 1544.94 Q732.989 1540.33 732.989 1531.6 Q732.989 1523.41 736.877 1518.55 Q740.766 1513.66 747.317 1513.66 Q749.076 1513.66 750.859 1514.01 Q752.664 1514.36 754.609 1515.05 Z\" fill=\"#000000\" fill-rule=\"nonzero\" fill-opacity=\"1\" /><path clip-path=\"url(#clip820)\" d=\"M764.956 1514.29 L783.312 1514.29 L783.312 1518.22 L769.238 1518.22 L769.238 1526.7 Q770.257 1526.35 771.275 1526.19 Q772.294 1526 773.312 1526 Q779.099 1526 782.479 1529.17 Q785.859 1532.34 785.859 1537.76 Q785.859 1543.34 782.386 1546.44 Q778.914 1549.52 772.595 1549.52 Q770.419 1549.52 768.15 1549.15 Q765.905 1548.78 763.498 1548.04 L763.498 1543.34 Q765.581 1544.47 767.803 1545.03 Q770.025 1545.58 772.502 1545.58 Q776.507 1545.58 778.845 1543.48 Q781.183 1541.37 781.183 1537.76 Q781.183 1534.15 778.845 1532.04 Q776.507 1529.94 772.502 1529.94 Q770.627 1529.94 768.752 1530.35 Q766.9 1530.77 764.956 1531.65 L764.956 1514.29 Z\" fill=\"#000000\" fill-rule=\"nonzero\" fill-opacity=\"1\" /><path clip-path=\"url(#clip820)\" d=\"M1216.98 1517.37 Q1213.37 1517.37 1211.54 1520.93 Q1209.74 1524.47 1209.74 1531.6 Q1209.74 1538.71 1211.54 1542.27 Q1213.37 1545.82 1216.98 1545.82 Q1220.61 1545.82 1222.42 1542.27 Q1224.25 1538.71 1224.25 1531.6 Q1224.25 1524.47 1222.42 1520.93 Q1220.61 1517.37 1216.98 1517.37 M1216.98 1513.66 Q1222.79 1513.66 1225.85 1518.27 Q1228.92 1522.85 1228.92 1531.6 Q1228.92 1540.33 1225.85 1544.94 Q1222.79 1549.52 1216.98 1549.52 Q1211.17 1549.52 1208.09 1544.94 Q1205.04 1540.33 1205.04 1531.6 Q1205.04 1522.85 1208.09 1518.27 Q1211.17 1513.66 1216.98 1513.66 Z\" fill=\"#000000\" fill-rule=\"nonzero\" fill-opacity=\"1\" /><path clip-path=\"url(#clip820)\" d=\"M1237.14 1542.97 L1242.03 1542.97 L1242.03 1548.85 L1237.14 1548.85 L1237.14 1542.97 Z\" fill=\"#000000\" fill-rule=\"nonzero\" fill-opacity=\"1\" /><path clip-path=\"url(#clip820)\" d=\"M1251.03 1514.29 L1273.25 1514.29 L1273.25 1516.28 L1260.71 1548.85 L1255.82 1548.85 L1267.63 1518.22 L1251.03 1518.22 L1251.03 1514.29 Z\" fill=\"#000000\" fill-rule=\"nonzero\" fill-opacity=\"1\" /><path clip-path=\"url(#clip820)\" d=\"M1292.37 1517.37 Q1288.76 1517.37 1286.93 1520.93 Q1285.13 1524.47 1285.13 1531.6 Q1285.13 1538.71 1286.93 1542.27 Q1288.76 1545.82 1292.37 1545.82 Q1296.01 1545.82 1297.81 1542.27 Q1299.64 1538.71 1299.64 1531.6 Q1299.64 1524.47 1297.81 1520.93 Q1296.01 1517.37 1292.37 1517.37 M1292.37 1513.66 Q1298.18 1513.66 1301.24 1518.27 Q1304.32 1522.85 1304.32 1531.6 Q1304.32 1540.33 1301.24 1544.94 Q1298.18 1549.52 1292.37 1549.52 Q1286.56 1549.52 1283.48 1544.94 Q1280.43 1540.33 1280.43 1531.6 Q1280.43 1522.85 1283.48 1518.27 Q1286.56 1513.66 1292.37 1513.66 Z\" fill=\"#000000\" fill-rule=\"nonzero\" fill-opacity=\"1\" /><path clip-path=\"url(#clip820)\" d=\"M1735.44 1517.37 Q1731.83 1517.37 1730 1520.93 Q1728.19 1524.47 1728.19 1531.6 Q1728.19 1538.71 1730 1542.27 Q1731.83 1545.82 1735.44 1545.82 Q1739.07 1545.82 1740.88 1542.27 Q1742.71 1538.71 1742.71 1531.6 Q1742.71 1524.47 1740.88 1520.93 Q1739.07 1517.37 1735.44 1517.37 M1735.44 1513.66 Q1741.25 1513.66 1744.31 1518.27 Q1747.38 1522.85 1747.38 1531.6 Q1747.38 1540.33 1744.31 1544.94 Q1741.25 1549.52 1735.44 1549.52 Q1729.63 1549.52 1726.55 1544.94 Q1723.5 1540.33 1723.5 1531.6 Q1723.5 1522.85 1726.55 1518.27 Q1729.63 1513.66 1735.44 1513.66 Z\" fill=\"#000000\" fill-rule=\"nonzero\" fill-opacity=\"1\" /><path clip-path=\"url(#clip820)\" d=\"M1755.6 1542.97 L1760.49 1542.97 L1760.49 1548.85 L1755.6 1548.85 L1755.6 1542.97 Z\" fill=\"#000000\" fill-rule=\"nonzero\" fill-opacity=\"1\" /><path clip-path=\"url(#clip820)\" d=\"M1769.49 1514.29 L1791.71 1514.29 L1791.71 1516.28 L1779.17 1548.85 L1774.28 1548.85 L1786.09 1518.22 L1769.49 1518.22 L1769.49 1514.29 Z\" fill=\"#000000\" fill-rule=\"nonzero\" fill-opacity=\"1\" /><path clip-path=\"url(#clip820)\" d=\"M1800.88 1514.29 L1819.24 1514.29 L1819.24 1518.22 L1805.16 1518.22 L1805.16 1526.7 Q1806.18 1526.35 1807.2 1526.19 Q1808.22 1526 1809.24 1526 Q1815.02 1526 1818.4 1529.17 Q1821.78 1532.34 1821.78 1537.76 Q1821.78 1543.34 1818.31 1546.44 Q1814.84 1549.52 1808.52 1549.52 Q1806.34 1549.52 1804.07 1549.15 Q1801.83 1548.78 1799.42 1548.04 L1799.42 1543.34 Q1801.5 1544.47 1803.73 1545.03 Q1805.95 1545.58 1808.43 1545.58 Q1812.43 1545.58 1814.77 1543.48 Q1817.11 1541.37 1817.11 1537.76 Q1817.11 1534.15 1814.77 1532.04 Q1812.43 1529.94 1808.43 1529.94 Q1806.55 1529.94 1804.68 1530.35 Q1802.82 1530.77 1800.88 1531.65 L1800.88 1514.29 Z\" fill=\"#000000\" fill-rule=\"nonzero\" fill-opacity=\"1\" /><path clip-path=\"url(#clip820)\" d=\"M2252.9 1517.37 Q2249.29 1517.37 2247.46 1520.93 Q2245.66 1524.47 2245.66 1531.6 Q2245.66 1538.71 2247.46 1542.27 Q2249.29 1545.82 2252.9 1545.82 Q2256.54 1545.82 2258.34 1542.27 Q2260.17 1538.71 2260.17 1531.6 Q2260.17 1524.47 2258.34 1520.93 Q2256.54 1517.37 2252.9 1517.37 M2252.9 1513.66 Q2258.71 1513.66 2261.77 1518.27 Q2264.85 1522.85 2264.85 1531.6 Q2264.85 1540.33 2261.77 1544.94 Q2258.71 1549.52 2252.9 1549.52 Q2247.09 1549.52 2244.02 1544.94 Q2240.96 1540.33 2240.96 1531.6 Q2240.96 1522.85 2244.02 1518.27 Q2247.09 1513.66 2252.9 1513.66 Z\" fill=\"#000000\" fill-rule=\"nonzero\" fill-opacity=\"1\" /><path clip-path=\"url(#clip820)\" d=\"M2273.07 1542.97 L2277.95 1542.97 L2277.95 1548.85 L2273.07 1548.85 L2273.07 1542.97 Z\" fill=\"#000000\" fill-rule=\"nonzero\" fill-opacity=\"1\" /><path clip-path=\"url(#clip820)\" d=\"M2298.14 1532.44 Q2294.8 1532.44 2292.88 1534.22 Q2290.98 1536 2290.98 1539.13 Q2290.98 1542.25 2292.88 1544.03 Q2294.8 1545.82 2298.14 1545.82 Q2301.47 1545.82 2303.39 1544.03 Q2305.31 1542.23 2305.31 1539.13 Q2305.31 1536 2303.39 1534.22 Q2301.49 1532.44 2298.14 1532.44 M2293.46 1530.45 Q2290.45 1529.7 2288.76 1527.64 Q2287.09 1525.58 2287.09 1522.62 Q2287.09 1518.48 2290.03 1516.07 Q2293 1513.66 2298.14 1513.66 Q2303.3 1513.66 2306.24 1516.07 Q2309.18 1518.48 2309.18 1522.62 Q2309.18 1525.58 2307.49 1527.64 Q2305.82 1529.7 2302.83 1530.45 Q2306.21 1531.23 2308.09 1533.52 Q2309.99 1535.82 2309.99 1539.13 Q2309.99 1544.15 2306.91 1546.83 Q2303.85 1549.52 2298.14 1549.52 Q2292.42 1549.52 2289.34 1546.83 Q2286.28 1544.15 2286.28 1539.13 Q2286.28 1535.82 2288.18 1533.52 Q2290.08 1531.23 2293.46 1530.45 M2291.75 1523.06 Q2291.75 1525.75 2293.41 1527.25 Q2295.1 1528.76 2298.14 1528.76 Q2301.14 1528.76 2302.83 1527.25 Q2304.55 1525.75 2304.55 1523.06 Q2304.55 1520.38 2302.83 1518.87 Q2301.14 1517.37 2298.14 1517.37 Q2295.1 1517.37 2293.41 1518.87 Q2291.75 1520.38 2291.75 1523.06 Z\" fill=\"#000000\" fill-rule=\"nonzero\" fill-opacity=\"1\" /><path clip-path=\"url(#clip820)\" d=\"M2328.3 1517.37 Q2324.69 1517.37 2322.86 1520.93 Q2321.05 1524.47 2321.05 1531.6 Q2321.05 1538.71 2322.86 1542.27 Q2324.69 1545.82 2328.3 1545.82 Q2331.93 1545.82 2333.74 1542.27 Q2335.57 1538.71 2335.57 1531.6 Q2335.57 1524.47 2333.74 1520.93 Q2331.93 1517.37 2328.3 1517.37 M2328.3 1513.66 Q2334.11 1513.66 2337.16 1518.27 Q2340.24 1522.85 2340.24 1531.6 Q2340.24 1540.33 2337.16 1544.94 Q2334.11 1549.52 2328.3 1549.52 Q2322.49 1549.52 2319.41 1544.94 Q2316.35 1540.33 2316.35 1531.6 Q2316.35 1522.85 2319.41 1518.27 Q2322.49 1513.66 2328.3 1513.66 Z\" fill=\"#000000\" fill-rule=\"nonzero\" fill-opacity=\"1\" /><polyline clip-path=\"url(#clip820)\" style=\"stroke:#000000; stroke-linecap:round; stroke-linejoin:round; stroke-width:4; stroke-opacity:1; fill:none\" points=\"156.598,1486.45 156.598,47.2441 \"/>\n",
       "<polyline clip-path=\"url(#clip820)\" style=\"stroke:#000000; stroke-linecap:round; stroke-linejoin:round; stroke-width:4; stroke-opacity:1; fill:none\" points=\"156.598,1445.72 175.496,1445.72 \"/>\n",
       "<polyline clip-path=\"url(#clip820)\" style=\"stroke:#000000; stroke-linecap:round; stroke-linejoin:round; stroke-width:4; stroke-opacity:1; fill:none\" points=\"156.598,1174.44 175.496,1174.44 \"/>\n",
       "<polyline clip-path=\"url(#clip820)\" style=\"stroke:#000000; stroke-linecap:round; stroke-linejoin:round; stroke-width:4; stroke-opacity:1; fill:none\" points=\"156.598,903.168 175.496,903.168 \"/>\n",
       "<polyline clip-path=\"url(#clip820)\" style=\"stroke:#000000; stroke-linecap:round; stroke-linejoin:round; stroke-width:4; stroke-opacity:1; fill:none\" points=\"156.598,631.894 175.496,631.894 \"/>\n",
       "<polyline clip-path=\"url(#clip820)\" style=\"stroke:#000000; stroke-linecap:round; stroke-linejoin:round; stroke-width:4; stroke-opacity:1; fill:none\" points=\"156.598,360.62 175.496,360.62 \"/>\n",
       "<polyline clip-path=\"url(#clip820)\" style=\"stroke:#000000; stroke-linecap:round; stroke-linejoin:round; stroke-width:4; stroke-opacity:1; fill:none\" points=\"156.598,89.3456 175.496,89.3456 \"/>\n",
       "<path clip-path=\"url(#clip820)\" d=\"M63.4226 1431.51 Q59.8115 1431.51 57.9828 1435.08 Q56.1773 1438.62 56.1773 1445.75 Q56.1773 1452.86 57.9828 1456.42 Q59.8115 1459.96 63.4226 1459.96 Q67.0569 1459.96 68.8624 1456.42 Q70.6911 1452.86 70.6911 1445.75 Q70.6911 1438.62 68.8624 1435.08 Q67.0569 1431.51 63.4226 1431.51 M63.4226 1427.81 Q69.2328 1427.81 72.2883 1432.42 Q75.367 1437 75.367 1445.75 Q75.367 1454.48 72.2883 1459.08 Q69.2328 1463.67 63.4226 1463.67 Q57.6125 1463.67 54.5338 1459.08 Q51.4782 1454.48 51.4782 1445.75 Q51.4782 1437 54.5338 1432.42 Q57.6125 1427.81 63.4226 1427.81 Z\" fill=\"#000000\" fill-rule=\"nonzero\" fill-opacity=\"1\" /><path clip-path=\"url(#clip820)\" d=\"M83.5845 1457.12 L88.4688 1457.12 L88.4688 1463 L83.5845 1463 L83.5845 1457.12 Z\" fill=\"#000000\" fill-rule=\"nonzero\" fill-opacity=\"1\" /><path clip-path=\"url(#clip820)\" d=\"M108.654 1431.51 Q105.043 1431.51 103.214 1435.08 Q101.409 1438.62 101.409 1445.75 Q101.409 1452.86 103.214 1456.42 Q105.043 1459.96 108.654 1459.96 Q112.288 1459.96 114.094 1456.42 Q115.922 1452.86 115.922 1445.75 Q115.922 1438.62 114.094 1435.08 Q112.288 1431.51 108.654 1431.51 M108.654 1427.81 Q114.464 1427.81 117.52 1432.42 Q120.598 1437 120.598 1445.75 Q120.598 1454.48 117.52 1459.08 Q114.464 1463.67 108.654 1463.67 Q102.844 1463.67 99.765 1459.08 Q96.7095 1454.48 96.7095 1445.75 Q96.7095 1437 99.765 1432.42 Q102.844 1427.81 108.654 1427.81 Z\" fill=\"#000000\" fill-rule=\"nonzero\" fill-opacity=\"1\" /><path clip-path=\"url(#clip820)\" d=\"M64.6495 1160.24 Q61.0384 1160.24 59.2097 1163.81 Q57.4041 1167.35 57.4041 1174.48 Q57.4041 1181.58 59.2097 1185.15 Q61.0384 1188.69 64.6495 1188.69 Q68.2837 1188.69 70.0892 1185.15 Q71.9179 1181.58 71.9179 1174.48 Q71.9179 1167.35 70.0892 1163.81 Q68.2837 1160.24 64.6495 1160.24 M64.6495 1156.54 Q70.4596 1156.54 73.5152 1161.14 Q76.5938 1165.73 76.5938 1174.48 Q76.5938 1183.2 73.5152 1187.81 Q70.4596 1192.39 64.6495 1192.39 Q58.8393 1192.39 55.7606 1187.81 Q52.7051 1183.2 52.7051 1174.48 Q52.7051 1165.73 55.7606 1161.14 Q58.8393 1156.54 64.6495 1156.54 Z\" fill=\"#000000\" fill-rule=\"nonzero\" fill-opacity=\"1\" /><path clip-path=\"url(#clip820)\" d=\"M84.8114 1185.84 L89.6956 1185.84 L89.6956 1191.72 L84.8114 1191.72 L84.8114 1185.84 Z\" fill=\"#000000\" fill-rule=\"nonzero\" fill-opacity=\"1\" /><path clip-path=\"url(#clip820)\" d=\"M100.691 1187.79 L108.33 1187.79 L108.33 1161.42 L100.02 1163.09 L100.02 1158.83 L108.283 1157.16 L112.959 1157.16 L112.959 1187.79 L120.598 1187.79 L120.598 1191.72 L100.691 1191.72 L100.691 1187.79 Z\" fill=\"#000000\" fill-rule=\"nonzero\" fill-opacity=\"1\" /><path clip-path=\"url(#clip820)\" d=\"M65.0198 888.966 Q61.4087 888.966 59.58 892.531 Q57.7745 896.073 57.7745 903.202 Q57.7745 910.309 59.58 913.874 Q61.4087 917.415 65.0198 917.415 Q68.6541 917.415 70.4596 913.874 Q72.2883 910.309 72.2883 903.202 Q72.2883 896.073 70.4596 892.531 Q68.6541 888.966 65.0198 888.966 M65.0198 885.263 Q70.83 885.263 73.8855 889.869 Q76.9642 894.452 76.9642 903.202 Q76.9642 911.929 73.8855 916.536 Q70.83 921.119 65.0198 921.119 Q59.2097 921.119 56.131 916.536 Q53.0754 911.929 53.0754 903.202 Q53.0754 894.452 56.131 889.869 Q59.2097 885.263 65.0198 885.263 Z\" fill=\"#000000\" fill-rule=\"nonzero\" fill-opacity=\"1\" /><path clip-path=\"url(#clip820)\" d=\"M85.1818 914.568 L90.066 914.568 L90.066 920.448 L85.1818 920.448 L85.1818 914.568 Z\" fill=\"#000000\" fill-rule=\"nonzero\" fill-opacity=\"1\" /><path clip-path=\"url(#clip820)\" d=\"M104.279 916.512 L120.598 916.512 L120.598 920.448 L98.6539 920.448 L98.6539 916.512 Q101.316 913.758 105.899 909.128 Q110.506 904.476 111.686 903.133 Q113.932 900.61 114.811 898.874 Q115.714 897.114 115.714 895.425 Q115.714 892.67 113.77 890.934 Q111.848 889.198 108.746 889.198 Q106.547 889.198 104.094 889.962 Q101.663 890.726 98.8854 892.276 L98.8854 887.554 Q101.709 886.42 104.163 885.841 Q106.617 885.263 108.654 885.263 Q114.024 885.263 117.219 887.948 Q120.413 890.633 120.413 895.124 Q120.413 897.253 119.603 899.175 Q118.816 901.073 116.709 903.665 Q116.131 904.337 113.029 907.554 Q109.927 910.749 104.279 916.512 Z\" fill=\"#000000\" fill-rule=\"nonzero\" fill-opacity=\"1\" /><path clip-path=\"url(#clip820)\" d=\"M64.0708 617.692 Q60.4597 617.692 58.631 621.257 Q56.8254 624.799 56.8254 631.928 Q56.8254 639.035 58.631 642.6 Q60.4597 646.141 64.0708 646.141 Q67.705 646.141 69.5105 642.6 Q71.3392 639.035 71.3392 631.928 Q71.3392 624.799 69.5105 621.257 Q67.705 617.692 64.0708 617.692 M64.0708 613.989 Q69.8809 613.989 72.9365 618.595 Q76.0151 623.178 76.0151 631.928 Q76.0151 640.655 72.9365 645.262 Q69.8809 649.845 64.0708 649.845 Q58.2606 649.845 55.1819 645.262 Q52.1264 640.655 52.1264 631.928 Q52.1264 623.178 55.1819 618.595 Q58.2606 613.989 64.0708 613.989 Z\" fill=\"#000000\" fill-rule=\"nonzero\" fill-opacity=\"1\" /><path clip-path=\"url(#clip820)\" d=\"M84.2327 643.294 L89.1169 643.294 L89.1169 649.174 L84.2327 649.174 L84.2327 643.294 Z\" fill=\"#000000\" fill-rule=\"nonzero\" fill-opacity=\"1\" /><path clip-path=\"url(#clip820)\" d=\"M113.469 630.539 Q116.825 631.257 118.7 633.526 Q120.598 635.794 120.598 639.127 Q120.598 644.243 117.08 647.044 Q113.561 649.845 107.08 649.845 Q104.904 649.845 102.589 649.405 Q100.297 648.988 97.8437 648.132 L97.8437 643.618 Q99.7882 644.752 102.103 645.331 Q104.418 645.91 106.941 645.91 Q111.339 645.91 113.631 644.174 Q115.945 642.438 115.945 639.127 Q115.945 636.072 113.793 634.359 Q111.663 632.623 107.844 632.623 L103.816 632.623 L103.816 628.78 L108.029 628.78 Q111.478 628.78 113.307 627.414 Q115.135 626.026 115.135 623.433 Q115.135 620.771 113.237 619.359 Q111.362 617.924 107.844 617.924 Q105.922 617.924 103.723 618.34 Q101.524 618.757 98.8854 619.637 L98.8854 615.47 Q101.547 614.729 103.862 614.359 Q106.2 613.989 108.26 613.989 Q113.584 613.989 116.686 616.419 Q119.788 618.827 119.788 622.947 Q119.788 625.817 118.145 627.808 Q116.501 629.776 113.469 630.539 Z\" fill=\"#000000\" fill-rule=\"nonzero\" fill-opacity=\"1\" /><path clip-path=\"url(#clip820)\" d=\"M62.9365 346.418 Q59.3254 346.418 57.4967 349.983 Q55.6912 353.525 55.6912 360.654 Q55.6912 367.761 57.4967 371.326 Q59.3254 374.867 62.9365 374.867 Q66.5707 374.867 68.3763 371.326 Q70.205 367.761 70.205 360.654 Q70.205 353.525 68.3763 349.983 Q66.5707 346.418 62.9365 346.418 M62.9365 342.715 Q68.7467 342.715 71.8022 347.321 Q74.8809 351.904 74.8809 360.654 Q74.8809 369.381 71.8022 373.988 Q68.7467 378.571 62.9365 378.571 Q57.1264 378.571 54.0477 373.988 Q50.9921 369.381 50.9921 360.654 Q50.9921 351.904 54.0477 347.321 Q57.1264 342.715 62.9365 342.715 Z\" fill=\"#000000\" fill-rule=\"nonzero\" fill-opacity=\"1\" /><path clip-path=\"url(#clip820)\" d=\"M83.0984 372.02 L87.9827 372.02 L87.9827 377.9 L83.0984 377.9 L83.0984 372.02 Z\" fill=\"#000000\" fill-rule=\"nonzero\" fill-opacity=\"1\" /><path clip-path=\"url(#clip820)\" d=\"M111.015 347.414 L99.2095 365.863 L111.015 365.863 L111.015 347.414 M109.788 343.34 L115.668 343.34 L115.668 365.863 L120.598 365.863 L120.598 369.751 L115.668 369.751 L115.668 377.9 L111.015 377.9 L111.015 369.751 L95.4132 369.751 L95.4132 365.238 L109.788 343.34 Z\" fill=\"#000000\" fill-rule=\"nonzero\" fill-opacity=\"1\" /><path clip-path=\"url(#clip820)\" d=\"M64.418 75.1443 Q60.8069 75.1443 58.9782 78.7091 Q57.1726 82.2507 57.1726 89.3803 Q57.1726 96.4867 58.9782 100.052 Q60.8069 103.593 64.418 103.593 Q68.0522 103.593 69.8578 100.052 Q71.6865 96.4867 71.6865 89.3803 Q71.6865 82.2507 69.8578 78.7091 Q68.0522 75.1443 64.418 75.1443 M64.418 71.4406 Q70.2281 71.4406 73.2837 76.047 Q76.3624 80.6303 76.3624 89.3803 Q76.3624 98.1071 73.2837 102.714 Q70.2281 107.297 64.418 107.297 Q58.6078 107.297 55.5291 102.714 Q52.4736 98.1071 52.4736 89.3803 Q52.4736 80.6303 55.5291 76.047 Q58.6078 71.4406 64.418 71.4406 Z\" fill=\"#000000\" fill-rule=\"nonzero\" fill-opacity=\"1\" /><path clip-path=\"url(#clip820)\" d=\"M84.5799 100.746 L89.4641 100.746 L89.4641 106.626 L84.5799 106.626 L84.5799 100.746 Z\" fill=\"#000000\" fill-rule=\"nonzero\" fill-opacity=\"1\" /><path clip-path=\"url(#clip820)\" d=\"M99.6956 72.0656 L118.052 72.0656 L118.052 76.0007 L103.978 76.0007 L103.978 84.4729 Q104.996 84.1257 106.015 83.9637 Q107.033 83.7785 108.052 83.7785 Q113.839 83.7785 117.219 86.9498 Q120.598 90.121 120.598 95.5377 Q120.598 101.116 117.126 104.218 Q113.654 107.297 107.334 107.297 Q105.159 107.297 102.89 106.926 Q100.645 106.556 98.2372 105.815 L98.2372 101.116 Q100.321 102.251 102.543 102.806 Q104.765 103.362 107.242 103.362 Q111.246 103.362 113.584 101.255 Q115.922 99.1488 115.922 95.5377 Q115.922 91.9266 113.584 89.8201 Q111.246 87.7136 107.242 87.7136 Q105.367 87.7136 103.492 88.1303 Q101.64 88.547 99.6956 89.4266 L99.6956 72.0656 Z\" fill=\"#000000\" fill-rule=\"nonzero\" fill-opacity=\"1\" /><circle clip-path=\"url(#clip822)\" cx=\"218.754\" cy=\"738.176\" r=\"14.4\" fill=\"#0000ff\" fill-rule=\"evenodd\" fill-opacity=\"1\" stroke=\"#000000\" stroke-opacity=\"1\" stroke-width=\"3.2\"/>\n",
       "<circle clip-path=\"url(#clip822)\" cx=\"1254.68\" cy=\"474.941\" r=\"14.4\" fill=\"#0000ff\" fill-rule=\"evenodd\" fill-opacity=\"1\" stroke=\"#000000\" stroke-opacity=\"1\" stroke-width=\"3.2\"/>\n",
       "<circle clip-path=\"url(#clip822)\" cx=\"2290.6\" cy=\"87.9763\" r=\"14.4\" fill=\"#0000ff\" fill-rule=\"evenodd\" fill-opacity=\"1\" stroke=\"#000000\" stroke-opacity=\"1\" stroke-width=\"3.2\"/>\n",
       "<circle clip-path=\"url(#clip822)\" cx=\"218.754\" cy=\"1445.72\" r=\"14.4\" fill=\"#ff0000\" fill-rule=\"evenodd\" fill-opacity=\"1\" stroke=\"#000000\" stroke-opacity=\"1\" stroke-width=\"3.2\"/>\n",
       "<circle clip-path=\"url(#clip822)\" cx=\"1254.68\" cy=\"915.154\" r=\"14.4\" fill=\"#ff0000\" fill-rule=\"evenodd\" fill-opacity=\"1\" stroke=\"#000000\" stroke-opacity=\"1\" stroke-width=\"3.2\"/>\n",
       "<circle clip-path=\"url(#clip822)\" cx=\"2290.6\" cy=\"181.897\" r=\"14.4\" fill=\"#ff0000\" fill-rule=\"evenodd\" fill-opacity=\"1\" stroke=\"#000000\" stroke-opacity=\"1\" stroke-width=\"3.2\"/>\n",
       "<path clip-path=\"url(#clip820)\" d=\"M229.803 250.738 L501.85 250.738 L501.85 95.2176 L229.803 95.2176  Z\" fill=\"#ffffff\" fill-rule=\"evenodd\" fill-opacity=\"1\"/>\n",
       "<polyline clip-path=\"url(#clip820)\" style=\"stroke:#000000; stroke-linecap:round; stroke-linejoin:round; stroke-width:4; stroke-opacity:1; fill:none\" points=\"229.803,250.738 501.85,250.738 501.85,95.2176 229.803,95.2176 229.803,250.738 \"/>\n",
       "<circle clip-path=\"url(#clip820)\" cx=\"327.41\" cy=\"147.058\" r=\"20.48\" fill=\"#0000ff\" fill-rule=\"evenodd\" fill-opacity=\"1\" stroke=\"#000000\" stroke-opacity=\"1\" stroke-width=\"4.55111\"/>\n",
       "<path clip-path=\"url(#clip820)\" d=\"M438.86 166.745 Q437.054 171.375 435.342 172.787 Q433.629 174.199 430.758 174.199 L427.355 174.199 L427.355 170.634 L429.855 170.634 Q431.615 170.634 432.587 169.8 Q433.559 168.967 434.74 165.865 L435.504 163.921 L425.018 138.412 L429.531 138.412 L437.633 158.689 L445.735 138.412 L450.249 138.412 L438.86 166.745 Z\" fill=\"#000000\" fill-rule=\"nonzero\" fill-opacity=\"1\" /><path clip-path=\"url(#clip820)\" d=\"M457.54 160.402 L465.179 160.402 L465.179 134.037 L456.869 135.703 L456.869 131.444 L465.133 129.778 L469.809 129.778 L469.809 160.402 L477.448 160.402 L477.448 164.338 L457.54 164.338 L457.54 160.402 Z\" fill=\"#000000\" fill-rule=\"nonzero\" fill-opacity=\"1\" /><circle clip-path=\"url(#clip820)\" cx=\"327.41\" cy=\"198.898\" r=\"20.48\" fill=\"#ff0000\" fill-rule=\"evenodd\" fill-opacity=\"1\" stroke=\"#000000\" stroke-opacity=\"1\" stroke-width=\"4.55111\"/>\n",
       "<path clip-path=\"url(#clip820)\" d=\"M438.86 218.585 Q437.054 223.215 435.342 224.627 Q433.629 226.039 430.758 226.039 L427.355 226.039 L427.355 222.474 L429.855 222.474 Q431.615 222.474 432.587 221.64 Q433.559 220.807 434.74 217.705 L435.504 215.761 L425.018 190.252 L429.531 190.252 L437.633 210.529 L445.735 190.252 L450.249 190.252 L438.86 218.585 Z\" fill=\"#000000\" fill-rule=\"nonzero\" fill-opacity=\"1\" /><path clip-path=\"url(#clip820)\" d=\"M460.758 212.242 L477.077 212.242 L477.077 216.178 L455.133 216.178 L455.133 212.242 Q457.795 209.488 462.378 204.858 Q466.985 200.205 468.165 198.863 Q470.411 196.34 471.29 194.604 Q472.193 192.844 472.193 191.155 Q472.193 188.4 470.249 186.664 Q468.327 184.928 465.226 184.928 Q463.027 184.928 460.573 185.692 Q458.142 186.455 455.365 188.006 L455.365 183.284 Q458.189 182.15 460.642 181.571 Q463.096 180.993 465.133 180.993 Q470.503 180.993 473.698 183.678 Q476.892 186.363 476.892 190.854 Q476.892 192.983 476.082 194.905 Q475.295 196.803 473.189 199.395 Q472.61 200.067 469.508 203.284 Q466.406 206.479 460.758 212.242 Z\" fill=\"#000000\" fill-rule=\"nonzero\" fill-opacity=\"1\" /></svg>\n"
      ],
      "text/html": [
       "<?xml version=\"1.0\" encoding=\"utf-8\"?>\n",
       "<svg xmlns=\"http://www.w3.org/2000/svg\" xmlns:xlink=\"http://www.w3.org/1999/xlink\" width=\"600\" height=\"400\" viewBox=\"0 0 2400 1600\">\n",
       "<defs>\n",
       "  <clipPath id=\"clip870\">\n",
       "    <rect x=\"0\" y=\"0\" width=\"2400\" height=\"1600\"/>\n",
       "  </clipPath>\n",
       "</defs>\n",
       "<path clip-path=\"url(#clip870)\" d=\"M0 1600 L2400 1600 L2400 0 L0 0  Z\" fill=\"#ffffff\" fill-rule=\"evenodd\" fill-opacity=\"1\"/>\n",
       "<defs>\n",
       "  <clipPath id=\"clip871\">\n",
       "    <rect x=\"480\" y=\"0\" width=\"1681\" height=\"1600\"/>\n",
       "  </clipPath>\n",
       "</defs>\n",
       "<path clip-path=\"url(#clip870)\" d=\"M156.598 1486.45 L2352.76 1486.45 L2352.76 47.2441 L156.598 47.2441  Z\" fill=\"#ffffff\" fill-rule=\"evenodd\" fill-opacity=\"1\"/>\n",
       "<defs>\n",
       "  <clipPath id=\"clip872\">\n",
       "    <rect x=\"156\" y=\"47\" width=\"2197\" height=\"1440\"/>\n",
       "  </clipPath>\n",
       "</defs>\n",
       "<polyline clip-path=\"url(#clip872)\" style=\"stroke:#000000; stroke-linecap:round; stroke-linejoin:round; stroke-width:2; stroke-opacity:0.1; fill:none\" points=\"218.754,1486.45 218.754,47.2441 \"/>\n",
       "<polyline clip-path=\"url(#clip872)\" style=\"stroke:#000000; stroke-linecap:round; stroke-linejoin:round; stroke-width:2; stroke-opacity:0.1; fill:none\" points=\"736.715,1486.45 736.715,47.2441 \"/>\n",
       "<polyline clip-path=\"url(#clip872)\" style=\"stroke:#000000; stroke-linecap:round; stroke-linejoin:round; stroke-width:2; stroke-opacity:0.1; fill:none\" points=\"1254.68,1486.45 1254.68,47.2441 \"/>\n",
       "<polyline clip-path=\"url(#clip872)\" style=\"stroke:#000000; stroke-linecap:round; stroke-linejoin:round; stroke-width:2; stroke-opacity:0.1; fill:none\" points=\"1772.64,1486.45 1772.64,47.2441 \"/>\n",
       "<polyline clip-path=\"url(#clip872)\" style=\"stroke:#000000; stroke-linecap:round; stroke-linejoin:round; stroke-width:2; stroke-opacity:0.1; fill:none\" points=\"2290.6,1486.45 2290.6,47.2441 \"/>\n",
       "<polyline clip-path=\"url(#clip872)\" style=\"stroke:#000000; stroke-linecap:round; stroke-linejoin:round; stroke-width:2; stroke-opacity:0.1; fill:none\" points=\"156.598,1445.72 2352.76,1445.72 \"/>\n",
       "<polyline clip-path=\"url(#clip872)\" style=\"stroke:#000000; stroke-linecap:round; stroke-linejoin:round; stroke-width:2; stroke-opacity:0.1; fill:none\" points=\"156.598,1174.44 2352.76,1174.44 \"/>\n",
       "<polyline clip-path=\"url(#clip872)\" style=\"stroke:#000000; stroke-linecap:round; stroke-linejoin:round; stroke-width:2; stroke-opacity:0.1; fill:none\" points=\"156.598,903.168 2352.76,903.168 \"/>\n",
       "<polyline clip-path=\"url(#clip872)\" style=\"stroke:#000000; stroke-linecap:round; stroke-linejoin:round; stroke-width:2; stroke-opacity:0.1; fill:none\" points=\"156.598,631.894 2352.76,631.894 \"/>\n",
       "<polyline clip-path=\"url(#clip872)\" style=\"stroke:#000000; stroke-linecap:round; stroke-linejoin:round; stroke-width:2; stroke-opacity:0.1; fill:none\" points=\"156.598,360.62 2352.76,360.62 \"/>\n",
       "<polyline clip-path=\"url(#clip872)\" style=\"stroke:#000000; stroke-linecap:round; stroke-linejoin:round; stroke-width:2; stroke-opacity:0.1; fill:none\" points=\"156.598,89.3456 2352.76,89.3456 \"/>\n",
       "<polyline clip-path=\"url(#clip870)\" style=\"stroke:#000000; stroke-linecap:round; stroke-linejoin:round; stroke-width:4; stroke-opacity:1; fill:none\" points=\"156.598,1486.45 2352.76,1486.45 \"/>\n",
       "<polyline clip-path=\"url(#clip870)\" style=\"stroke:#000000; stroke-linecap:round; stroke-linejoin:round; stroke-width:4; stroke-opacity:1; fill:none\" points=\"218.754,1486.45 218.754,1467.55 \"/>\n",
       "<polyline clip-path=\"url(#clip870)\" style=\"stroke:#000000; stroke-linecap:round; stroke-linejoin:round; stroke-width:4; stroke-opacity:1; fill:none\" points=\"736.715,1486.45 736.715,1467.55 \"/>\n",
       "<polyline clip-path=\"url(#clip870)\" style=\"stroke:#000000; stroke-linecap:round; stroke-linejoin:round; stroke-width:4; stroke-opacity:1; fill:none\" points=\"1254.68,1486.45 1254.68,1467.55 \"/>\n",
       "<polyline clip-path=\"url(#clip870)\" style=\"stroke:#000000; stroke-linecap:round; stroke-linejoin:round; stroke-width:4; stroke-opacity:1; fill:none\" points=\"1772.64,1486.45 1772.64,1467.55 \"/>\n",
       "<polyline clip-path=\"url(#clip870)\" style=\"stroke:#000000; stroke-linecap:round; stroke-linejoin:round; stroke-width:4; stroke-opacity:1; fill:none\" points=\"2290.6,1486.45 2290.6,1467.55 \"/>\n",
       "<path clip-path=\"url(#clip870)\" d=\"M181.057 1517.37 Q177.446 1517.37 175.617 1520.93 Q173.812 1524.47 173.812 1531.6 Q173.812 1538.71 175.617 1542.27 Q177.446 1545.82 181.057 1545.82 Q184.691 1545.82 186.497 1542.27 Q188.326 1538.71 188.326 1531.6 Q188.326 1524.47 186.497 1520.93 Q184.691 1517.37 181.057 1517.37 M181.057 1513.66 Q186.867 1513.66 189.923 1518.27 Q193.001 1522.85 193.001 1531.6 Q193.001 1540.33 189.923 1544.94 Q186.867 1549.52 181.057 1549.52 Q175.247 1549.52 172.168 1544.94 Q169.113 1540.33 169.113 1531.6 Q169.113 1522.85 172.168 1518.27 Q175.247 1513.66 181.057 1513.66 Z\" fill=\"#000000\" fill-rule=\"nonzero\" fill-opacity=\"1\" /><path clip-path=\"url(#clip870)\" d=\"M201.219 1542.97 L206.103 1542.97 L206.103 1548.85 L201.219 1548.85 L201.219 1542.97 Z\" fill=\"#000000\" fill-rule=\"nonzero\" fill-opacity=\"1\" /><path clip-path=\"url(#clip870)\" d=\"M226.867 1529.7 Q223.719 1529.7 221.867 1531.86 Q220.038 1534.01 220.038 1537.76 Q220.038 1541.49 221.867 1543.66 Q223.719 1545.82 226.867 1545.82 Q230.015 1545.82 231.844 1543.66 Q233.696 1541.49 233.696 1537.76 Q233.696 1534.01 231.844 1531.86 Q230.015 1529.7 226.867 1529.7 M236.149 1515.05 L236.149 1519.31 Q234.39 1518.48 232.585 1518.04 Q230.802 1517.6 229.043 1517.6 Q224.413 1517.6 221.96 1520.72 Q219.529 1523.85 219.182 1530.17 Q220.548 1528.15 222.608 1527.09 Q224.668 1526 227.145 1526 Q232.353 1526 235.362 1529.17 Q238.395 1532.32 238.395 1537.76 Q238.395 1543.08 235.247 1546.3 Q232.098 1549.52 226.867 1549.52 Q220.872 1549.52 217.7 1544.94 Q214.529 1540.33 214.529 1531.6 Q214.529 1523.41 218.418 1518.55 Q222.307 1513.66 228.858 1513.66 Q230.617 1513.66 232.399 1514.01 Q234.205 1514.36 236.149 1515.05 Z\" fill=\"#000000\" fill-rule=\"nonzero\" fill-opacity=\"1\" /><path clip-path=\"url(#clip870)\" d=\"M256.45 1517.37 Q252.839 1517.37 251.01 1520.93 Q249.205 1524.47 249.205 1531.6 Q249.205 1538.71 251.01 1542.27 Q252.839 1545.82 256.45 1545.82 Q260.084 1545.82 261.89 1542.27 Q263.719 1538.71 263.719 1531.6 Q263.719 1524.47 261.89 1520.93 Q260.084 1517.37 256.45 1517.37 M256.45 1513.66 Q262.26 1513.66 265.316 1518.27 Q268.395 1522.85 268.395 1531.6 Q268.395 1540.33 265.316 1544.94 Q262.26 1549.52 256.45 1549.52 Q250.64 1549.52 247.561 1544.94 Q244.506 1540.33 244.506 1531.6 Q244.506 1522.85 247.561 1518.27 Q250.64 1513.66 256.45 1513.66 Z\" fill=\"#000000\" fill-rule=\"nonzero\" fill-opacity=\"1\" /><path clip-path=\"url(#clip870)\" d=\"M699.516 1517.37 Q695.905 1517.37 694.077 1520.93 Q692.271 1524.47 692.271 1531.6 Q692.271 1538.71 694.077 1542.27 Q695.905 1545.82 699.516 1545.82 Q703.151 1545.82 704.956 1542.27 Q706.785 1538.71 706.785 1531.6 Q706.785 1524.47 704.956 1520.93 Q703.151 1517.37 699.516 1517.37 M699.516 1513.66 Q705.327 1513.66 708.382 1518.27 Q711.461 1522.85 711.461 1531.6 Q711.461 1540.33 708.382 1544.94 Q705.327 1549.52 699.516 1549.52 Q693.706 1549.52 690.628 1544.94 Q687.572 1540.33 687.572 1531.6 Q687.572 1522.85 690.628 1518.27 Q693.706 1513.66 699.516 1513.66 Z\" fill=\"#000000\" fill-rule=\"nonzero\" fill-opacity=\"1\" /><path clip-path=\"url(#clip870)\" d=\"M719.678 1542.97 L724.563 1542.97 L724.563 1548.85 L719.678 1548.85 L719.678 1542.97 Z\" fill=\"#000000\" fill-rule=\"nonzero\" fill-opacity=\"1\" /><path clip-path=\"url(#clip870)\" d=\"M745.326 1529.7 Q742.178 1529.7 740.326 1531.86 Q738.498 1534.01 738.498 1537.76 Q738.498 1541.49 740.326 1543.66 Q742.178 1545.82 745.326 1545.82 Q748.475 1545.82 750.303 1543.66 Q752.155 1541.49 752.155 1537.76 Q752.155 1534.01 750.303 1531.86 Q748.475 1529.7 745.326 1529.7 M754.609 1515.05 L754.609 1519.31 Q752.85 1518.48 751.044 1518.04 Q749.262 1517.6 747.502 1517.6 Q742.873 1517.6 740.419 1520.72 Q737.988 1523.85 737.641 1530.17 Q739.007 1528.15 741.067 1527.09 Q743.127 1526 745.604 1526 Q750.813 1526 753.822 1529.17 Q756.854 1532.32 756.854 1537.76 Q756.854 1543.08 753.706 1546.3 Q750.558 1549.52 745.326 1549.52 Q739.331 1549.52 736.16 1544.94 Q732.989 1540.33 732.989 1531.6 Q732.989 1523.41 736.877 1518.55 Q740.766 1513.66 747.317 1513.66 Q749.076 1513.66 750.859 1514.01 Q752.664 1514.36 754.609 1515.05 Z\" fill=\"#000000\" fill-rule=\"nonzero\" fill-opacity=\"1\" /><path clip-path=\"url(#clip870)\" d=\"M764.956 1514.29 L783.312 1514.29 L783.312 1518.22 L769.238 1518.22 L769.238 1526.7 Q770.257 1526.35 771.275 1526.19 Q772.294 1526 773.312 1526 Q779.099 1526 782.479 1529.17 Q785.859 1532.34 785.859 1537.76 Q785.859 1543.34 782.386 1546.44 Q778.914 1549.52 772.595 1549.52 Q770.419 1549.52 768.15 1549.15 Q765.905 1548.78 763.498 1548.04 L763.498 1543.34 Q765.581 1544.47 767.803 1545.03 Q770.025 1545.58 772.502 1545.58 Q776.507 1545.58 778.845 1543.48 Q781.183 1541.37 781.183 1537.76 Q781.183 1534.15 778.845 1532.04 Q776.507 1529.94 772.502 1529.94 Q770.627 1529.94 768.752 1530.35 Q766.9 1530.77 764.956 1531.65 L764.956 1514.29 Z\" fill=\"#000000\" fill-rule=\"nonzero\" fill-opacity=\"1\" /><path clip-path=\"url(#clip870)\" d=\"M1216.98 1517.37 Q1213.37 1517.37 1211.54 1520.93 Q1209.74 1524.47 1209.74 1531.6 Q1209.74 1538.71 1211.54 1542.27 Q1213.37 1545.82 1216.98 1545.82 Q1220.61 1545.82 1222.42 1542.27 Q1224.25 1538.71 1224.25 1531.6 Q1224.25 1524.47 1222.42 1520.93 Q1220.61 1517.37 1216.98 1517.37 M1216.98 1513.66 Q1222.79 1513.66 1225.85 1518.27 Q1228.92 1522.85 1228.92 1531.6 Q1228.92 1540.33 1225.85 1544.94 Q1222.79 1549.52 1216.98 1549.52 Q1211.17 1549.52 1208.09 1544.94 Q1205.04 1540.33 1205.04 1531.6 Q1205.04 1522.85 1208.09 1518.27 Q1211.17 1513.66 1216.98 1513.66 Z\" fill=\"#000000\" fill-rule=\"nonzero\" fill-opacity=\"1\" /><path clip-path=\"url(#clip870)\" d=\"M1237.14 1542.97 L1242.03 1542.97 L1242.03 1548.85 L1237.14 1548.85 L1237.14 1542.97 Z\" fill=\"#000000\" fill-rule=\"nonzero\" fill-opacity=\"1\" /><path clip-path=\"url(#clip870)\" d=\"M1251.03 1514.29 L1273.25 1514.29 L1273.25 1516.28 L1260.71 1548.85 L1255.82 1548.85 L1267.63 1518.22 L1251.03 1518.22 L1251.03 1514.29 Z\" fill=\"#000000\" fill-rule=\"nonzero\" fill-opacity=\"1\" /><path clip-path=\"url(#clip870)\" d=\"M1292.37 1517.37 Q1288.76 1517.37 1286.93 1520.93 Q1285.13 1524.47 1285.13 1531.6 Q1285.13 1538.71 1286.93 1542.27 Q1288.76 1545.82 1292.37 1545.82 Q1296.01 1545.82 1297.81 1542.27 Q1299.64 1538.71 1299.64 1531.6 Q1299.64 1524.47 1297.81 1520.93 Q1296.01 1517.37 1292.37 1517.37 M1292.37 1513.66 Q1298.18 1513.66 1301.24 1518.27 Q1304.32 1522.85 1304.32 1531.6 Q1304.32 1540.33 1301.24 1544.94 Q1298.18 1549.52 1292.37 1549.52 Q1286.56 1549.52 1283.48 1544.94 Q1280.43 1540.33 1280.43 1531.6 Q1280.43 1522.85 1283.48 1518.27 Q1286.56 1513.66 1292.37 1513.66 Z\" fill=\"#000000\" fill-rule=\"nonzero\" fill-opacity=\"1\" /><path clip-path=\"url(#clip870)\" d=\"M1735.44 1517.37 Q1731.83 1517.37 1730 1520.93 Q1728.19 1524.47 1728.19 1531.6 Q1728.19 1538.71 1730 1542.27 Q1731.83 1545.82 1735.44 1545.82 Q1739.07 1545.82 1740.88 1542.27 Q1742.71 1538.71 1742.71 1531.6 Q1742.71 1524.47 1740.88 1520.93 Q1739.07 1517.37 1735.44 1517.37 M1735.44 1513.66 Q1741.25 1513.66 1744.31 1518.27 Q1747.38 1522.85 1747.38 1531.6 Q1747.38 1540.33 1744.31 1544.94 Q1741.25 1549.52 1735.44 1549.52 Q1729.63 1549.52 1726.55 1544.94 Q1723.5 1540.33 1723.5 1531.6 Q1723.5 1522.85 1726.55 1518.27 Q1729.63 1513.66 1735.44 1513.66 Z\" fill=\"#000000\" fill-rule=\"nonzero\" fill-opacity=\"1\" /><path clip-path=\"url(#clip870)\" d=\"M1755.6 1542.97 L1760.49 1542.97 L1760.49 1548.85 L1755.6 1548.85 L1755.6 1542.97 Z\" fill=\"#000000\" fill-rule=\"nonzero\" fill-opacity=\"1\" /><path clip-path=\"url(#clip870)\" d=\"M1769.49 1514.29 L1791.71 1514.29 L1791.71 1516.28 L1779.17 1548.85 L1774.28 1548.85 L1786.09 1518.22 L1769.49 1518.22 L1769.49 1514.29 Z\" fill=\"#000000\" fill-rule=\"nonzero\" fill-opacity=\"1\" /><path clip-path=\"url(#clip870)\" d=\"M1800.88 1514.29 L1819.24 1514.29 L1819.24 1518.22 L1805.16 1518.22 L1805.16 1526.7 Q1806.18 1526.35 1807.2 1526.19 Q1808.22 1526 1809.24 1526 Q1815.02 1526 1818.4 1529.17 Q1821.78 1532.34 1821.78 1537.76 Q1821.78 1543.34 1818.31 1546.44 Q1814.84 1549.52 1808.52 1549.52 Q1806.34 1549.52 1804.07 1549.15 Q1801.83 1548.78 1799.42 1548.04 L1799.42 1543.34 Q1801.5 1544.47 1803.73 1545.03 Q1805.95 1545.58 1808.43 1545.58 Q1812.43 1545.58 1814.77 1543.48 Q1817.11 1541.37 1817.11 1537.76 Q1817.11 1534.15 1814.77 1532.04 Q1812.43 1529.94 1808.43 1529.94 Q1806.55 1529.94 1804.68 1530.35 Q1802.82 1530.77 1800.88 1531.65 L1800.88 1514.29 Z\" fill=\"#000000\" fill-rule=\"nonzero\" fill-opacity=\"1\" /><path clip-path=\"url(#clip870)\" d=\"M2252.9 1517.37 Q2249.29 1517.37 2247.46 1520.93 Q2245.66 1524.47 2245.66 1531.6 Q2245.66 1538.71 2247.46 1542.27 Q2249.29 1545.82 2252.9 1545.82 Q2256.54 1545.82 2258.34 1542.27 Q2260.17 1538.71 2260.17 1531.6 Q2260.17 1524.47 2258.34 1520.93 Q2256.54 1517.37 2252.9 1517.37 M2252.9 1513.66 Q2258.71 1513.66 2261.77 1518.27 Q2264.85 1522.85 2264.85 1531.6 Q2264.85 1540.33 2261.77 1544.94 Q2258.71 1549.52 2252.9 1549.52 Q2247.09 1549.52 2244.02 1544.94 Q2240.96 1540.33 2240.96 1531.6 Q2240.96 1522.85 2244.02 1518.27 Q2247.09 1513.66 2252.9 1513.66 Z\" fill=\"#000000\" fill-rule=\"nonzero\" fill-opacity=\"1\" /><path clip-path=\"url(#clip870)\" d=\"M2273.07 1542.97 L2277.95 1542.97 L2277.95 1548.85 L2273.07 1548.85 L2273.07 1542.97 Z\" fill=\"#000000\" fill-rule=\"nonzero\" fill-opacity=\"1\" /><path clip-path=\"url(#clip870)\" d=\"M2298.14 1532.44 Q2294.8 1532.44 2292.88 1534.22 Q2290.98 1536 2290.98 1539.13 Q2290.98 1542.25 2292.88 1544.03 Q2294.8 1545.82 2298.14 1545.82 Q2301.47 1545.82 2303.39 1544.03 Q2305.31 1542.23 2305.31 1539.13 Q2305.31 1536 2303.39 1534.22 Q2301.49 1532.44 2298.14 1532.44 M2293.46 1530.45 Q2290.45 1529.7 2288.76 1527.64 Q2287.09 1525.58 2287.09 1522.62 Q2287.09 1518.48 2290.03 1516.07 Q2293 1513.66 2298.14 1513.66 Q2303.3 1513.66 2306.24 1516.07 Q2309.18 1518.48 2309.18 1522.62 Q2309.18 1525.58 2307.49 1527.64 Q2305.82 1529.7 2302.83 1530.45 Q2306.21 1531.23 2308.09 1533.52 Q2309.99 1535.82 2309.99 1539.13 Q2309.99 1544.15 2306.91 1546.83 Q2303.85 1549.52 2298.14 1549.52 Q2292.42 1549.52 2289.34 1546.83 Q2286.28 1544.15 2286.28 1539.13 Q2286.28 1535.82 2288.18 1533.52 Q2290.08 1531.23 2293.46 1530.45 M2291.75 1523.06 Q2291.75 1525.75 2293.41 1527.25 Q2295.1 1528.76 2298.14 1528.76 Q2301.14 1528.76 2302.83 1527.25 Q2304.55 1525.75 2304.55 1523.06 Q2304.55 1520.38 2302.83 1518.87 Q2301.14 1517.37 2298.14 1517.37 Q2295.1 1517.37 2293.41 1518.87 Q2291.75 1520.38 2291.75 1523.06 Z\" fill=\"#000000\" fill-rule=\"nonzero\" fill-opacity=\"1\" /><path clip-path=\"url(#clip870)\" d=\"M2328.3 1517.37 Q2324.69 1517.37 2322.86 1520.93 Q2321.05 1524.47 2321.05 1531.6 Q2321.05 1538.71 2322.86 1542.27 Q2324.69 1545.82 2328.3 1545.82 Q2331.93 1545.82 2333.74 1542.27 Q2335.57 1538.71 2335.57 1531.6 Q2335.57 1524.47 2333.74 1520.93 Q2331.93 1517.37 2328.3 1517.37 M2328.3 1513.66 Q2334.11 1513.66 2337.16 1518.27 Q2340.24 1522.85 2340.24 1531.6 Q2340.24 1540.33 2337.16 1544.94 Q2334.11 1549.52 2328.3 1549.52 Q2322.49 1549.52 2319.41 1544.94 Q2316.35 1540.33 2316.35 1531.6 Q2316.35 1522.85 2319.41 1518.27 Q2322.49 1513.66 2328.3 1513.66 Z\" fill=\"#000000\" fill-rule=\"nonzero\" fill-opacity=\"1\" /><polyline clip-path=\"url(#clip870)\" style=\"stroke:#000000; stroke-linecap:round; stroke-linejoin:round; stroke-width:4; stroke-opacity:1; fill:none\" points=\"156.598,1486.45 156.598,47.2441 \"/>\n",
       "<polyline clip-path=\"url(#clip870)\" style=\"stroke:#000000; stroke-linecap:round; stroke-linejoin:round; stroke-width:4; stroke-opacity:1; fill:none\" points=\"156.598,1445.72 175.496,1445.72 \"/>\n",
       "<polyline clip-path=\"url(#clip870)\" style=\"stroke:#000000; stroke-linecap:round; stroke-linejoin:round; stroke-width:4; stroke-opacity:1; fill:none\" points=\"156.598,1174.44 175.496,1174.44 \"/>\n",
       "<polyline clip-path=\"url(#clip870)\" style=\"stroke:#000000; stroke-linecap:round; stroke-linejoin:round; stroke-width:4; stroke-opacity:1; fill:none\" points=\"156.598,903.168 175.496,903.168 \"/>\n",
       "<polyline clip-path=\"url(#clip870)\" style=\"stroke:#000000; stroke-linecap:round; stroke-linejoin:round; stroke-width:4; stroke-opacity:1; fill:none\" points=\"156.598,631.894 175.496,631.894 \"/>\n",
       "<polyline clip-path=\"url(#clip870)\" style=\"stroke:#000000; stroke-linecap:round; stroke-linejoin:round; stroke-width:4; stroke-opacity:1; fill:none\" points=\"156.598,360.62 175.496,360.62 \"/>\n",
       "<polyline clip-path=\"url(#clip870)\" style=\"stroke:#000000; stroke-linecap:round; stroke-linejoin:round; stroke-width:4; stroke-opacity:1; fill:none\" points=\"156.598,89.3456 175.496,89.3456 \"/>\n",
       "<path clip-path=\"url(#clip870)\" d=\"M63.4226 1431.51 Q59.8115 1431.51 57.9828 1435.08 Q56.1773 1438.62 56.1773 1445.75 Q56.1773 1452.86 57.9828 1456.42 Q59.8115 1459.96 63.4226 1459.96 Q67.0569 1459.96 68.8624 1456.42 Q70.6911 1452.86 70.6911 1445.75 Q70.6911 1438.62 68.8624 1435.08 Q67.0569 1431.51 63.4226 1431.51 M63.4226 1427.81 Q69.2328 1427.81 72.2883 1432.42 Q75.367 1437 75.367 1445.75 Q75.367 1454.48 72.2883 1459.08 Q69.2328 1463.67 63.4226 1463.67 Q57.6125 1463.67 54.5338 1459.08 Q51.4782 1454.48 51.4782 1445.75 Q51.4782 1437 54.5338 1432.42 Q57.6125 1427.81 63.4226 1427.81 Z\" fill=\"#000000\" fill-rule=\"nonzero\" fill-opacity=\"1\" /><path clip-path=\"url(#clip870)\" d=\"M83.5845 1457.12 L88.4688 1457.12 L88.4688 1463 L83.5845 1463 L83.5845 1457.12 Z\" fill=\"#000000\" fill-rule=\"nonzero\" fill-opacity=\"1\" /><path clip-path=\"url(#clip870)\" d=\"M108.654 1431.51 Q105.043 1431.51 103.214 1435.08 Q101.409 1438.62 101.409 1445.75 Q101.409 1452.86 103.214 1456.42 Q105.043 1459.96 108.654 1459.96 Q112.288 1459.96 114.094 1456.42 Q115.922 1452.86 115.922 1445.75 Q115.922 1438.62 114.094 1435.08 Q112.288 1431.51 108.654 1431.51 M108.654 1427.81 Q114.464 1427.81 117.52 1432.42 Q120.598 1437 120.598 1445.75 Q120.598 1454.48 117.52 1459.08 Q114.464 1463.67 108.654 1463.67 Q102.844 1463.67 99.765 1459.08 Q96.7095 1454.48 96.7095 1445.75 Q96.7095 1437 99.765 1432.42 Q102.844 1427.81 108.654 1427.81 Z\" fill=\"#000000\" fill-rule=\"nonzero\" fill-opacity=\"1\" /><path clip-path=\"url(#clip870)\" d=\"M64.6495 1160.24 Q61.0384 1160.24 59.2097 1163.81 Q57.4041 1167.35 57.4041 1174.48 Q57.4041 1181.58 59.2097 1185.15 Q61.0384 1188.69 64.6495 1188.69 Q68.2837 1188.69 70.0892 1185.15 Q71.9179 1181.58 71.9179 1174.48 Q71.9179 1167.35 70.0892 1163.81 Q68.2837 1160.24 64.6495 1160.24 M64.6495 1156.54 Q70.4596 1156.54 73.5152 1161.14 Q76.5938 1165.73 76.5938 1174.48 Q76.5938 1183.2 73.5152 1187.81 Q70.4596 1192.39 64.6495 1192.39 Q58.8393 1192.39 55.7606 1187.81 Q52.7051 1183.2 52.7051 1174.48 Q52.7051 1165.73 55.7606 1161.14 Q58.8393 1156.54 64.6495 1156.54 Z\" fill=\"#000000\" fill-rule=\"nonzero\" fill-opacity=\"1\" /><path clip-path=\"url(#clip870)\" d=\"M84.8114 1185.84 L89.6956 1185.84 L89.6956 1191.72 L84.8114 1191.72 L84.8114 1185.84 Z\" fill=\"#000000\" fill-rule=\"nonzero\" fill-opacity=\"1\" /><path clip-path=\"url(#clip870)\" d=\"M100.691 1187.79 L108.33 1187.79 L108.33 1161.42 L100.02 1163.09 L100.02 1158.83 L108.283 1157.16 L112.959 1157.16 L112.959 1187.79 L120.598 1187.79 L120.598 1191.72 L100.691 1191.72 L100.691 1187.79 Z\" fill=\"#000000\" fill-rule=\"nonzero\" fill-opacity=\"1\" /><path clip-path=\"url(#clip870)\" d=\"M65.0198 888.966 Q61.4087 888.966 59.58 892.531 Q57.7745 896.073 57.7745 903.202 Q57.7745 910.309 59.58 913.874 Q61.4087 917.415 65.0198 917.415 Q68.6541 917.415 70.4596 913.874 Q72.2883 910.309 72.2883 903.202 Q72.2883 896.073 70.4596 892.531 Q68.6541 888.966 65.0198 888.966 M65.0198 885.263 Q70.83 885.263 73.8855 889.869 Q76.9642 894.452 76.9642 903.202 Q76.9642 911.929 73.8855 916.536 Q70.83 921.119 65.0198 921.119 Q59.2097 921.119 56.131 916.536 Q53.0754 911.929 53.0754 903.202 Q53.0754 894.452 56.131 889.869 Q59.2097 885.263 65.0198 885.263 Z\" fill=\"#000000\" fill-rule=\"nonzero\" fill-opacity=\"1\" /><path clip-path=\"url(#clip870)\" d=\"M85.1818 914.568 L90.066 914.568 L90.066 920.448 L85.1818 920.448 L85.1818 914.568 Z\" fill=\"#000000\" fill-rule=\"nonzero\" fill-opacity=\"1\" /><path clip-path=\"url(#clip870)\" d=\"M104.279 916.512 L120.598 916.512 L120.598 920.448 L98.6539 920.448 L98.6539 916.512 Q101.316 913.758 105.899 909.128 Q110.506 904.476 111.686 903.133 Q113.932 900.61 114.811 898.874 Q115.714 897.114 115.714 895.425 Q115.714 892.67 113.77 890.934 Q111.848 889.198 108.746 889.198 Q106.547 889.198 104.094 889.962 Q101.663 890.726 98.8854 892.276 L98.8854 887.554 Q101.709 886.42 104.163 885.841 Q106.617 885.263 108.654 885.263 Q114.024 885.263 117.219 887.948 Q120.413 890.633 120.413 895.124 Q120.413 897.253 119.603 899.175 Q118.816 901.073 116.709 903.665 Q116.131 904.337 113.029 907.554 Q109.927 910.749 104.279 916.512 Z\" fill=\"#000000\" fill-rule=\"nonzero\" fill-opacity=\"1\" /><path clip-path=\"url(#clip870)\" d=\"M64.0708 617.692 Q60.4597 617.692 58.631 621.257 Q56.8254 624.799 56.8254 631.928 Q56.8254 639.035 58.631 642.6 Q60.4597 646.141 64.0708 646.141 Q67.705 646.141 69.5105 642.6 Q71.3392 639.035 71.3392 631.928 Q71.3392 624.799 69.5105 621.257 Q67.705 617.692 64.0708 617.692 M64.0708 613.989 Q69.8809 613.989 72.9365 618.595 Q76.0151 623.178 76.0151 631.928 Q76.0151 640.655 72.9365 645.262 Q69.8809 649.845 64.0708 649.845 Q58.2606 649.845 55.1819 645.262 Q52.1264 640.655 52.1264 631.928 Q52.1264 623.178 55.1819 618.595 Q58.2606 613.989 64.0708 613.989 Z\" fill=\"#000000\" fill-rule=\"nonzero\" fill-opacity=\"1\" /><path clip-path=\"url(#clip870)\" d=\"M84.2327 643.294 L89.1169 643.294 L89.1169 649.174 L84.2327 649.174 L84.2327 643.294 Z\" fill=\"#000000\" fill-rule=\"nonzero\" fill-opacity=\"1\" /><path clip-path=\"url(#clip870)\" d=\"M113.469 630.539 Q116.825 631.257 118.7 633.526 Q120.598 635.794 120.598 639.127 Q120.598 644.243 117.08 647.044 Q113.561 649.845 107.08 649.845 Q104.904 649.845 102.589 649.405 Q100.297 648.988 97.8437 648.132 L97.8437 643.618 Q99.7882 644.752 102.103 645.331 Q104.418 645.91 106.941 645.91 Q111.339 645.91 113.631 644.174 Q115.945 642.438 115.945 639.127 Q115.945 636.072 113.793 634.359 Q111.663 632.623 107.844 632.623 L103.816 632.623 L103.816 628.78 L108.029 628.78 Q111.478 628.78 113.307 627.414 Q115.135 626.026 115.135 623.433 Q115.135 620.771 113.237 619.359 Q111.362 617.924 107.844 617.924 Q105.922 617.924 103.723 618.34 Q101.524 618.757 98.8854 619.637 L98.8854 615.47 Q101.547 614.729 103.862 614.359 Q106.2 613.989 108.26 613.989 Q113.584 613.989 116.686 616.419 Q119.788 618.827 119.788 622.947 Q119.788 625.817 118.145 627.808 Q116.501 629.776 113.469 630.539 Z\" fill=\"#000000\" fill-rule=\"nonzero\" fill-opacity=\"1\" /><path clip-path=\"url(#clip870)\" d=\"M62.9365 346.418 Q59.3254 346.418 57.4967 349.983 Q55.6912 353.525 55.6912 360.654 Q55.6912 367.761 57.4967 371.326 Q59.3254 374.867 62.9365 374.867 Q66.5707 374.867 68.3763 371.326 Q70.205 367.761 70.205 360.654 Q70.205 353.525 68.3763 349.983 Q66.5707 346.418 62.9365 346.418 M62.9365 342.715 Q68.7467 342.715 71.8022 347.321 Q74.8809 351.904 74.8809 360.654 Q74.8809 369.381 71.8022 373.988 Q68.7467 378.571 62.9365 378.571 Q57.1264 378.571 54.0477 373.988 Q50.9921 369.381 50.9921 360.654 Q50.9921 351.904 54.0477 347.321 Q57.1264 342.715 62.9365 342.715 Z\" fill=\"#000000\" fill-rule=\"nonzero\" fill-opacity=\"1\" /><path clip-path=\"url(#clip870)\" d=\"M83.0984 372.02 L87.9827 372.02 L87.9827 377.9 L83.0984 377.9 L83.0984 372.02 Z\" fill=\"#000000\" fill-rule=\"nonzero\" fill-opacity=\"1\" /><path clip-path=\"url(#clip870)\" d=\"M111.015 347.414 L99.2095 365.863 L111.015 365.863 L111.015 347.414 M109.788 343.34 L115.668 343.34 L115.668 365.863 L120.598 365.863 L120.598 369.751 L115.668 369.751 L115.668 377.9 L111.015 377.9 L111.015 369.751 L95.4132 369.751 L95.4132 365.238 L109.788 343.34 Z\" fill=\"#000000\" fill-rule=\"nonzero\" fill-opacity=\"1\" /><path clip-path=\"url(#clip870)\" d=\"M64.418 75.1443 Q60.8069 75.1443 58.9782 78.7091 Q57.1726 82.2507 57.1726 89.3803 Q57.1726 96.4867 58.9782 100.052 Q60.8069 103.593 64.418 103.593 Q68.0522 103.593 69.8578 100.052 Q71.6865 96.4867 71.6865 89.3803 Q71.6865 82.2507 69.8578 78.7091 Q68.0522 75.1443 64.418 75.1443 M64.418 71.4406 Q70.2281 71.4406 73.2837 76.047 Q76.3624 80.6303 76.3624 89.3803 Q76.3624 98.1071 73.2837 102.714 Q70.2281 107.297 64.418 107.297 Q58.6078 107.297 55.5291 102.714 Q52.4736 98.1071 52.4736 89.3803 Q52.4736 80.6303 55.5291 76.047 Q58.6078 71.4406 64.418 71.4406 Z\" fill=\"#000000\" fill-rule=\"nonzero\" fill-opacity=\"1\" /><path clip-path=\"url(#clip870)\" d=\"M84.5799 100.746 L89.4641 100.746 L89.4641 106.626 L84.5799 106.626 L84.5799 100.746 Z\" fill=\"#000000\" fill-rule=\"nonzero\" fill-opacity=\"1\" /><path clip-path=\"url(#clip870)\" d=\"M99.6956 72.0656 L118.052 72.0656 L118.052 76.0007 L103.978 76.0007 L103.978 84.4729 Q104.996 84.1257 106.015 83.9637 Q107.033 83.7785 108.052 83.7785 Q113.839 83.7785 117.219 86.9498 Q120.598 90.121 120.598 95.5377 Q120.598 101.116 117.126 104.218 Q113.654 107.297 107.334 107.297 Q105.159 107.297 102.89 106.926 Q100.645 106.556 98.2372 105.815 L98.2372 101.116 Q100.321 102.251 102.543 102.806 Q104.765 103.362 107.242 103.362 Q111.246 103.362 113.584 101.255 Q115.922 99.1488 115.922 95.5377 Q115.922 91.9266 113.584 89.8201 Q111.246 87.7136 107.242 87.7136 Q105.367 87.7136 103.492 88.1303 Q101.64 88.547 99.6956 89.4266 L99.6956 72.0656 Z\" fill=\"#000000\" fill-rule=\"nonzero\" fill-opacity=\"1\" /><circle clip-path=\"url(#clip872)\" cx=\"218.754\" cy=\"738.176\" r=\"14.4\" fill=\"#0000ff\" fill-rule=\"evenodd\" fill-opacity=\"1\" stroke=\"#000000\" stroke-opacity=\"1\" stroke-width=\"3.2\"/>\n",
       "<circle clip-path=\"url(#clip872)\" cx=\"1254.68\" cy=\"474.941\" r=\"14.4\" fill=\"#0000ff\" fill-rule=\"evenodd\" fill-opacity=\"1\" stroke=\"#000000\" stroke-opacity=\"1\" stroke-width=\"3.2\"/>\n",
       "<circle clip-path=\"url(#clip872)\" cx=\"2290.6\" cy=\"87.9763\" r=\"14.4\" fill=\"#0000ff\" fill-rule=\"evenodd\" fill-opacity=\"1\" stroke=\"#000000\" stroke-opacity=\"1\" stroke-width=\"3.2\"/>\n",
       "<circle clip-path=\"url(#clip872)\" cx=\"218.754\" cy=\"1445.72\" r=\"14.4\" fill=\"#ff0000\" fill-rule=\"evenodd\" fill-opacity=\"1\" stroke=\"#000000\" stroke-opacity=\"1\" stroke-width=\"3.2\"/>\n",
       "<circle clip-path=\"url(#clip872)\" cx=\"1254.68\" cy=\"915.154\" r=\"14.4\" fill=\"#ff0000\" fill-rule=\"evenodd\" fill-opacity=\"1\" stroke=\"#000000\" stroke-opacity=\"1\" stroke-width=\"3.2\"/>\n",
       "<circle clip-path=\"url(#clip872)\" cx=\"2290.6\" cy=\"181.897\" r=\"14.4\" fill=\"#ff0000\" fill-rule=\"evenodd\" fill-opacity=\"1\" stroke=\"#000000\" stroke-opacity=\"1\" stroke-width=\"3.2\"/>\n",
       "<path clip-path=\"url(#clip870)\" d=\"M229.803 250.738 L501.85 250.738 L501.85 95.2176 L229.803 95.2176  Z\" fill=\"#ffffff\" fill-rule=\"evenodd\" fill-opacity=\"1\"/>\n",
       "<polyline clip-path=\"url(#clip870)\" style=\"stroke:#000000; stroke-linecap:round; stroke-linejoin:round; stroke-width:4; stroke-opacity:1; fill:none\" points=\"229.803,250.738 501.85,250.738 501.85,95.2176 229.803,95.2176 229.803,250.738 \"/>\n",
       "<circle clip-path=\"url(#clip870)\" cx=\"327.41\" cy=\"147.058\" r=\"20.48\" fill=\"#0000ff\" fill-rule=\"evenodd\" fill-opacity=\"1\" stroke=\"#000000\" stroke-opacity=\"1\" stroke-width=\"4.55111\"/>\n",
       "<path clip-path=\"url(#clip870)\" d=\"M438.86 166.745 Q437.054 171.375 435.342 172.787 Q433.629 174.199 430.758 174.199 L427.355 174.199 L427.355 170.634 L429.855 170.634 Q431.615 170.634 432.587 169.8 Q433.559 168.967 434.74 165.865 L435.504 163.921 L425.018 138.412 L429.531 138.412 L437.633 158.689 L445.735 138.412 L450.249 138.412 L438.86 166.745 Z\" fill=\"#000000\" fill-rule=\"nonzero\" fill-opacity=\"1\" /><path clip-path=\"url(#clip870)\" d=\"M457.54 160.402 L465.179 160.402 L465.179 134.037 L456.869 135.703 L456.869 131.444 L465.133 129.778 L469.809 129.778 L469.809 160.402 L477.448 160.402 L477.448 164.338 L457.54 164.338 L457.54 160.402 Z\" fill=\"#000000\" fill-rule=\"nonzero\" fill-opacity=\"1\" /><circle clip-path=\"url(#clip870)\" cx=\"327.41\" cy=\"198.898\" r=\"20.48\" fill=\"#ff0000\" fill-rule=\"evenodd\" fill-opacity=\"1\" stroke=\"#000000\" stroke-opacity=\"1\" stroke-width=\"4.55111\"/>\n",
       "<path clip-path=\"url(#clip870)\" d=\"M438.86 218.585 Q437.054 223.215 435.342 224.627 Q433.629 226.039 430.758 226.039 L427.355 226.039 L427.355 222.474 L429.855 222.474 Q431.615 222.474 432.587 221.64 Q433.559 220.807 434.74 217.705 L435.504 215.761 L425.018 190.252 L429.531 190.252 L437.633 210.529 L445.735 190.252 L450.249 190.252 L438.86 218.585 Z\" fill=\"#000000\" fill-rule=\"nonzero\" fill-opacity=\"1\" /><path clip-path=\"url(#clip870)\" d=\"M460.758 212.242 L477.077 212.242 L477.077 216.178 L455.133 216.178 L455.133 212.242 Q457.795 209.488 462.378 204.858 Q466.985 200.205 468.165 198.863 Q470.411 196.34 471.29 194.604 Q472.193 192.844 472.193 191.155 Q472.193 188.4 470.249 186.664 Q468.327 184.928 465.226 184.928 Q463.027 184.928 460.573 185.692 Q458.142 186.455 455.365 188.006 L455.365 183.284 Q458.189 182.15 460.642 181.571 Q463.096 180.993 465.133 180.993 Q470.503 180.993 473.698 183.678 Q476.892 186.363 476.892 190.854 Q476.892 192.983 476.082 194.905 Q475.295 196.803 473.189 199.395 Q472.61 200.067 469.508 203.284 Q466.406 206.479 460.758 212.242 Z\" fill=\"#000000\" fill-rule=\"nonzero\" fill-opacity=\"1\" /></svg>\n"
      ]
     },
     "metadata": {},
     "output_type": "display_data"
    },
    {
     "data": {
      "text/plain": [
       "([-0.0, 0.19558155331343063, 0.46588263875377334], [0.26082105428198255, 0.3578574953111222, 0.5005047655758411])"
      ]
     },
     "execution_count": 45,
     "metadata": {},
     "output_type": "execute_result"
    }
   ],
   "source": [
    "plotBoundHolderreg(phi1,T1(0),0.6,0.1,3,n,N,m,M,nu,Nu,true)"
   ]
  },
  {
   "cell_type": "markdown",
   "id": "e282a56d",
   "metadata": {},
   "source": [
    "## Examples of transformations"
   ]
  },
  {
   "cell_type": "code",
   "execution_count": 27,
   "id": "ad8ae2e2",
   "metadata": {},
   "outputs": [],
   "source": [
    "struct T\n",
    "    image\n",
    "    d\n",
    "    maxd\n",
    "    mind\n",
    "    degree\n",
    "end"
   ]
  },
  {
   "cell_type": "code",
   "execution_count": 28,
   "id": "30453fa3",
   "metadata": {},
   "outputs": [
    {
     "data": {
      "text/plain": [
       "T1 (generic function with 1 method)"
      ]
     },
     "execution_count": 28,
     "metadata": {},
     "output_type": "execute_result"
    }
   ],
   "source": [
    "T1(e)=T(x->2*x+e*sin(2*pi*x),x->2+2*pi*e*cos(2*pi*x),2+2*pi*e,2-2*pi*e,2)"
   ]
  },
  {
   "cell_type": "markdown",
   "id": "4a8cd0e9",
   "metadata": {},
   "source": [
    "## Examples of laws of reproduction"
   ]
  },
  {
   "cell_type": "code",
   "execution_count": 29,
   "id": "fb21ad6c",
   "metadata": {},
   "outputs": [],
   "source": [
    "struct phi\n",
    "    image\n",
    "    logds\n",
    "    exp\n",
    "    maxexp\n",
    "    maxdexp\n",
    "    maxdx\n",
    "end"
   ]
  },
  {
   "cell_type": "code",
   "execution_count": 30,
   "id": "09b1bacd",
   "metadata": {},
   "outputs": [
    {
     "data": {
      "text/plain": [
       "phi1 (generic function with 1 method)"
      ]
     },
     "execution_count": 30,
     "metadata": {},
     "output_type": "execute_result"
    }
   ],
   "source": [
    "phi1(l)=phi((x,s)->exp((s - 1) * exp(l + cos(2 * x * π))),(x,s)->log(exp(l + cos(2 * x * π)) * phi1(l).image(x, s)),x->exp(l+cos(2 * x * π)),exp(l+1),2*π*exp(l+1),2*π/exp(1))"
   ]
  },
  {
   "cell_type": "code",
   "execution_count": 31,
   "id": "1d961230",
   "metadata": {},
   "outputs": [
    {
     "data": {
      "text/plain": [
       "phi2 (generic function with 1 method)"
      ]
     },
     "execution_count": 31,
     "metadata": {},
     "output_type": "execute_result"
    }
   ],
   "source": [
    "phi2(l)=phi((x,s)->exp((s - 1) * exp(l - cos(2 * x * π))),(x,s)->log(exp(l - cos(2 * x * π)) * phi2(l).image(x, s)),x->exp(l-cos(2 * x * π)),exp(l+1),2*π*exp(l+1),2*π/exp(1))"
   ]
  },
  {
   "cell_type": "markdown",
   "id": "86c17ea1",
   "metadata": {},
   "source": [
    "## General settings"
   ]
  },
  {
   "cell_type": "code",
   "execution_count": 32,
   "id": "6cc1da95",
   "metadata": {},
   "outputs": [
    {
     "data": {
      "text/plain": [
       "8"
      ]
     },
     "execution_count": 32,
     "metadata": {},
     "output_type": "execute_result"
    }
   ],
   "source": [
    "N = 14 # 2^N est le nb d'intervalles\n",
    "n = 14 # le nb d'itérations de notre fonction majorante et minorante\n",
    "m = 8\n",
    "M = 8 # taille max des orbites périodiques"
   ]
  },
  {
   "cell_type": "code",
   "execution_count": 33,
   "id": "c7a74e77",
   "metadata": {},
   "outputs": [
    {
     "data": {
      "text/plain": [
       "8"
      ]
     },
     "execution_count": 33,
     "metadata": {},
     "output_type": "execute_result"
    }
   ],
   "source": [
    "Nu=14\n",
    "nu=8\n",
    "Mu=8"
   ]
  },
  {
   "cell_type": "markdown",
   "id": "6a4823e6",
   "metadata": {},
   "source": [
    "## Main"
   ]
  },
  {
   "cell_type": "code",
   "execution_count": 40,
   "id": "2c1e9f62",
   "metadata": {},
   "outputs": [
    {
     "data": {
      "text/plain": [
       "l"
      ]
     },
     "execution_count": 40,
     "metadata": {},
     "output_type": "execute_result"
    }
   ],
   "source": [
    "e=0.1\n",
    "\"e doit etre inférieur à 1/(pi*2) soit environ 0.159\"\n",
    "l=0.6"
   ]
  },
  {
   "cell_type": "code",
   "execution_count": null,
   "id": "e9218c61",
   "metadata": {},
   "outputs": [],
   "source": []
  },
  {
   "cell_type": "code",
   "execution_count": null,
   "id": "5fca2e80",
   "metadata": {},
   "outputs": [],
   "source": []
  },
  {
   "cell_type": "code",
   "execution_count": null,
   "id": "1c289907",
   "metadata": {},
   "outputs": [],
   "source": []
  }
 ],
 "metadata": {
  "kernelspec": {
   "display_name": "Julia 1.10.5",
   "language": "julia",
   "name": "julia-1.10"
  },
  "language_info": {
   "file_extension": ".jl",
   "mimetype": "application/julia",
   "name": "julia",
   "version": "1.10.5"
  }
 },
 "nbformat": 4,
 "nbformat_minor": 5
}
