{
 "cells": [
  {
   "cell_type": "code",
   "execution_count": 1,
   "id": "39888979",
   "metadata": {},
   "outputs": [],
   "source": [
    "using IntervalArithmetic\n",
    "using Plots \n",
    "using Dates\n",
    "using StatsBase"
   ]
  },
  {
   "cell_type": "markdown",
   "id": "d0d7fcb3",
   "metadata": {},
   "source": [
    "## Common functions"
   ]
  },
  {
   "cell_type": "code",
   "execution_count": 2,
   "id": "ab8c42e2",
   "metadata": {},
   "outputs": [
    {
     "data": {
      "text/plain": [
       "phi_n (generic function with 1 method)"
      ]
     },
     "execution_count": 2,
     "metadata": {},
     "output_type": "execute_result"
    }
   ],
   "source": [
    "function phi_n(phi,T,x, s, n)\n",
    "    \"Calculate the image of phi^{(n)}\"\n",
    "    if n == 0\n",
    "        return s\n",
    "    else\n",
    "        return phi.image(x, phi_n(phi,T,T.image(x), s, n-1))\n",
    "    end\n",
    "end\n"
   ]
  },
  {
   "cell_type": "code",
   "execution_count": 3,
   "id": "35c5d1d6",
   "metadata": {},
   "outputs": [
    {
     "data": {
      "text/plain": [
       "phi_nBoundK (generic function with 1 method)"
      ]
     },
     "execution_count": 3,
     "metadata": {},
     "output_type": "execute_result"
    }
   ],
   "source": [
    "function phi_nBoundK(phi,T,x, s, n,K)\n",
    "    if n == 0\n",
    "        return s\n",
    "    else\n",
    "        return phi.image(x,min(phi_nBoundK(phi,T,T.image(x), s, n-1,K),K))\n",
    "    end\n",
    "end"
   ]
  },
  {
   "cell_type": "code",
   "execution_count": 4,
   "id": "352ddfe7",
   "metadata": {},
   "outputs": [
    {
     "data": {
      "text/plain": [
       "phi_n_per (generic function with 1 method)"
      ]
     },
     "execution_count": 4,
     "metadata": {},
     "output_type": "execute_result"
    }
   ],
   "source": [
    "function phi_n_per(phi,orb,len, s, n,i,err)\n",
    "    \"Calculate the image of phi^{(n)} for a periodic orbit\"\n",
    "    if n == 0\n",
    "        return interval(s,s)\n",
    "    else\n",
    "        return phi.image(interval(orb[i+1]-err,orb[i+1]+err), phi_n_per(phi,orb,len, s, n-1,(i+1)%len,err))\n",
    "    end\n",
    "end\n"
   ]
  },
  {
   "cell_type": "code",
   "execution_count": 5,
   "id": "c31ebcec",
   "metadata": {},
   "outputs": [
    {
     "data": {
      "text/plain": [
       "compose (generic function with 1 method)"
      ]
     },
     "execution_count": 5,
     "metadata": {},
     "output_type": "execute_result"
    }
   ],
   "source": [
    "function compose(f, x, n)\n",
    "    if n == 0\n",
    "        return x\n",
    "    else\n",
    "        return compose(f, f(x), n-1)\n",
    "    end\n",
    "end\n"
   ]
  },
  {
   "cell_type": "markdown",
   "id": "e4082b4c",
   "metadata": {},
   "source": [
    "## Upper bound of q"
   ]
  },
  {
   "cell_type": "code",
   "execution_count": 6,
   "id": "7918ab0d",
   "metadata": {},
   "outputs": [
    {
     "data": {
      "text/plain": [
       "FindK (generic function with 1 method)"
      ]
     },
     "execution_count": 6,
     "metadata": {},
     "output_type": "execute_result"
    }
   ],
   "source": [
    "function FindK(phi,T,N)\n",
    "    K=1/2\n",
    "    A=[interval((i-1)/2^N,i/2^N) for i in 1:2^N]\n",
    "    while K<0.9999\n",
    "        r=Inf\n",
    "        for NK in 1:12\n",
    "            ph=maximum([sup(phi_n(phi,T,x, K, NK)) for x in A])\n",
    "            if K>ph\n",
    "                r=min(r,ph)\n",
    "            end\n",
    "        end\n",
    "        if r!=Inf\n",
    "            return r\n",
    "        end\n",
    "        K=(1+K)/2\n",
    "    end\n",
    "    error(\"K not find\")\n",
    "end"
   ]
  },
  {
   "cell_type": "code",
   "execution_count": 7,
   "id": "333b0737",
   "metadata": {},
   "outputs": [
    {
     "data": {
      "text/plain": [
       "upboundq (generic function with 1 method)"
      ]
     },
     "execution_count": 7,
     "metadata": {},
     "output_type": "execute_result"
    }
   ],
   "source": [
    "function upboundq(phi,T,n,N,plt)  # N>n\n",
    "    \"find a good upper bound of q\"\n",
    "    K=FindK(phi,T,N)\n",
    "    l1=[[interval(i/2^N,(i+1)/2^N),interval(K,K)]  for i in 0:(2^N-1)]\n",
    "    l2=[phi_n(phi,T,x[1],x[2],n) for x in l1]\n",
    "    if plt==true\n",
    "         x=[i/2^N for i in 1:2^N]\n",
    "        majqm=[sup(i) for i in l2]\n",
    "        p=plot(x,majqm,title=\"upboundq\",ylim=(-0.01,1.01))\n",
    "        display(p)\n",
    "    end\n",
    "    return l2\n",
    "end \n"
   ]
  },
  {
   "cell_type": "markdown",
   "id": "2864f003",
   "metadata": {},
   "source": [
    "## Upper bound of LambdaF"
   ]
  },
  {
   "cell_type": "code",
   "execution_count": 8,
   "id": "da282d0e",
   "metadata": {},
   "outputs": [
    {
     "data": {
      "text/plain": [
       "upboundlambdaF (generic function with 1 method)"
      ]
     },
     "execution_count": 8,
     "metadata": {},
     "output_type": "execute_result"
    }
   ],
   "source": [
    "function upboundlambdaF(phi,T,n,N,m,Q,I)\n",
    "    Indice=[i for i in 1:2^N]\n",
    "    Nmaj=N\n",
    "    bound=-Inf\n",
    "    K=Inf\n",
    "    for z in 1:I\n",
    "        if Nmaj<=16\n",
    "            K=FindK(phi,T,Nmaj)\n",
    "        end\n",
    "        len=length(Indice)\n",
    "        l=[interval((i-1)/2^Nmaj,i/2^Nmaj) for i in Indice]\n",
    "        Tl=[]\n",
    "        r=[interval(0,0) for i in 1:len]\n",
    "        infi=[0 for i in 1:len]\n",
    "        for i in 1:m\n",
    "            Tl=[T.image(x) for x in l]\n",
    "            majq=[phi_nBoundK(phi,T,x,interval(K,K),n,K) for x in Tl]\n",
    "            r+=[phi.logds(l[j],majq[j]) for j in 1:len]\n",
    "            infi=[min(sup(r[j])/i,infi[j]) for j in 1:len]\n",
    "            l=Tl\n",
    "        end\n",
    "        boundmaj=quantile(infi,1-1/2^Q)\n",
    "        if bound>boundmaj || boundmaj==0\n",
    "            error(\"bound\")\n",
    "        end\n",
    "        bound=boundmaj\n",
    "        if z==I\n",
    "            return maximum(infi)\n",
    "        end\n",
    "        Nmaj=Nmaj+Q\n",
    "        Indicemaj=Indice[findall(x -> x > bound, infi)].*2^Q\n",
    "        Indice=reduce(vcat,[Indicemaj.-i for i in 0:2^Q-1])\n",
    "    end\n",
    "end"
   ]
  },
  {
   "cell_type": "markdown",
   "id": "15775329",
   "metadata": {},
   "source": [
    "## Lower bound of q "
   ]
  },
  {
   "cell_type": "code",
   "execution_count": 9,
   "id": "1fcddb20",
   "metadata": {},
   "outputs": [
    {
     "data": {
      "text/plain": [
       "lowboundq (generic function with 1 method)"
      ]
     },
     "execution_count": 9,
     "metadata": {},
     "output_type": "execute_result"
    }
   ],
   "source": [
    "function lowboundq(phi,T,n,N,plt)  # N>n\n",
    "    \"find a good lower bound of q\"\n",
    "    l1=[[interval(i/2^N,(i+1)/2^N),interval(0,0)]  for i in 0:(2^N-1)]\n",
    "    l2=[phi_n(phi,T,x[1],x[2],n) for x in l1]\n",
    "    if plt==true\n",
    "        x=[i/2^N for i in 1:2^N]\n",
    "        minqm=[inf(i) for i in l2]\n",
    "        p=plot(x,minqm,title=\"lowboundq\",ylim=(-0.01,1.01))\n",
    "        display(p)\n",
    "    end\n",
    "    return l2\n",
    "end"
   ]
  },
  {
   "cell_type": "markdown",
   "id": "6cf778ef",
   "metadata": {},
   "source": [
    "## Bounds on q "
   ]
  },
  {
   "cell_type": "code",
   "execution_count": 10,
   "id": "f57ff081",
   "metadata": {},
   "outputs": [
    {
     "data": {
      "text/plain": [
       "boundq (generic function with 1 method)"
      ]
     },
     "execution_count": 10,
     "metadata": {},
     "output_type": "execute_result"
    }
   ],
   "source": [
    "function boundq(phi,T,n,N,plt)  # N>n\n",
    "    \"find good bounds of q\"\n",
    "        K=FindK(phi,T,N)\n",
    "        l1=[[interval(i/2^N,(i+1)/2^N),interval(K,K)]  for i in 0:(2^N-1)]\n",
    "        l2=[phi_n(phi,T,x[1],x[2],n) for x in l1]\n",
    "        l3=[[interval(i/2^N,(i+1)/2^N),interval(0,0)]  for i in 0:(2^N-1)]\n",
    "        l4=[phi_n(phi,T,x[1],x[2],n) for x in l3]\n",
    "        if plt==true\n",
    "            x=[i/2^N for i in 1:2^N]\n",
    "            majqm=[sup(i) for i in l2]\n",
    "            minqm=[inf(i) for i in l4]\n",
    "            plot(x,majqm,label=\"upboundq\",ylim=(-0.01,1.01))\n",
    "            display(plot!(x,minqm,label=\"lowboundq\"))\n",
    "        end\n",
    "        return l2,l4\n",
    "    end"
   ]
  },
  {
   "cell_type": "markdown",
   "id": "b079ec73",
   "metadata": {},
   "source": [
    "## Lower bound of Lambda_F"
   ]
  },
  {
   "cell_type": "code",
   "execution_count": 11,
   "id": "aaf302ec",
   "metadata": {},
   "outputs": [
    {
     "data": {
      "text/plain": [
       "next_sequence (generic function with 1 method)"
      ]
     },
     "execution_count": 11,
     "metadata": {},
     "output_type": "execute_result"
    }
   ],
   "source": [
    "\"finds a representative of each sequence of size n with integer values \n",
    "between 0 and d up to rotation and not containing a repeating pattern\"\n",
    "\n",
    "function is_rotation_of_minimal(seq, n)\n",
    "    for i in 1:n-1\n",
    "        rotated_seq = vcat(seq[i+1:end], seq[1:i])\n",
    "        if rotated_seq < seq\n",
    "            return false\n",
    "        end\n",
    "    end\n",
    "    return true\n",
    "end\n",
    "\n",
    "function has_repeating_pattern(seq, n)\n",
    "    for len in 1:div(n, 2)\n",
    "        if n % len == 0\n",
    "            pattern = seq[1:len]\n",
    "            is_repeating = true\n",
    "            for i in 1:div(n, len)\n",
    "                if seq[(i-1)*len+1:i*len] != pattern\n",
    "                    is_repeating = false\n",
    "                    break\n",
    "                end\n",
    "            end\n",
    "            if is_repeating\n",
    "                return true\n",
    "            end\n",
    "        end\n",
    "    end\n",
    "    return false\n",
    "end\n",
    "\n",
    "function generate_minimal_non_repeating_sequences(d::Int, n::Int)\n",
    "    minimal_sequences = Vector{Vector{Int}}()  \n",
    "    seq = fill(0, n)  \n",
    "    \n",
    "    while seq != nothing\n",
    "        if is_rotation_of_minimal(seq, n) && !has_repeating_pattern(seq, n)\n",
    "            push!(minimal_sequences, copy(seq))  # Ajouter une copie de la séquence à la liste\n",
    "        end\n",
    "        seq = next_sequence(seq, d)\n",
    "    end\n",
    "    \n",
    "    return minimal_sequences\n",
    "end\n",
    "\n",
    "function next_sequence(seq::Vector{Int}, d::Int)\n",
    "    n = length(seq)\n",
    "    for i in n:-1:1\n",
    "        if seq[i] < d - 1\n",
    "            seq[i] += 1\n",
    "            for j in i+1:n\n",
    "                seq[j] = 0\n",
    "            end\n",
    "            return seq\n",
    "        end\n",
    "    end\n",
    "    return nothing\n",
    "end"
   ]
  },
  {
   "cell_type": "code",
   "execution_count": 12,
   "id": "40118243",
   "metadata": {},
   "outputs": [
    {
     "data": {
      "text/plain": [
       "dichotomy (generic function with 1 method)"
      ]
     },
     "execution_count": 12,
     "metadata": {},
     "output_type": "execute_result"
    }
   ],
   "source": [
    "function dichotomy(g,z,xm,XM,epsi)\n",
    "    t=(xm+XM)/2\n",
    "    while XM-xm>epsi\n",
    "        if g(t)>z\n",
    "            XM=t\n",
    "        else\n",
    "            xm=t\n",
    "        end\n",
    "        t=(xm+XM)/2\n",
    "    end\n",
    "    return t\n",
    "end"
   ]
  },
  {
   "cell_type": "code",
   "execution_count": 13,
   "id": "2ee8eeb5",
   "metadata": {},
   "outputs": [
    {
     "data": {
      "text/plain": [
       "suite_dadique (generic function with 1 method)"
      ]
     },
     "execution_count": 13,
     "metadata": {},
     "output_type": "execute_result"
    }
   ],
   "source": [
    "function suite_dadique(suite::Vector{Int}, d::Int,i)\n",
    "    value = [sum(suite[(j+i-k)%i+1] * d^(j-1) for j in 1:i) for k in 1:i]\n",
    "    return value\n",
    "end"
   ]
  },
  {
   "cell_type": "code",
   "execution_count": 14,
   "id": "951b2f2c",
   "metadata": {},
   "outputs": [
    {
     "data": {
      "text/plain": [
       "logdphiq (generic function with 1 method)"
      ]
     },
     "execution_count": 14,
     "metadata": {},
     "output_type": "execute_result"
    }
   ],
   "source": [
    "function logdphiq(phi,orbx,i,N,n,epsi)\n",
    "    lf=0\n",
    "    qTx=phi_n_per(phi,orbx,i,0,n,0,epsi)\n",
    "    for j in i:-1:1\n",
    "        lf+=inf(phi.logds(interval(orbx[j]-epsi,orbx[j]+epsi),qTx))\n",
    "        qTx=phi.image(interval(orbx[j]-epsi,orbx[j]+epsi),qTx)\n",
    "    end\n",
    "    return lf/i\n",
    "end"
   ]
  },
  {
   "cell_type": "code",
   "execution_count": 15,
   "id": "a9df0409",
   "metadata": {},
   "outputs": [
    {
     "data": {
      "text/plain": [
       "lowboundlambdaF (generic function with 1 method)"
      ]
     },
     "execution_count": 15,
     "metadata": {},
     "output_type": "execute_result"
    }
   ],
   "source": [
    "function lowboundlambdaF(phi,T,n,N,M)\n",
    "    d=T.degree\n",
    "    lf=inf(phi.logds(0,phi_n(phi,T,interval(0,0),interval(0,0),n)))\n",
    "    epsi=min(1/(2^N),1/(2*(1+T.maxd)*(T.maxd^M-1)))/10\n",
    "    for i in 2:M\n",
    "        g=x->compose(T.image,x,i)-x\n",
    "        seq=generate_minimal_non_repeating_sequences(T.degree,i)\n",
    "        for x in seq \n",
    "            image_orbx=suite_dadique(x,T.degree,i)\n",
    "            orbx=[]\n",
    "            xm=0\n",
    "            xM=1\n",
    "            for f in image_orbx\n",
    "                a=dichotomy(g,f,xm,xM,epsi)\n",
    "                push!(orbx,a)\n",
    "                Ta=T.image(a)\n",
    "                err=epsi*T.maxd\n",
    "                xm=Ta-err\n",
    "                xM=Ta+err\n",
    "            end\n",
    "            lf=max(lf,logdphiq(phi,T,orbx,i,N,n,epsi))\n",
    "        end\n",
    "    end\n",
    "    return lf\n",
    "end"
   ]
  },
  {
   "cell_type": "markdown",
   "id": "04a93f1e",
   "metadata": {},
   "source": [
    "## Bound on Lambda_u"
   ]
  },
  {
   "cell_type": "code",
   "execution_count": 61,
   "id": "21075add",
   "metadata": {},
   "outputs": [
    {
     "data": {
      "text/plain": [
       "upperboundLu (generic function with 2 methods)"
      ]
     },
     "execution_count": 61,
     "metadata": {},
     "output_type": "execute_result"
    }
   ],
   "source": [
    "function upperboundLu(T,N,m,Q,I)\n",
    "    Indice=[i for i in 1:2^N]\n",
    "    Nmaj=N\n",
    "    bound=-Inf\n",
    "    for z in 1:I\n",
    "        len=length(Indice)\n",
    "        l=[interval((i-1)/2^Nmaj,i/2^Nmaj) for i in Indice]\n",
    "        r=[interval(0,0) for i in 1:len]\n",
    "        infi=[Inf for i in 1:len]\n",
    "        for i in 1:m\n",
    "            r+=[log(T.d(x)) for x in l]\n",
    "            infi=[min(sup(r[j])/i,infi[j]) for j in 1:len]\n",
    "            l=[T.image(x) for x in l]\n",
    "        end\n",
    "        boundmaj=quantile(infi,1-1/2^Q)\n",
    "        if bound>boundmaj \n",
    "            error(\"bound\")\n",
    "        end\n",
    "        bound=boundmaj\n",
    "        if z==I\n",
    "            return maximum(infi)\n",
    "        end\n",
    "        Nmaj=Nmaj+Q\n",
    "        Indicemaj=Indice[findall(x -> x > bound, infi)].*2^Q\n",
    "        Indice=reduce(vcat,[Indicemaj.-i for i in 0:2^Q-1])\n",
    "    end\n",
    "end"
   ]
  },
  {
   "cell_type": "code",
   "execution_count": 60,
   "id": "22d998e9",
   "metadata": {},
   "outputs": [
    {
     "data": {
      "text/plain": [
       "logdTseq (generic function with 2 methods)"
      ]
     },
     "execution_count": 60,
     "metadata": {},
     "output_type": "execute_result"
    }
   ],
   "source": [
    "function logdTseq(T,orbx,epsi)\n",
    "    r=interval(0,0)\n",
    "    i=length(orbx)\n",
    "    for j in 1:i\n",
    "        r+=log(T.d(interval(orbx[j]-epsi,orbx[j]+epsi)))\n",
    "    end\n",
    "    return inf(r)/i\n",
    "end"
   ]
  },
  {
   "cell_type": "markdown",
   "id": "3fba8b64",
   "metadata": {},
   "source": [
    "## Plot Holder regularity\n"
   ]
  },
  {
   "cell_type": "code",
   "execution_count": 62,
   "id": "d7a70176",
   "metadata": {},
   "outputs": [
    {
     "data": {
      "text/plain": [
       "plotBoundHolderreg (generic function with 1 method)"
      ]
     },
     "execution_count": 62,
     "metadata": {},
     "output_type": "execute_result"
    }
   ],
   "source": [
    "function plotBoundHolderreg(phi,T,premierl,pas,nbl,n,N,m,M,nu,Nu,plt)\n",
    "    \"step 1: find approximation of the periodique orbit\"\n",
    "    d=T.degree\n",
    "    epsi=1/(2^N)\n",
    "    Orbite=Vector{Vector{Float64}}()\n",
    "    push!(Orbite,[0])\n",
    "    for i in 2:M\n",
    "        g=x->compose(T.image,x,i)-x\n",
    "        seq=generate_minimal_non_repeating_sequences(T.degree,i)\n",
    "        for x in seq \n",
    "            image_orbx=suite_dadique(x,T.degree,i)\n",
    "            orbx=[]\n",
    "            xm=0\n",
    "            xM=1\n",
    "            for f in image_orbx\n",
    "                a=dichotomy(g,f,xm,xM,epsi)\n",
    "                push!(orbx,a)\n",
    "                Ta=T.image(a)\n",
    "                err=epsi*T.maxd\n",
    "                xm=Ta-err\n",
    "                xM=Ta+err\n",
    "            end\n",
    "        push!(Orbite,orbx) \n",
    "        end\n",
    "    end\n",
    "    \"step 2: find Lu\"\n",
    "    lowLu=maximum([logdTseq(T,orbx,epsi) for orbx in Orbite])\n",
    "    upLu=upperboundLu(T,10,14,1,20)\n",
    "    print(lowLu,upLu)\n",
    "    \"step 3: find Lf\"\n",
    "    upLf=zeros(Float64,nbl)\n",
    "    for p in 1:nbl\n",
    "        l=premierl+(p-1)*pas\n",
    "        upLf[p]=upboundlambdaF(phi(l),T,22,10,14,1,20)\n",
    "    end\n",
    "    lowLf=zeros(Float64,nbl)\n",
    "    for p in 1:nbl\n",
    "        l=premierl+(p-1)*pas\n",
    "        lowLf[p]=maximum([logdphiq(phi(l),orbx,length(orbx),N,200,epsi) for orbx in Orbite])\n",
    "    end\n",
    "    lowReg=upLf./(-upLu)\n",
    "    upReg=lowLf./(-lowLu)\n",
    "    if plt==true\n",
    "        L=[premierl + i*pas for i in 0:nbl-1]\n",
    "        p=scatter(L,upReg,color=:blue)\n",
    "        scatter!(p,L,lowReg,color=:red)\n",
    "        times=Dates.format(now(),\"yyyy-mm-dd_HH-MM-SS\")\n",
    "        ### savefig(homedir() * \"/Bureau/plot/\" * \"graphe_$times.png\")\n",
    "        display(p)\n",
    "    end\n",
    "    return lowReg,upReg\n",
    "end\n",
    "    "
   ]
  },
  {
   "cell_type": "code",
   "execution_count": 65,
   "id": "d8cfe3c7",
   "metadata": {},
   "outputs": [
    {
     "name": "stdout",
     "output_type": "stream",
     "text": [
      "0.96634428221222920.966344299791131"
     ]
    },
    {
     "ename": "LoadError",
     "evalue": "bound",
     "output_type": "error",
     "traceback": [
      "bound",
      "",
      "Stacktrace:",
      " [1] error(s::String)",
      "   @ Base .\\error.jl:35",
      " [2] upboundlambdaF(phi::phi, T::T, n::Int64, N::Int64, m::Int64, Q::Int64, I::Int64)",
      "   @ Main .\\In[8]:24",
      " [3] plotBoundHolderreg(phi::typeof(phi1), T::T, premierl::Float64, pas::Float64, nbl::Int64, n::Int64, N::Int64, m::Int64, M::Int64, nu::Int64, Nu::Int64, plt::Bool)",
      "   @ Main .\\In[62]:34",
      " [4] top-level scope",
      "   @ In[65]:1"
     ]
    }
   ],
   "source": [
    "plotBoundHolderreg(phi1,T1(0.1),0.7,0.1,2,n,N,m,M,nu,Nu,true)"
   ]
  },
  {
   "cell_type": "markdown",
   "id": "e282a56d",
   "metadata": {},
   "source": [
    "## Examples of transformations"
   ]
  },
  {
   "cell_type": "code",
   "execution_count": 22,
   "id": "ad8ae2e2",
   "metadata": {},
   "outputs": [],
   "source": [
    "struct T\n",
    "    image\n",
    "    d\n",
    "    maxd\n",
    "    mind\n",
    "    degree\n",
    "end"
   ]
  },
  {
   "cell_type": "code",
   "execution_count": 23,
   "id": "30453fa3",
   "metadata": {},
   "outputs": [
    {
     "data": {
      "text/plain": [
       "T1 (generic function with 1 method)"
      ]
     },
     "execution_count": 23,
     "metadata": {},
     "output_type": "execute_result"
    }
   ],
   "source": [
    "T1(e)=T(x->2*x+e*sin(2*pi*x),x->2+2*pi*e*cos(2*pi*x),2+2*pi*e,2-2*pi*e,2)"
   ]
  },
  {
   "cell_type": "markdown",
   "id": "4a8cd0e9",
   "metadata": {},
   "source": [
    "## Examples of laws of reproduction"
   ]
  },
  {
   "cell_type": "code",
   "execution_count": 24,
   "id": "fb21ad6c",
   "metadata": {},
   "outputs": [],
   "source": [
    "struct phi\n",
    "    image\n",
    "    logds\n",
    "    exp\n",
    "    maxexp\n",
    "    maxdexp\n",
    "    maxdx\n",
    "end"
   ]
  },
  {
   "cell_type": "code",
   "execution_count": 25,
   "id": "09b1bacd",
   "metadata": {},
   "outputs": [
    {
     "data": {
      "text/plain": [
       "phi1 (generic function with 1 method)"
      ]
     },
     "execution_count": 25,
     "metadata": {},
     "output_type": "execute_result"
    }
   ],
   "source": [
    "phi1(l)=phi((x,s)->exp((s - 1) * exp(l + cos(2 * x * π))),(x,s)->log(exp(l + cos(2 * x * π)) * phi1(l).image(x, s)),x->exp(l+cos(2 * x * π)),exp(l+1),2*π*exp(l+1),2*π/exp(1))"
   ]
  },
  {
   "cell_type": "code",
   "execution_count": 26,
   "id": "1d961230",
   "metadata": {},
   "outputs": [
    {
     "data": {
      "text/plain": [
       "phi2 (generic function with 1 method)"
      ]
     },
     "execution_count": 26,
     "metadata": {},
     "output_type": "execute_result"
    }
   ],
   "source": [
    "phi2(l)=phi((x,s)->exp((s - 1) * exp(l - cos(2 * x * π))),(x,s)->log(exp(l - cos(2 * x * π)) * phi2(l).image(x, s)),x->exp(l-cos(2 * x * π)),exp(l+1),2*π*exp(l+1),2*π/exp(1))"
   ]
  },
  {
   "cell_type": "markdown",
   "id": "86c17ea1",
   "metadata": {},
   "source": [
    "## General settings"
   ]
  },
  {
   "cell_type": "code",
   "execution_count": 27,
   "id": "6cc1da95",
   "metadata": {},
   "outputs": [
    {
     "data": {
      "text/plain": [
       "8"
      ]
     },
     "execution_count": 27,
     "metadata": {},
     "output_type": "execute_result"
    }
   ],
   "source": [
    "N = 14 # 2^N est le nb d'intervalles\n",
    "n = 14 # le nb d'itérations de notre fonction majorante et minorante\n",
    "m = 8\n",
    "M = 8 # taille max des orbites périodiques"
   ]
  },
  {
   "cell_type": "code",
   "execution_count": 28,
   "id": "c7a74e77",
   "metadata": {},
   "outputs": [
    {
     "data": {
      "text/plain": [
       "8"
      ]
     },
     "execution_count": 28,
     "metadata": {},
     "output_type": "execute_result"
    }
   ],
   "source": [
    "Nu=14\n",
    "nu=8\n",
    "Mu=8"
   ]
  },
  {
   "cell_type": "markdown",
   "id": "6a4823e6",
   "metadata": {},
   "source": [
    "## Main"
   ]
  },
  {
   "cell_type": "code",
   "execution_count": 29,
   "id": "2c1e9f62",
   "metadata": {},
   "outputs": [
    {
     "data": {
      "text/plain": [
       "l"
      ]
     },
     "execution_count": 29,
     "metadata": {},
     "output_type": "execute_result"
    }
   ],
   "source": [
    "e=0.1\n",
    "\"e doit etre inférieur à 1/(pi*2) soit environ 0.159\"\n",
    "l=0.6"
   ]
  },
  {
   "cell_type": "code",
   "execution_count": null,
   "id": "0dc3536a",
   "metadata": {},
   "outputs": [],
   "source": []
  },
  {
   "cell_type": "code",
   "execution_count": null,
   "id": "41ad08c7",
   "metadata": {},
   "outputs": [],
   "source": []
  }
 ],
 "metadata": {
  "kernelspec": {
   "display_name": "Julia 1.10.4",
   "language": "julia",
   "name": "julia-1.10"
  },
  "language_info": {
   "file_extension": ".jl",
   "mimetype": "application/julia",
   "name": "julia",
   "version": "1.10.4"
  }
 },
 "nbformat": 4,
 "nbformat_minor": 5
}
