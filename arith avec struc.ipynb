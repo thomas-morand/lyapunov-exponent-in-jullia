{
 "cells": [
  {
   "cell_type": "code",
   "execution_count": 1,
   "id": "39888979",
   "metadata": {},
   "outputs": [],
   "source": [
    "using IntervalArithmetic\n",
    "using Plots \n",
    "using Dates"
   ]
  },
  {
   "cell_type": "markdown",
   "id": "d0d7fcb3",
   "metadata": {},
   "source": [
    "## Common functions"
   ]
  },
  {
   "cell_type": "code",
   "execution_count": 2,
   "id": "ab8c42e2",
   "metadata": {},
   "outputs": [
    {
     "data": {
      "text/plain": [
       "phi_n (generic function with 1 method)"
      ]
     },
     "execution_count": 2,
     "metadata": {},
     "output_type": "execute_result"
    }
   ],
   "source": [
    "function phi_n(phi,T,x, s, n)\n",
    "    \"Calculate the image of phi^{(n)}\"\n",
    "    if n == 0\n",
    "        return s\n",
    "    else\n",
    "        return phi.image(x, phi_n(phi,T,T.image(x), s, n-1))\n",
    "    end\n",
    "end\n"
   ]
  },
  {
   "cell_type": "code",
   "execution_count": 3,
   "id": "35c5d1d6",
   "metadata": {},
   "outputs": [
    {
     "data": {
      "text/plain": [
       "phi_nBoundK (generic function with 1 method)"
      ]
     },
     "execution_count": 3,
     "metadata": {},
     "output_type": "execute_result"
    }
   ],
   "source": [
    "function phi_nBoundK(phi,T,x, s, n,K)\n",
    "    if n == 0\n",
    "        return s\n",
    "    else\n",
    "        return phi.image(x,min(phi_nBoundK(phi,T,T.image(x), s, n-1,K),K))\n",
    "    end\n",
    "end"
   ]
  },
  {
   "cell_type": "code",
   "execution_count": 4,
   "id": "c31ebcec",
   "metadata": {},
   "outputs": [
    {
     "data": {
      "text/plain": [
       "compose (generic function with 1 method)"
      ]
     },
     "execution_count": 4,
     "metadata": {},
     "output_type": "execute_result"
    }
   ],
   "source": [
    "function compose(f, x, n)\n",
    "    if n == 0\n",
    "        return x\n",
    "    else\n",
    "        return compose(f, f(x), n-1)\n",
    "    end\n",
    "end\n"
   ]
  },
  {
   "cell_type": "markdown",
   "id": "e4082b4c",
   "metadata": {},
   "source": [
    "## Upper bound of q"
   ]
  },
  {
   "cell_type": "code",
   "execution_count": 5,
   "id": "daf6722d",
   "metadata": {},
   "outputs": [
    {
     "data": {
      "text/plain": [
       "FindNK (generic function with 1 method)"
      ]
     },
     "execution_count": 5,
     "metadata": {},
     "output_type": "execute_result"
    }
   ],
   "source": [
    "function FindNK(phi,T,N) \n",
    "    \"Find N such that the derivative at 1 of phi is always bigger than 1\"\n",
    "    x=[interval((i-1)/2^N,i/2^N) for i in 1:2^N]\n",
    "    y=[phi.exp(u) for u in x]\n",
    "    infi=minimum([inf(z) for z in y])\n",
    "    NK=1\n",
    "    while infi <= 1 && NK<30\n",
    "        NK=NK+1\n",
    "        x=[T.image(i) for i in x]\n",
    "        y=y.*[phi.exp(u) for u in x]\n",
    "        infi=minimum([inf(z) for z in y])\n",
    "    end\n",
    "    if NK==30\n",
    "        error(\"NK not find\")\n",
    "    end\n",
    "    return NK\n",
    "end\n"
   ]
  },
  {
   "cell_type": "code",
   "execution_count": 42,
   "id": "6d3b2660",
   "metadata": {},
   "outputs": [
    {
     "data": {
      "text/plain": [
       "FindNKv2 (generic function with 1 method)"
      ]
     },
     "execution_count": 42,
     "metadata": {},
     "output_type": "execute_result"
    }
   ],
   "source": [
    "function FindNKv2(phi,T,N)\n",
    "    K=Inf\n",
    "    x=[interval((i-1)/2^N,i/2^N) for i in 1:2^N]\n",
    "    y=[phi.exp(u) for u in x]\n",
    "    for NK in 1:8\n",
    "        infi=minimum([inf(z) for z in y])\n",
    "        if infi>1\n",
    "            K=min(K,FindKv2(phi,T,NK,N))\n",
    "        end\n",
    "        x=[T.image(i) for i in x]\n",
    "        y=y.*[phi.exp(u) for u in x]\n",
    "    end\n",
    "    if K==Inf\n",
    "        error(\"NK not find\")\n",
    "    end\n",
    "    return K\n",
    "end"
   ]
  },
  {
   "cell_type": "code",
   "execution_count": 7,
   "id": "bb0e17b5",
   "metadata": {},
   "outputs": [
    {
     "data": {
      "text/plain": [
       "FindK (generic function with 1 method)"
      ]
     },
     "execution_count": 7,
     "metadata": {},
     "output_type": "execute_result"
    }
   ],
   "source": [
    "function FindK(phi,T,NK,N)\n",
    "    \"Find K which dominates the extinction probability\"\n",
    "    K=1/2\n",
    "    A=[interval((i-1)/2^N,i/2^N) for i in 1:2^N]\n",
    "    while any(K-sup(phi_n(phi,T,x, K, NK))< 0 for x in A) && K<0.9999\n",
    "        K=(1+K)/2\n",
    "    end\n",
    "    if K>=0.9999\n",
    "        return error(\"NK not find\")\n",
    "    end\n",
    "    return maximum([sup(phi_n(phi,T,x, K, NK)) for x in A])\n",
    "end \n"
   ]
  },
  {
   "cell_type": "code",
   "execution_count": 8,
   "id": "78de56f1",
   "metadata": {},
   "outputs": [
    {
     "data": {
      "text/plain": [
       "FindKv2 (generic function with 1 method)"
      ]
     },
     "execution_count": 8,
     "metadata": {},
     "output_type": "execute_result"
    }
   ],
   "source": [
    "function FindKv2(phi,T,NK,N)\n",
    "    \"Find K which dominates the extinction probability\"\n",
    "    K=1/2\n",
    "    A=[interval((i-1)/2^N,i/2^N) for i in 1:2^N]\n",
    "    while any(K-sup(phi_n(phi,T,x, K, NK))< 0 for x in A) && K<0.9999\n",
    "        K=(1+K)/2\n",
    "    end\n",
    "    if K>=0.9999\n",
    "        return K=Inf\n",
    "    end\n",
    "    return maximum([sup(phi_n(phi,T,x, K, NK)) for x in A])\n",
    "end "
   ]
  },
  {
   "cell_type": "code",
   "execution_count": 9,
   "id": "333b0737",
   "metadata": {},
   "outputs": [
    {
     "data": {
      "text/plain": [
       "upboundq (generic function with 1 method)"
      ]
     },
     "execution_count": 9,
     "metadata": {},
     "output_type": "execute_result"
    }
   ],
   "source": [
    "function upboundq(phi,T,n,N,plt)  # N>n\n",
    "    \"find a good upper bound of q\"\n",
    "    NK=FindNK(phi,T,N)\n",
    "    K=FindK(phi,T,NK,N)\n",
    "    l1=[[interval(i/2^N,(i+1)/2^N),interval(K,K)]  for i in 0:(2^N-1)]\n",
    "    l2=[phi_n(phi,T,x[1],x[2],n) for x in l1]\n",
    "    if plt==true\n",
    "        x=[i/2^N for i in 1:2^N]\n",
    "        majqm=[sup(i) for i in l2]\n",
    "        p=plot(x,majqm,title=\"upboundq\",ylim=(-0.01,1.01))\n",
    "        display(p)\n",
    "    end\n",
    "    return l2\n",
    "end \n"
   ]
  },
  {
   "cell_type": "markdown",
   "id": "2864f003",
   "metadata": {},
   "source": [
    "## Upper bound of LambdaF"
   ]
  },
  {
   "cell_type": "code",
   "execution_count": 10,
   "id": "b3c0dea1",
   "metadata": {},
   "outputs": [
    {
     "data": {
      "text/plain": [
       "upboundlambdaF (generic function with 1 method)"
      ]
     },
     "execution_count": 10,
     "metadata": {},
     "output_type": "execute_result"
    }
   ],
   "source": [
    "function upboundlambdaF(phi,T,n,N,m)\n",
    "    \"find a good upper bound of lambdaF method 1\"   \n",
    "    NK=FindNK(phi,T,N)\n",
    "    K=FindK(phi,T,NK,N)\n",
    "    l=[[interval(i/2^N,(i+1)/2^N) for i in 0:2^N-1]]\n",
    "    for i in 1:m\n",
    "        push!(l,[T.image(x) for x in l[i]])\n",
    "    end\n",
    "    l1=[[x,interval(K,K)]  for x in l[m+1]]\n",
    "    majq=[phi_n(phi,T,x[1],x[2],n) for x in l1]\n",
    "    r=[interval(0,0) for i in 1:2^N]\n",
    "    for i in 1:m\n",
    "        r+=[phi.logds(l[m+1-i][j],majq[j]) for j in 1:2^N]\n",
    "        if i<m\n",
    "            majq=[phi.image(l[m+1-i][j],majq[j]) for j in 1:2^N]\n",
    "        end\n",
    "    end\n",
    "    return maximum([sup(j) for j in r])/m\n",
    "end"
   ]
  },
  {
   "cell_type": "code",
   "execution_count": 11,
   "id": "c2ce03ac",
   "metadata": {},
   "outputs": [
    {
     "data": {
      "text/plain": [
       "upboundlambdaF2 (generic function with 1 method)"
      ]
     },
     "execution_count": 11,
     "metadata": {},
     "output_type": "execute_result"
    }
   ],
   "source": [
    "function upboundlambdaF2(phi,T,n,N,m)\n",
    "    \"find a good upper bound of lambdaF method 2\"   \n",
    "    NK=FindNK(phi,T,N)\n",
    "    K=FindK(phi,T,NK,N)\n",
    "    l=[interval(i/2^N,(i+1)/2^N) for i in 0:2^N-1]\n",
    "    Tl=[]\n",
    "    r=[interval(0,0) for i in 1:2^N]\n",
    "    infi=[0 for i in 1:2^N]\n",
    "    for i in 1:m\n",
    "        Tl=[T.image(x) for x in l]\n",
    "        majq=[phi_nBoundK(phi,T,x,interval(K,K),n,K) for x in Tl]\n",
    "        r+=[phi.logds(l[j],majq[j]) for j in 1:2^N]\n",
    "        infi=[min(sup(r[j])/i,infi[j]) for j in 1:2^N]\n",
    "        l=Tl\n",
    "    end\n",
    "    return maximum(infi)\n",
    "end"
   ]
  },
  {
   "cell_type": "markdown",
   "id": "15775329",
   "metadata": {},
   "source": [
    "## Lower bound of q "
   ]
  },
  {
   "cell_type": "code",
   "execution_count": 12,
   "id": "1fcddb20",
   "metadata": {},
   "outputs": [
    {
     "data": {
      "text/plain": [
       "lowboundq (generic function with 1 method)"
      ]
     },
     "execution_count": 12,
     "metadata": {},
     "output_type": "execute_result"
    }
   ],
   "source": [
    "function lowboundq(phi,T,n,N,plt)  # N>n\n",
    "    \"find a good lower bound of q\"\n",
    "    l1=[[interval(i/2^N,(i+1)/2^N),interval(0,0)]  for i in 0:(2^N-1)]\n",
    "    l2=[phi_n(phi,T,x[1],x[2],n) for x in l1]\n",
    "    if plt==true\n",
    "        x=[i/2^N for i in 1:2^N]\n",
    "        minqm=[inf(i) for i in l2]\n",
    "        p=plot(x,minqm,title=\"lowboundq\",ylim=(-0.01,1.01))\n",
    "        display(p)\n",
    "    end\n",
    "    return l2\n",
    "end"
   ]
  },
  {
   "cell_type": "markdown",
   "id": "6cf778ef",
   "metadata": {},
   "source": [
    "## Bounds on q "
   ]
  },
  {
   "cell_type": "code",
   "execution_count": 13,
   "id": "f57ff081",
   "metadata": {},
   "outputs": [
    {
     "data": {
      "text/plain": [
       "boundq (generic function with 1 method)"
      ]
     },
     "execution_count": 13,
     "metadata": {},
     "output_type": "execute_result"
    }
   ],
   "source": [
    "function boundq(phi,T,n,N,plt)  # N>n\n",
    "    \"find good bounds of q\"\n",
    "        NK=FindNK(phi,T,N)\n",
    "        K=FindK(phi,T,NK,N)\n",
    "        l1=[[interval(i/2^N,(i+1)/2^N),interval(K,K)]  for i in 0:(2^N-1)]\n",
    "        l2=[phi_n(phi,T,x[1],x[2],n) for x in l1]\n",
    "        l3=[[interval(i/2^N,(i+1)/2^N),interval(0,0)]  for i in 0:(2^N-1)]\n",
    "        l4=[phi_n(phi,T,x[1],x[2],n) for x in l3]\n",
    "        if plt==true\n",
    "            x=[i/2^N for i in 1:2^N]\n",
    "            majqm=[sup(i) for i in l2]\n",
    "            minqm=[inf(i) for i in l4]\n",
    "            plot(x,majqm,label=\"upboundq\",ylim=(-0.01,1.01))\n",
    "            display(plot!(x,minqm,label=\"lowboundq\"))\n",
    "        end\n",
    "        return l2,l4\n",
    "    end"
   ]
  },
  {
   "cell_type": "markdown",
   "id": "b079ec73",
   "metadata": {},
   "source": [
    "## Lower bound of Lambda_F"
   ]
  },
  {
   "cell_type": "code",
   "execution_count": 14,
   "id": "aaf302ec",
   "metadata": {},
   "outputs": [
    {
     "data": {
      "text/plain": [
       "next_sequence (generic function with 1 method)"
      ]
     },
     "execution_count": 14,
     "metadata": {},
     "output_type": "execute_result"
    }
   ],
   "source": [
    "\"finds a representative of each sequence of size n with integer values \n",
    "between 0 and d up to rotation and not containing a repeating pattern\"\n",
    "\n",
    "function is_rotation_of_minimal(seq, n)\n",
    "    for i in 1:n-1\n",
    "        rotated_seq = vcat(seq[i+1:end], seq[1:i])\n",
    "        if rotated_seq < seq\n",
    "            return false\n",
    "        end\n",
    "    end\n",
    "    return true\n",
    "end\n",
    "\n",
    "function has_repeating_pattern(seq, n)\n",
    "    for len in 1:div(n, 2)\n",
    "        if n % len == 0\n",
    "            pattern = seq[1:len]\n",
    "            is_repeating = true\n",
    "            for i in 1:div(n, len)\n",
    "                if seq[(i-1)*len+1:i*len] != pattern\n",
    "                    is_repeating = false\n",
    "                    break\n",
    "                end\n",
    "            end\n",
    "            if is_repeating\n",
    "                return true\n",
    "            end\n",
    "        end\n",
    "    end\n",
    "    return false\n",
    "end\n",
    "\n",
    "function generate_minimal_non_repeating_sequences(d::Int, n::Int)\n",
    "    minimal_sequences = Vector{Vector{Int}}()  \n",
    "    seq = fill(0, n)  \n",
    "    \n",
    "    while seq != nothing\n",
    "        if is_rotation_of_minimal(seq, n) && !has_repeating_pattern(seq, n)\n",
    "            push!(minimal_sequences, copy(seq))  # Ajouter une copie de la séquence à la liste\n",
    "        end\n",
    "        seq = next_sequence(seq, d)\n",
    "    end\n",
    "    \n",
    "    return minimal_sequences\n",
    "end\n",
    "\n",
    "function next_sequence(seq::Vector{Int}, d::Int)\n",
    "    n = length(seq)\n",
    "    for i in n:-1:1\n",
    "        if seq[i] < d - 1\n",
    "            seq[i] += 1\n",
    "            for j in i+1:n\n",
    "                seq[j] = 0\n",
    "            end\n",
    "            return seq\n",
    "        end\n",
    "    end\n",
    "    return nothing\n",
    "end"
   ]
  },
  {
   "cell_type": "code",
   "execution_count": 15,
   "id": "40118243",
   "metadata": {},
   "outputs": [
    {
     "data": {
      "text/plain": [
       "dichotomy (generic function with 1 method)"
      ]
     },
     "execution_count": 15,
     "metadata": {},
     "output_type": "execute_result"
    }
   ],
   "source": [
    "function dichotomy(g,z,xm,XM,epsi)\n",
    "    t=(xm+XM)/2\n",
    "    while XM-xm>epsi\n",
    "        if g(t)>z\n",
    "            XM=t\n",
    "        else\n",
    "            xm=t\n",
    "        end\n",
    "        t=(xm+XM)/2\n",
    "    end\n",
    "    return t\n",
    "end"
   ]
  },
  {
   "cell_type": "code",
   "execution_count": 16,
   "id": "2ee8eeb5",
   "metadata": {},
   "outputs": [
    {
     "data": {
      "text/plain": [
       "suite_dadique (generic function with 1 method)"
      ]
     },
     "execution_count": 16,
     "metadata": {},
     "output_type": "execute_result"
    }
   ],
   "source": [
    "function suite_dadique(suite::Vector{Int}, d::Int,i)\n",
    "    value = [sum(suite[(j+i-k)%i+1] * d^(j-1) for j in 1:i) for k in 1:i]\n",
    "    return value\n",
    "end"
   ]
  },
  {
   "cell_type": "code",
   "execution_count": 17,
   "id": "7c01def4",
   "metadata": {},
   "outputs": [
    {
     "data": {
      "text/plain": [
       "logdphiq (generic function with 1 method)"
      ]
     },
     "execution_count": 17,
     "metadata": {},
     "output_type": "execute_result"
    }
   ],
   "source": [
    "function logdphiq(phi,orbx,i,lbq,N,epsi)\n",
    "    lf=0\n",
    "    for j in 1:i\n",
    "        qtx=orbx[(j%i)+1]\n",
    "        indice=Int(mod(div(qtx,2.0^(-N)),2^N))\n",
    "        if indice==0\n",
    "            qtxE=hull(lbq[end],lbq[indice+1],lbq[indice+2])\n",
    "        elseif indice==2^N-1\n",
    "            qtxE=hull(lbq[indice],lbq[indice+1],lbq[1])\n",
    "        else\n",
    "            qtxE=hull(lbq[indice],lbq[indice+1],lbq[indice+2])\n",
    "        end\n",
    "        lf+=inf(phi.logds(interval(orbx[j]-epsi,orbx[j]+epsi),qtxE))\n",
    "    end\n",
    "    return lf/i\n",
    "end"
   ]
  },
  {
   "cell_type": "code",
   "execution_count": 18,
   "id": "7d555ed9",
   "metadata": {},
   "outputs": [
    {
     "data": {
      "text/plain": [
       "lowboundlambdaF (generic function with 1 method)"
      ]
     },
     "execution_count": 18,
     "metadata": {},
     "output_type": "execute_result"
    }
   ],
   "source": [
    "function lowboundlambdaF(phi,T,n,N,M)\n",
    "    d=T.degree\n",
    "    lbq=lowboundq(phi,T,n,N,false)\n",
    "    lf=inf(phi.logds(0,lbq[1]))\n",
    "    epsi=min(1/(2^N),1/(2*(1+T.maxd)*(T.maxd^M-1)))/10\n",
    "    for i in 2:M\n",
    "        g=x->compose(T.image,x,i)-x\n",
    "        seq=generate_minimal_non_repeating_sequences(T.degree,i)\n",
    "        for x in seq \n",
    "            image_orbx=suite_dadique(x,T.degree,i)\n",
    "            orbx=[]\n",
    "            xm=0\n",
    "            xM=1\n",
    "            for f in image_orbx\n",
    "                a=dichotomy(g,f,xm,xM,epsi)\n",
    "                push!(orbx,a)\n",
    "                Ta=T.image(a)\n",
    "                err=epsi*T.maxd\n",
    "                xm=Ta-err\n",
    "                xM=Ta+err\n",
    "            end\n",
    "            lf=max(lf,logdphiq(phi,orbx,i,lbq,N,epsi))\n",
    "        end\n",
    "    end\n",
    "    return lf\n",
    "end"
   ]
  },
  {
   "cell_type": "markdown",
   "id": "fb23a815",
   "metadata": {},
   "source": [
    "## Plot of Lambda_F against lambda\n"
   ]
  },
  {
   "cell_type": "code",
   "execution_count": 19,
   "id": "bfa0c5d1",
   "metadata": {},
   "outputs": [
    {
     "data": {
      "text/plain": [
       "plotlowupbound (generic function with 1 method)"
      ]
     },
     "execution_count": 19,
     "metadata": {},
     "output_type": "execute_result"
    }
   ],
   "source": [
    "function plotlowupbound(phi,T,premierl,pas,nbl,n,N,m,M)\n",
    "    L=[premierl + i*pas for i in 0:nbl-1]\n",
    "    Up=[upboundlambdaF2(phi(l),T,n,N,m) for l in L]\n",
    "    Upl2=[upboundlambdaF2(phi(l),T,n,N-2,m) for l in L]\n",
    "    Upl4=[upboundlambdaF2(phi(l),T,n,N-4,m) for l in L]\n",
    "    Low=[lowboundlambdaF(phi(l),T,n,N,M) for l in L]\n",
    "    p=scatter(L,Up,color=:yellow)\n",
    "    scatter!(p,L,Upl2,color=:red)\n",
    "    scatter!(p,L,Upl4,color=:black)\n",
    "    scatter!(p,L,Low,color=:blue)\n",
    "    times=Dates.format(now(),\"yyyy-mm-dd_HH-MM-SS\")\n",
    "    savefig(homedir() * \"/Bureau/plot/\" * \"graphe_$times.png\")\n",
    "    display(p)\n",
    "end"
   ]
  },
  {
   "cell_type": "markdown",
   "id": "04a93f1e",
   "metadata": {},
   "source": [
    "## Bound on Lambda_u"
   ]
  },
  {
   "cell_type": "code",
   "execution_count": 20,
   "id": "8f0e5cf4",
   "metadata": {},
   "outputs": [
    {
     "data": {
      "text/plain": [
       "upperboundLu (generic function with 1 method)"
      ]
     },
     "execution_count": 20,
     "metadata": {},
     "output_type": "execute_result"
    }
   ],
   "source": [
    "function upperboundLu(T,Nu,nu,plt)\n",
    "    l1=[interval(i/2^Nu,(i+1)/2^Nu) for i in 0:(2^Nu-1)]\n",
    "    l2=[interval(0,0) for i in 0:(2^Nu-1)]\n",
    "    for k in 1:nu\n",
    "        l2+=[log(T.d(x)) for x in l1]\n",
    "        if k<nu\n",
    "            l1=[T.image(x) for x in l1]\n",
    "        end\n",
    "    end\n",
    "    upLu=[sup(i)/nu for i in l2]\n",
    "    if plt==true\n",
    "        x=[i/2^N for i in 1:2^N]\n",
    "        p=plot(x,upLu,title=\"upboundLu\")\n",
    "        display(p)\n",
    "    end\n",
    "    return maximum(upLu)\n",
    "end   "
   ]
  },
  {
   "cell_type": "code",
   "execution_count": 21,
   "id": "ff927d11",
   "metadata": {},
   "outputs": [
    {
     "data": {
      "text/plain": [
       "logdTseq (generic function with 1 method)"
      ]
     },
     "execution_count": 21,
     "metadata": {},
     "output_type": "execute_result"
    }
   ],
   "source": [
    "function logdTseq(T,orbx,i,epsi)\n",
    "    r=interval(0,0)\n",
    "    for j in 1:i\n",
    "        r+=log(T.d(interval(orbx[j]-epsi,orbx[j]+epsi)))\n",
    "    end\n",
    "    return inf(r)/i\n",
    "end"
   ]
  },
  {
   "cell_type": "code",
   "execution_count": 22,
   "id": "6d58d0cf",
   "metadata": {},
   "outputs": [
    {
     "data": {
      "text/plain": [
       "lowerboundLu (generic function with 1 method)"
      ]
     },
     "execution_count": 22,
     "metadata": {},
     "output_type": "execute_result"
    }
   ],
   "source": [
    "function lowerboundLu(T,Mu)\n",
    "    d=T.degree\n",
    "    ldLu=log(T.d(0))\n",
    "    epsi=min(1/(1000),1/(2*(1+T.maxd)*(T.maxd^Mu-1)))/10\n",
    "    for i in 2:Mu\n",
    "        g=x->compose(T.image,x,i)-x\n",
    "        seq=generate_minimal_non_repeating_sequences(T.degree,i)\n",
    "        for x in seq \n",
    "            image_orbx=suite_dadique(x,T.degree,i)\n",
    "            orbx=[]\n",
    "            xm=0\n",
    "            xM=1\n",
    "            for f in image_orbx\n",
    "                a=dichotomy(g,f,xm,xM,epsi)\n",
    "                push!(orbx,a)\n",
    "                Ta=T.image(a)\n",
    "                err=epsi*T.maxd\n",
    "                xm=Ta-err\n",
    "                xM=Ta+err\n",
    "            end\n",
    "            ldLu=max(ldLu,logdTseq(T,orbx,i,epsi))\n",
    "        end\n",
    "    end\n",
    "    return ldLu\n",
    "end"
   ]
  },
  {
   "cell_type": "markdown",
   "id": "3fba8b64",
   "metadata": {},
   "source": [
    "## Plot Holder regularity\n"
   ]
  },
  {
   "cell_type": "code",
   "execution_count": 23,
   "id": "9b1053ef",
   "metadata": {},
   "outputs": [
    {
     "data": {
      "text/plain": [
       "logdTseqbis (generic function with 1 method)"
      ]
     },
     "execution_count": 23,
     "metadata": {},
     "output_type": "execute_result"
    }
   ],
   "source": [
    "function logdTseqbis(T,orbx,epsi)\n",
    "    r=interval(0,0)\n",
    "    i=length(orbx)\n",
    "    for j in 1:i\n",
    "        r+=log(T.d(interval(orbx[j]-epsi,orbx[j]+epsi)))\n",
    "    end\n",
    "    return inf(r)/i\n",
    "end"
   ]
  },
  {
   "cell_type": "code",
   "execution_count": 24,
   "id": "03c2350b",
   "metadata": {},
   "outputs": [
    {
     "data": {
      "text/plain": [
       "logdphiqbis (generic function with 1 method)"
      ]
     },
     "execution_count": 24,
     "metadata": {},
     "output_type": "execute_result"
    }
   ],
   "source": [
    "function logdphiqbis(phi,orbx,lbq,N,epsi)\n",
    "    lf=0\n",
    "    i=length(orbx)\n",
    "    for j in 1:i\n",
    "        qtx=orbx[(j%i)+1]\n",
    "        indice=Int(mod(div(qtx,2.0^(-N)),2^N))\n",
    "        if indice==0\n",
    "            qtxE=hull(lbq[end],lbq[indice+1],lbq[indice+2])\n",
    "        elseif indice==2^N-1\n",
    "            qtxE=hull(lbq[indice],lbq[indice+1],lbq[1])\n",
    "        else\n",
    "            qtxE=hull(lbq[indice],lbq[indice+1],lbq[indice+2])\n",
    "        end\n",
    "        lf+=inf(phi.logds(interval(orbx[j]-epsi,orbx[j]+epsi),qtxE))\n",
    "    end\n",
    "    return lf/i\n",
    "end"
   ]
  },
  {
   "cell_type": "code",
   "execution_count": 25,
   "id": "d7a70176",
   "metadata": {},
   "outputs": [
    {
     "data": {
      "text/plain": [
       "plotBoundHolderreg (generic function with 1 method)"
      ]
     },
     "execution_count": 25,
     "metadata": {},
     "output_type": "execute_result"
    }
   ],
   "source": [
    "function plotBoundHolderreg(phi,T,premierl,pas,nbl,n,N,m,M,nu,Nu,plt)\n",
    "    \"step 1: find approximation of the periodique orbit\"\n",
    "    d=T.degree\n",
    "    epsi=(1/(2*(1+T.maxd)*(T.maxd^M-1)))/10\n",
    "    Orbite=Vector{Vector{Float64}}()\n",
    "    push!(Orbite,[0])\n",
    "    for i in 2:M\n",
    "        g=x->compose(T.image,x,i)-x\n",
    "        seq=generate_minimal_non_repeating_sequences(T.degree,i)\n",
    "        for x in seq \n",
    "            image_orbx=suite_dadique(x,T.degree,i)\n",
    "            orbx=[]\n",
    "            xm=0\n",
    "            xM=1\n",
    "            for f in image_orbx\n",
    "                a=dichotomy(g,f,xm,xM,epsi)\n",
    "                push!(orbx,a)\n",
    "                Ta=T.image(a)\n",
    "                err=epsi*T.maxd\n",
    "                xm=Ta-err\n",
    "                xM=Ta+err\n",
    "            end\n",
    "        push!(Orbite,orbx) \n",
    "        end\n",
    "    end\n",
    "    \"step 2: find Lu\"\n",
    "    lowLu=maximum([logdTseqbis(T,orbx,epsi) for orbx in Orbite])\n",
    "    upLu=upperboundLu(T,Nu,nu,false)\n",
    "    \"step 3: find Lf\"\n",
    "    upLf=zeros(Float64,nbl)\n",
    "    for p in 1:nbl\n",
    "        l=premierl+(p-1)*pas\n",
    "        \"NK=FindNK(phi(l),T,N)\n",
    "        K=FindK(phi(l),T,NK,N)\"\n",
    "        K=FindNKv2(phi(l),T,N)\n",
    "        li=[interval(i/2^N,(i+1)/2^N) for i in 0:2^N-1]\n",
    "        Tl=[]\n",
    "        r=[interval(0,0) for i in 1:2^N]\n",
    "        infi=[0 for i in 1:2^N]\n",
    "        for i in 1:m\n",
    "            Tl=[T.image(x) for x in li]\n",
    "            majq=[phi_nBoundK(phi(l),T,x,interval(K,K),n,K) for x in Tl]\n",
    "            r+=[phi(l).logds(li[j],majq[j]) for j in 1:2^N]\n",
    "            infi=[min(sup(r[j])/i,infi[j]) for j in 1:2^N]\n",
    "            li=Tl\n",
    "        end\n",
    "        upLf[p]=maximum(infi)\n",
    "    end\n",
    "    lowLf=zeros(Float64,nbl)\n",
    "    for p in 1:nbl\n",
    "        l=premierl+(p-1)*pas\n",
    "        lbq=lowboundq(phi(l),T,n,N,false)\n",
    "        lowLf[p]=maximum([logdphiqbis(phi(l),orbx,lbq,N,epsi) for orbx in Orbite])\n",
    "    end\n",
    "    lowReg=upLf./(-lowLu)\n",
    "    upReg=lowLf./(-upLu)\n",
    "    if plt==true\n",
    "        L=[premierl + i*pas for i in 0:nbl-1]\n",
    "        p=scatter(L,upReg,color=:blue)\n",
    "        scatter!(p,L,lowReg,color=:red)\n",
    "        times=Dates.format(now(),\"yyyy-mm-dd_HH-MM-SS\")\n",
    "        savefig(homedir() * \"/Bureau/plot/\" * \"graphe_$times.png\")\n",
    "        display(p)\n",
    "    end\n",
    "    return lowReg,upReg\n",
    "end\n",
    "    "
   ]
  },
  {
   "cell_type": "code",
   "execution_count": 50,
   "id": "d8cfe3c7",
   "metadata": {},
   "outputs": [
    {
     "data": {
      "image/png": "[encoded data removed]",
      "image/svg+xml": [
       "<?xml version=\"1.0\" encoding=\"utf-8\"?>\n",
       "<svg xmlns=\"http://www.w3.org/2000/svg\" xmlns:xlink=\"http://www.w3.org/1999/xlink\" width=\"600\" height=\"400\" viewBox=\"0 0 2400 1600\">\n",
       "<defs>\n",
       "  <clipPath id=\"clip370\">\n",
       "    <rect x=\"0\" y=\"0\" width=\"2400\" height=\"1600\"/>\n",
       "  </clipPath>\n",
       "</defs>\n",
       "<path clip-path=\"url(#clip370)\" d=\"M0 1600 L2400 1600 L2400 0 L0 0  Z\" fill=\"#ffffff\" fill-rule=\"evenodd\" fill-opacity=\"1\"/>\n",
       "<defs>\n",
       "  <clipPath id=\"clip371\">\n",
       "    <rect x=\"480\" y=\"0\" width=\"1681\" height=\"1600\"/>\n",
       "  </clipPath>\n",
       "</defs>\n",
       "<path clip-path=\"url(#clip370)\" d=\"M184.677 1486.45 L2352.76 1486.45 L2352.76 47.2441 L184.677 47.2441  Z\" fill=\"#ffffff\" fill-rule=\"evenodd\" fill-opacity=\"1\"/>\n",
       "<defs>\n",
       "  <clipPath id=\"clip372\">\n",
       "    <rect x=\"184\" y=\"47\" width=\"2169\" height=\"1440\"/>\n",
       "  </clipPath>\n",
       "</defs>\n",
       "<polyline clip-path=\"url(#clip372)\" style=\"stroke:#000000; stroke-linecap:round; stroke-linejoin:round; stroke-width:2; stroke-opacity:0.1; fill:none\" points=\"246.038,1486.45 246.038,47.2441 \"/>\n",
       "<polyline clip-path=\"url(#clip372)\" style=\"stroke:#000000; stroke-linecap:round; stroke-linejoin:round; stroke-width:2; stroke-opacity:0.1; fill:none\" points=\"757.377,1486.45 757.377,47.2441 \"/>\n",
       "<polyline clip-path=\"url(#clip372)\" style=\"stroke:#000000; stroke-linecap:round; stroke-linejoin:round; stroke-width:2; stroke-opacity:0.1; fill:none\" points=\"1268.72,1486.45 1268.72,47.2441 \"/>\n",
       "<polyline clip-path=\"url(#clip372)\" style=\"stroke:#000000; stroke-linecap:round; stroke-linejoin:round; stroke-width:2; stroke-opacity:0.1; fill:none\" points=\"1780.06,1486.45 1780.06,47.2441 \"/>\n",
       "<polyline clip-path=\"url(#clip372)\" style=\"stroke:#000000; stroke-linecap:round; stroke-linejoin:round; stroke-width:2; stroke-opacity:0.1; fill:none\" points=\"2291.4,1486.45 2291.4,47.2441 \"/>\n",
       "<polyline clip-path=\"url(#clip372)\" style=\"stroke:#000000; stroke-linecap:round; stroke-linejoin:round; stroke-width:2; stroke-opacity:0.1; fill:none\" points=\"184.677,1255.53 2352.76,1255.53 \"/>\n",
       "<polyline clip-path=\"url(#clip372)\" style=\"stroke:#000000; stroke-linecap:round; stroke-linejoin:round; stroke-width:2; stroke-opacity:0.1; fill:none\" points=\"184.677,999.008 2352.76,999.008 \"/>\n",
       "<polyline clip-path=\"url(#clip372)\" style=\"stroke:#000000; stroke-linecap:round; stroke-linejoin:round; stroke-width:2; stroke-opacity:0.1; fill:none\" points=\"184.677,742.481 2352.76,742.481 \"/>\n",
       "<polyline clip-path=\"url(#clip372)\" style=\"stroke:#000000; stroke-linecap:round; stroke-linejoin:round; stroke-width:2; stroke-opacity:0.1; fill:none\" points=\"184.677,485.955 2352.76,485.955 \"/>\n",
       "<polyline clip-path=\"url(#clip372)\" style=\"stroke:#000000; stroke-linecap:round; stroke-linejoin:round; stroke-width:2; stroke-opacity:0.1; fill:none\" points=\"184.677,229.428 2352.76,229.428 \"/>\n",
       "<polyline clip-path=\"url(#clip370)\" style=\"stroke:#000000; stroke-linecap:round; stroke-linejoin:round; stroke-width:4; stroke-opacity:1; fill:none\" points=\"184.677,1486.45 2352.76,1486.45 \"/>\n",
       "<polyline clip-path=\"url(#clip370)\" style=\"stroke:#000000; stroke-linecap:round; stroke-linejoin:round; stroke-width:4; stroke-opacity:1; fill:none\" points=\"246.038,1486.45 246.038,1467.55 \"/>\n",
       "<polyline clip-path=\"url(#clip370)\" style=\"stroke:#000000; stroke-linecap:round; stroke-linejoin:round; stroke-width:4; stroke-opacity:1; fill:none\" points=\"757.377,1486.45 757.377,1467.55 \"/>\n",
       "<polyline clip-path=\"url(#clip370)\" style=\"stroke:#000000; stroke-linecap:round; stroke-linejoin:round; stroke-width:4; stroke-opacity:1; fill:none\" points=\"1268.72,1486.45 1268.72,1467.55 \"/>\n",
       "<polyline clip-path=\"url(#clip370)\" style=\"stroke:#000000; stroke-linecap:round; stroke-linejoin:round; stroke-width:4; stroke-opacity:1; fill:none\" points=\"1780.06,1486.45 1780.06,1467.55 \"/>\n",
       "<polyline clip-path=\"url(#clip370)\" style=\"stroke:#000000; stroke-linecap:round; stroke-linejoin:round; stroke-width:4; stroke-opacity:1; fill:none\" points=\"2291.4,1486.45 2291.4,1467.55 \"/>\n",
       "<path clip-path=\"url(#clip370)\" d=\"M198.11 1544.91 L205.748 1544.91 L205.748 1518.55 L197.438 1520.21 L197.438 1515.95 L205.702 1514.29 L210.378 1514.29 L210.378 1544.91 L218.017 1544.91 L218.017 1548.85 L198.11 1548.85 L198.11 1544.91 Z\" fill=\"#000000\" fill-rule=\"nonzero\" fill-opacity=\"1\" /><path clip-path=\"url(#clip370)\" d=\"M227.461 1542.97 L232.345 1542.97 L232.345 1548.85 L227.461 1548.85 L227.461 1542.97 Z\" fill=\"#000000\" fill-rule=\"nonzero\" fill-opacity=\"1\" /><path clip-path=\"url(#clip370)\" d=\"M243.341 1544.91 L250.98 1544.91 L250.98 1518.55 L242.669 1520.21 L242.669 1515.95 L250.933 1514.29 L255.609 1514.29 L255.609 1544.91 L263.248 1544.91 L263.248 1548.85 L243.341 1548.85 L243.341 1544.91 Z\" fill=\"#000000\" fill-rule=\"nonzero\" fill-opacity=\"1\" /><path clip-path=\"url(#clip370)\" d=\"M282.692 1517.37 Q279.081 1517.37 277.253 1520.93 Q275.447 1524.47 275.447 1531.6 Q275.447 1538.71 277.253 1542.27 Q279.081 1545.82 282.692 1545.82 Q286.327 1545.82 288.132 1542.27 Q289.961 1538.71 289.961 1531.6 Q289.961 1524.47 288.132 1520.93 Q286.327 1517.37 282.692 1517.37 M282.692 1513.66 Q288.503 1513.66 291.558 1518.27 Q294.637 1522.85 294.637 1531.6 Q294.637 1540.33 291.558 1544.94 Q288.503 1549.52 282.692 1549.52 Q276.882 1549.52 273.804 1544.94 Q270.748 1540.33 270.748 1531.6 Q270.748 1522.85 273.804 1518.27 Q276.882 1513.66 282.692 1513.66 Z\" fill=\"#000000\" fill-rule=\"nonzero\" fill-opacity=\"1\" /><path clip-path=\"url(#clip370)\" d=\"M710.248 1544.91 L717.886 1544.91 L717.886 1518.55 L709.576 1520.21 L709.576 1515.95 L717.84 1514.29 L722.516 1514.29 L722.516 1544.91 L730.155 1544.91 L730.155 1548.85 L710.248 1548.85 L710.248 1544.91 Z\" fill=\"#000000\" fill-rule=\"nonzero\" fill-opacity=\"1\" /><path clip-path=\"url(#clip370)\" d=\"M739.599 1542.97 L744.483 1542.97 L744.483 1548.85 L739.599 1548.85 L739.599 1542.97 Z\" fill=\"#000000\" fill-rule=\"nonzero\" fill-opacity=\"1\" /><path clip-path=\"url(#clip370)\" d=\"M755.479 1544.91 L763.118 1544.91 L763.118 1518.55 L754.808 1520.21 L754.808 1515.95 L763.071 1514.29 L767.747 1514.29 L767.747 1544.91 L775.386 1544.91 L775.386 1548.85 L755.479 1548.85 L755.479 1544.91 Z\" fill=\"#000000\" fill-rule=\"nonzero\" fill-opacity=\"1\" /><path clip-path=\"url(#clip370)\" d=\"M788.858 1544.91 L805.178 1544.91 L805.178 1548.85 L783.233 1548.85 L783.233 1544.91 Q785.895 1542.16 790.479 1537.53 Q795.085 1532.88 796.266 1531.53 Q798.511 1529.01 799.391 1527.27 Q800.293 1525.51 800.293 1523.82 Q800.293 1521.07 798.349 1519.33 Q796.428 1517.6 793.326 1517.6 Q791.127 1517.6 788.673 1518.36 Q786.243 1519.13 783.465 1520.68 L783.465 1515.95 Q786.289 1514.82 788.743 1514.24 Q791.196 1513.66 793.233 1513.66 Q798.604 1513.66 801.798 1516.35 Q804.992 1519.03 804.992 1523.52 Q804.992 1525.65 804.182 1527.57 Q803.395 1529.47 801.289 1532.07 Q800.71 1532.74 797.608 1535.95 Q794.506 1539.15 788.858 1544.91 Z\" fill=\"#000000\" fill-rule=\"nonzero\" fill-opacity=\"1\" /><path clip-path=\"url(#clip370)\" d=\"M1220.55 1544.91 L1228.18 1544.91 L1228.18 1518.55 L1219.87 1520.21 L1219.87 1515.95 L1228.14 1514.29 L1232.81 1514.29 L1232.81 1544.91 L1240.45 1544.91 L1240.45 1548.85 L1220.55 1548.85 L1220.55 1544.91 Z\" fill=\"#000000\" fill-rule=\"nonzero\" fill-opacity=\"1\" /><path clip-path=\"url(#clip370)\" d=\"M1249.9 1542.97 L1254.78 1542.97 L1254.78 1548.85 L1249.9 1548.85 L1249.9 1542.97 Z\" fill=\"#000000\" fill-rule=\"nonzero\" fill-opacity=\"1\" /><path clip-path=\"url(#clip370)\" d=\"M1265.78 1544.91 L1273.42 1544.91 L1273.42 1518.55 L1265.11 1520.21 L1265.11 1515.95 L1273.37 1514.29 L1278.05 1514.29 L1278.05 1544.91 L1285.68 1544.91 L1285.68 1548.85 L1265.78 1548.85 L1265.78 1544.91 Z\" fill=\"#000000\" fill-rule=\"nonzero\" fill-opacity=\"1\" /><path clip-path=\"url(#clip370)\" d=\"M1307.98 1518.36 L1296.17 1536.81 L1307.98 1536.81 L1307.98 1518.36 M1306.75 1514.29 L1312.63 1514.29 L1312.63 1536.81 L1317.56 1536.81 L1317.56 1540.7 L1312.63 1540.7 L1312.63 1548.85 L1307.98 1548.85 L1307.98 1540.7 L1292.37 1540.7 L1292.37 1536.19 L1306.75 1514.29 Z\" fill=\"#000000\" fill-rule=\"nonzero\" fill-opacity=\"1\" /><path clip-path=\"url(#clip370)\" d=\"M1732.05 1544.91 L1739.69 1544.91 L1739.69 1518.55 L1731.38 1520.21 L1731.38 1515.95 L1739.64 1514.29 L1744.32 1514.29 L1744.32 1544.91 L1751.95 1544.91 L1751.95 1548.85 L1732.05 1548.85 L1732.05 1544.91 Z\" fill=\"#000000\" fill-rule=\"nonzero\" fill-opacity=\"1\" /><path clip-path=\"url(#clip370)\" d=\"M1761.4 1542.97 L1766.28 1542.97 L1766.28 1548.85 L1761.4 1548.85 L1761.4 1542.97 Z\" fill=\"#000000\" fill-rule=\"nonzero\" fill-opacity=\"1\" /><path clip-path=\"url(#clip370)\" d=\"M1777.28 1544.91 L1784.92 1544.91 L1784.92 1518.55 L1776.61 1520.21 L1776.61 1515.95 L1784.87 1514.29 L1789.55 1514.29 L1789.55 1544.91 L1797.19 1544.91 L1797.19 1548.85 L1777.28 1548.85 L1777.28 1544.91 Z\" fill=\"#000000\" fill-rule=\"nonzero\" fill-opacity=\"1\" /><path clip-path=\"url(#clip370)\" d=\"M1817.21 1529.7 Q1814.06 1529.7 1812.21 1531.86 Q1810.38 1534.01 1810.38 1537.76 Q1810.38 1541.49 1812.21 1543.66 Q1814.06 1545.82 1817.21 1545.82 Q1820.36 1545.82 1822.19 1543.66 Q1824.04 1541.49 1824.04 1537.76 Q1824.04 1534.01 1822.19 1531.86 Q1820.36 1529.7 1817.21 1529.7 M1826.49 1515.05 L1826.49 1519.31 Q1824.73 1518.48 1822.93 1518.04 Q1821.14 1517.6 1819.38 1517.6 Q1814.75 1517.6 1812.3 1520.72 Q1809.87 1523.85 1809.52 1530.17 Q1810.89 1528.15 1812.95 1527.09 Q1815.01 1526 1817.49 1526 Q1822.69 1526 1825.7 1529.17 Q1828.74 1532.32 1828.74 1537.76 Q1828.74 1543.08 1825.59 1546.3 Q1822.44 1549.52 1817.21 1549.52 Q1811.21 1549.52 1808.04 1544.94 Q1804.87 1540.33 1804.87 1531.6 Q1804.87 1523.41 1808.76 1518.55 Q1812.65 1513.66 1819.2 1513.66 Q1820.96 1513.66 1822.74 1514.01 Q1824.55 1514.36 1826.49 1515.05 Z\" fill=\"#000000\" fill-rule=\"nonzero\" fill-opacity=\"1\" /><path clip-path=\"url(#clip370)\" d=\"M2243.51 1544.91 L2251.15 1544.91 L2251.15 1518.55 L2242.84 1520.21 L2242.84 1515.95 L2251.11 1514.29 L2255.78 1514.29 L2255.78 1544.91 L2263.42 1544.91 L2263.42 1548.85 L2243.51 1548.85 L2243.51 1544.91 Z\" fill=\"#000000\" fill-rule=\"nonzero\" fill-opacity=\"1\" /><path clip-path=\"url(#clip370)\" d=\"M2272.87 1542.97 L2277.75 1542.97 L2277.75 1548.85 L2272.87 1548.85 L2272.87 1542.97 Z\" fill=\"#000000\" fill-rule=\"nonzero\" fill-opacity=\"1\" /><path clip-path=\"url(#clip370)\" d=\"M2288.74 1544.91 L2296.38 1544.91 L2296.38 1518.55 L2288.07 1520.21 L2288.07 1515.95 L2296.34 1514.29 L2301.01 1514.29 L2301.01 1544.91 L2308.65 1544.91 L2308.65 1548.85 L2288.74 1548.85 L2288.74 1544.91 Z\" fill=\"#000000\" fill-rule=\"nonzero\" fill-opacity=\"1\" /><path clip-path=\"url(#clip370)\" d=\"M2328.1 1532.44 Q2324.76 1532.44 2322.84 1534.22 Q2320.94 1536 2320.94 1539.13 Q2320.94 1542.25 2322.84 1544.03 Q2324.76 1545.82 2328.1 1545.82 Q2331.43 1545.82 2333.35 1544.03 Q2335.27 1542.23 2335.27 1539.13 Q2335.27 1536 2333.35 1534.22 Q2331.45 1532.44 2328.1 1532.44 M2323.42 1530.45 Q2320.41 1529.7 2318.72 1527.64 Q2317.05 1525.58 2317.05 1522.62 Q2317.05 1518.48 2319.99 1516.07 Q2322.96 1513.66 2328.1 1513.66 Q2333.26 1513.66 2336.2 1516.07 Q2339.14 1518.48 2339.14 1522.62 Q2339.14 1525.58 2337.45 1527.64 Q2335.78 1529.7 2332.8 1530.45 Q2336.18 1531.23 2338.05 1533.52 Q2339.95 1535.82 2339.95 1539.13 Q2339.95 1544.15 2336.87 1546.83 Q2333.81 1549.52 2328.1 1549.52 Q2322.38 1549.52 2319.3 1546.83 Q2316.24 1544.15 2316.24 1539.13 Q2316.24 1535.82 2318.14 1533.52 Q2320.04 1531.23 2323.42 1530.45 M2321.71 1523.06 Q2321.71 1525.75 2323.37 1527.25 Q2325.06 1528.76 2328.1 1528.76 Q2331.11 1528.76 2332.8 1527.25 Q2334.51 1525.75 2334.51 1523.06 Q2334.51 1520.38 2332.8 1518.87 Q2331.11 1517.37 2328.1 1517.37 Q2325.06 1517.37 2323.37 1518.87 Q2321.71 1520.38 2321.71 1523.06 Z\" fill=\"#000000\" fill-rule=\"nonzero\" fill-opacity=\"1\" /><polyline clip-path=\"url(#clip370)\" style=\"stroke:#000000; stroke-linecap:round; stroke-linejoin:round; stroke-width:4; stroke-opacity:1; fill:none\" points=\"184.677,1486.45 184.677,47.2441 \"/>\n",
       "<polyline clip-path=\"url(#clip370)\" style=\"stroke:#000000; stroke-linecap:round; stroke-linejoin:round; stroke-width:4; stroke-opacity:1; fill:none\" points=\"184.677,1255.53 203.574,1255.53 \"/>\n",
       "<polyline clip-path=\"url(#clip370)\" style=\"stroke:#000000; stroke-linecap:round; stroke-linejoin:round; stroke-width:4; stroke-opacity:1; fill:none\" points=\"184.677,999.008 203.574,999.008 \"/>\n",
       "<polyline clip-path=\"url(#clip370)\" style=\"stroke:#000000; stroke-linecap:round; stroke-linejoin:round; stroke-width:4; stroke-opacity:1; fill:none\" points=\"184.677,742.481 203.574,742.481 \"/>\n",
       "<polyline clip-path=\"url(#clip370)\" style=\"stroke:#000000; stroke-linecap:round; stroke-linejoin:round; stroke-width:4; stroke-opacity:1; fill:none\" points=\"184.677,485.955 203.574,485.955 \"/>\n",
       "<polyline clip-path=\"url(#clip370)\" style=\"stroke:#000000; stroke-linecap:round; stroke-linejoin:round; stroke-width:4; stroke-opacity:1; fill:none\" points=\"184.677,229.428 203.574,229.428 \"/>\n",
       "<path clip-path=\"url(#clip370)\" d=\"M53.3764 1268.88 L61.0152 1268.88 L61.0152 1242.51 L52.7051 1244.18 L52.7051 1239.92 L60.9689 1238.25 L65.6448 1238.25 L65.6448 1268.88 L73.2837 1268.88 L73.2837 1272.81 L53.3764 1272.81 L53.3764 1268.88 Z\" fill=\"#000000\" fill-rule=\"nonzero\" fill-opacity=\"1\" /><path clip-path=\"url(#clip370)\" d=\"M82.7281 1266.93 L87.6123 1266.93 L87.6123 1272.81 L82.7281 1272.81 L82.7281 1266.93 Z\" fill=\"#000000\" fill-rule=\"nonzero\" fill-opacity=\"1\" /><path clip-path=\"url(#clip370)\" d=\"M98.6076 1268.88 L106.246 1268.88 L106.246 1242.51 L97.9363 1244.18 L97.9363 1239.92 L106.2 1238.25 L110.876 1238.25 L110.876 1268.88 L118.515 1268.88 L118.515 1272.81 L98.6076 1272.81 L98.6076 1268.88 Z\" fill=\"#000000\" fill-rule=\"nonzero\" fill-opacity=\"1\" /><path clip-path=\"url(#clip370)\" d=\"M128.769 1268.88 L136.408 1268.88 L136.408 1242.51 L128.098 1244.18 L128.098 1239.92 L136.362 1238.25 L141.038 1238.25 L141.038 1268.88 L148.677 1268.88 L148.677 1272.81 L128.769 1272.81 L128.769 1268.88 Z\" fill=\"#000000\" fill-rule=\"nonzero\" fill-opacity=\"1\" /><path clip-path=\"url(#clip370)\" d=\"M51.6634 1012.35 L59.3023 1012.35 L59.3023 985.987 L50.9921 987.654 L50.9921 983.395 L59.256 981.728 L63.9319 981.728 L63.9319 1012.35 L71.5707 1012.35 L71.5707 1016.29 L51.6634 1016.29 L51.6634 1012.35 Z\" fill=\"#000000\" fill-rule=\"nonzero\" fill-opacity=\"1\" /><path clip-path=\"url(#clip370)\" d=\"M81.0151 1010.41 L85.8993 1010.41 L85.8993 1016.29 L81.0151 1016.29 L81.0151 1010.41 Z\" fill=\"#000000\" fill-rule=\"nonzero\" fill-opacity=\"1\" /><path clip-path=\"url(#clip370)\" d=\"M96.8947 1012.35 L104.534 1012.35 L104.534 985.987 L96.2234 987.654 L96.2234 983.395 L104.487 981.728 L109.163 981.728 L109.163 1012.35 L116.802 1012.35 L116.802 1016.29 L96.8947 1016.29 L96.8947 1012.35 Z\" fill=\"#000000\" fill-rule=\"nonzero\" fill-opacity=\"1\" /><path clip-path=\"url(#clip370)\" d=\"M139.094 985.802 L127.288 1004.25 L139.094 1004.25 L139.094 985.802 M137.867 981.728 L143.746 981.728 L143.746 1004.25 L148.677 1004.25 L148.677 1008.14 L143.746 1008.14 L143.746 1016.29 L139.094 1016.29 L139.094 1008.14 L123.492 1008.14 L123.492 1003.63 L137.867 981.728 Z\" fill=\"#000000\" fill-rule=\"nonzero\" fill-opacity=\"1\" /><path clip-path=\"url(#clip370)\" d=\"M53.0523 755.826 L60.6911 755.826 L60.6911 729.46 L52.381 731.127 L52.381 726.868 L60.6449 725.201 L65.3208 725.201 L65.3208 755.826 L72.9596 755.826 L72.9596 759.761 L53.0523 759.761 L53.0523 755.826 Z\" fill=\"#000000\" fill-rule=\"nonzero\" fill-opacity=\"1\" /><path clip-path=\"url(#clip370)\" d=\"M82.404 753.882 L87.2882 753.882 L87.2882 759.761 L82.404 759.761 L82.404 753.882 Z\" fill=\"#000000\" fill-rule=\"nonzero\" fill-opacity=\"1\" /><path clip-path=\"url(#clip370)\" d=\"M98.2835 755.826 L105.922 755.826 L105.922 729.46 L97.6122 731.127 L97.6122 726.868 L105.876 725.201 L110.552 725.201 L110.552 755.826 L118.191 755.826 L118.191 759.761 L98.2835 759.761 L98.2835 755.826 Z\" fill=\"#000000\" fill-rule=\"nonzero\" fill-opacity=\"1\" /><path clip-path=\"url(#clip370)\" d=\"M126.455 725.201 L148.677 725.201 L148.677 727.192 L136.131 759.761 L131.246 759.761 L143.052 729.136 L126.455 729.136 L126.455 725.201 Z\" fill=\"#000000\" fill-rule=\"nonzero\" fill-opacity=\"1\" /><path clip-path=\"url(#clip370)\" d=\"M52.1495 499.299 L59.7884 499.299 L59.7884 472.934 L51.4782 474.6 L51.4782 470.341 L59.7421 468.675 L64.418 468.675 L64.418 499.299 L72.0568 499.299 L72.0568 503.235 L52.1495 503.235 L52.1495 499.299 Z\" fill=\"#000000\" fill-rule=\"nonzero\" fill-opacity=\"1\" /><path clip-path=\"url(#clip370)\" d=\"M81.5012 497.355 L86.3855 497.355 L86.3855 503.235 L81.5012 503.235 L81.5012 497.355 Z\" fill=\"#000000\" fill-rule=\"nonzero\" fill-opacity=\"1\" /><path clip-path=\"url(#clip370)\" d=\"M100.598 499.299 L116.918 499.299 L116.918 503.235 L94.9734 503.235 L94.9734 499.299 Q97.6354 496.545 102.219 491.915 Q106.825 487.262 108.006 485.92 Q110.251 483.397 111.131 481.661 Q112.033 479.901 112.033 478.212 Q112.033 475.457 110.089 473.721 Q108.168 471.985 105.066 471.985 Q102.867 471.985 100.413 472.749 Q97.9826 473.512 95.2049 475.063 L95.2049 470.341 Q98.0289 469.207 100.483 468.628 Q102.936 468.05 104.973 468.05 Q110.344 468.05 113.538 470.735 Q116.733 473.42 116.733 477.911 Q116.733 480.04 115.922 481.962 Q115.135 483.86 113.029 486.452 Q112.45 487.124 109.348 490.341 Q106.246 493.536 100.598 499.299 Z\" fill=\"#000000\" fill-rule=\"nonzero\" fill-opacity=\"1\" /><path clip-path=\"url(#clip370)\" d=\"M136.732 471.753 Q133.121 471.753 131.293 475.318 Q129.487 478.86 129.487 485.989 Q129.487 493.096 131.293 496.66 Q133.121 500.202 136.732 500.202 Q140.367 500.202 142.172 496.66 Q144.001 493.096 144.001 485.989 Q144.001 478.86 142.172 475.318 Q140.367 471.753 136.732 471.753 M136.732 468.05 Q142.543 468.05 145.598 472.656 Q148.677 477.239 148.677 485.989 Q148.677 494.716 145.598 499.323 Q142.543 503.906 136.732 503.906 Q130.922 503.906 127.844 499.323 Q124.788 494.716 124.788 485.989 Q124.788 477.239 127.844 472.656 Q130.922 468.05 136.732 468.05 Z\" fill=\"#000000\" fill-rule=\"nonzero\" fill-opacity=\"1\" /><path clip-path=\"url(#clip370)\" d=\"M52.7977 242.773 L60.4365 242.773 L60.4365 216.407 L52.1264 218.074 L52.1264 213.815 L60.3902 212.148 L65.0661 212.148 L65.0661 242.773 L72.705 242.773 L72.705 246.708 L52.7977 246.708 L52.7977 242.773 Z\" fill=\"#000000\" fill-rule=\"nonzero\" fill-opacity=\"1\" /><path clip-path=\"url(#clip370)\" d=\"M82.1494 240.828 L87.0336 240.828 L87.0336 246.708 L82.1494 246.708 L82.1494 240.828 Z\" fill=\"#000000\" fill-rule=\"nonzero\" fill-opacity=\"1\" /><path clip-path=\"url(#clip370)\" d=\"M101.246 242.773 L117.566 242.773 L117.566 246.708 L95.6215 246.708 L95.6215 242.773 Q98.2835 240.018 102.867 235.388 Q107.473 230.736 108.654 229.393 Q110.899 226.87 111.779 225.134 Q112.682 223.375 112.682 221.685 Q112.682 218.93 110.737 217.194 Q108.816 215.458 105.714 215.458 Q103.515 215.458 101.061 216.222 Q98.6308 216.986 95.853 218.537 L95.853 213.815 Q98.6771 212.68 101.131 212.102 Q103.584 211.523 105.621 211.523 Q110.992 211.523 114.186 214.208 Q117.381 216.893 117.381 221.384 Q117.381 223.514 116.57 225.435 Q115.783 227.333 113.677 229.926 Q113.098 230.597 109.996 233.814 Q106.895 237.009 101.246 242.773 Z\" fill=\"#000000\" fill-rule=\"nonzero\" fill-opacity=\"1\" /><path clip-path=\"url(#clip370)\" d=\"M141.547 228.074 Q144.904 228.791 146.779 231.06 Q148.677 233.328 148.677 236.662 Q148.677 241.777 145.158 244.578 Q141.64 247.379 135.158 247.379 Q132.982 247.379 130.668 246.939 Q128.376 246.523 125.922 245.666 L125.922 241.152 Q127.867 242.287 130.182 242.865 Q132.496 243.444 135.019 243.444 Q139.418 243.444 141.709 241.708 Q144.024 239.972 144.024 236.662 Q144.024 233.606 141.871 231.893 Q139.742 230.157 135.922 230.157 L131.894 230.157 L131.894 226.314 L136.107 226.314 Q139.556 226.314 141.385 224.949 Q143.214 223.56 143.214 220.967 Q143.214 218.305 141.316 216.893 Q139.441 215.458 135.922 215.458 Q134.001 215.458 131.802 215.875 Q129.603 216.291 126.964 217.171 L126.964 213.004 Q129.626 212.264 131.941 211.893 Q134.279 211.523 136.339 211.523 Q141.663 211.523 144.765 213.953 Q147.867 216.361 147.867 220.481 Q147.867 223.352 146.223 225.342 Q144.58 227.31 141.547 228.074 Z\" fill=\"#000000\" fill-rule=\"nonzero\" fill-opacity=\"1\" /><circle clip-path=\"url(#clip372)\" cx=\"246.038\" cy=\"1418.99\" r=\"14.4\" fill=\"#0000ff\" fill-rule=\"evenodd\" fill-opacity=\"1\" stroke=\"#000000\" stroke-opacity=\"1\" stroke-width=\"3.2\"/>\n",
       "<circle clip-path=\"url(#clip372)\" cx=\"757.377\" cy=\"1095.07\" r=\"14.4\" fill=\"#0000ff\" fill-rule=\"evenodd\" fill-opacity=\"1\" stroke=\"#000000\" stroke-opacity=\"1\" stroke-width=\"3.2\"/>\n",
       "<circle clip-path=\"url(#clip372)\" cx=\"1268.72\" cy=\"765.349\" r=\"14.4\" fill=\"#0000ff\" fill-rule=\"evenodd\" fill-opacity=\"1\" stroke=\"#000000\" stroke-opacity=\"1\" stroke-width=\"3.2\"/>\n",
       "<circle clip-path=\"url(#clip372)\" cx=\"1780.06\" cy=\"429.698\" r=\"14.4\" fill=\"#0000ff\" fill-rule=\"evenodd\" fill-opacity=\"1\" stroke=\"#000000\" stroke-opacity=\"1\" stroke-width=\"3.2\"/>\n",
       "<circle clip-path=\"url(#clip372)\" cx=\"2291.4\" cy=\"87.9763\" r=\"14.4\" fill=\"#0000ff\" fill-rule=\"evenodd\" fill-opacity=\"1\" stroke=\"#000000\" stroke-opacity=\"1\" stroke-width=\"3.2\"/>\n",
       "<circle clip-path=\"url(#clip372)\" cx=\"246.038\" cy=\"1445.72\" r=\"14.4\" fill=\"#ff0000\" fill-rule=\"evenodd\" fill-opacity=\"1\" stroke=\"#000000\" stroke-opacity=\"1\" stroke-width=\"3.2\"/>\n",
       "<circle clip-path=\"url(#clip372)\" cx=\"757.377\" cy=\"1120.32\" r=\"14.4\" fill=\"#ff0000\" fill-rule=\"evenodd\" fill-opacity=\"1\" stroke=\"#000000\" stroke-opacity=\"1\" stroke-width=\"3.2\"/>\n",
       "<circle clip-path=\"url(#clip372)\" cx=\"1268.72\" cy=\"789.451\" r=\"14.4\" fill=\"#ff0000\" fill-rule=\"evenodd\" fill-opacity=\"1\" stroke=\"#000000\" stroke-opacity=\"1\" stroke-width=\"3.2\"/>\n",
       "<circle clip-path=\"url(#clip372)\" cx=\"1780.06\" cy=\"452.942\" r=\"14.4\" fill=\"#ff0000\" fill-rule=\"evenodd\" fill-opacity=\"1\" stroke=\"#000000\" stroke-opacity=\"1\" stroke-width=\"3.2\"/>\n",
       "<circle clip-path=\"url(#clip372)\" cx=\"2291.4\" cy=\"110.316\" r=\"14.4\" fill=\"#ff0000\" fill-rule=\"evenodd\" fill-opacity=\"1\" stroke=\"#000000\" stroke-opacity=\"1\" stroke-width=\"3.2\"/>\n",
       "<path clip-path=\"url(#clip370)\" d=\"M256.946 250.738 L526.184 250.738 L526.184 95.2176 L256.946 95.2176  Z\" fill=\"#ffffff\" fill-rule=\"evenodd\" fill-opacity=\"1\"/>\n",
       "<polyline clip-path=\"url(#clip370)\" style=\"stroke:#000000; stroke-linecap:round; stroke-linejoin:round; stroke-width:4; stroke-opacity:1; fill:none\" points=\"256.946,250.738 526.184,250.738 526.184,95.2176 256.946,95.2176 256.946,250.738 \"/>\n",
       "<circle clip-path=\"url(#clip370)\" cx=\"353.305\" cy=\"147.058\" r=\"20.48\" fill=\"#0000ff\" fill-rule=\"evenodd\" fill-opacity=\"1\" stroke=\"#000000\" stroke-opacity=\"1\" stroke-width=\"4.55111\"/>\n",
       "<path clip-path=\"url(#clip370)\" d=\"M463.507 166.745 Q461.701 171.375 459.988 172.787 Q458.275 174.199 455.405 174.199 L452.002 174.199 L452.002 170.634 L454.502 170.634 Q456.261 170.634 457.234 169.8 Q458.206 168.967 459.386 165.865 L460.15 163.921 L449.664 138.412 L454.178 138.412 L462.28 158.689 L470.382 138.412 L474.896 138.412 L463.507 166.745 Z\" fill=\"#000000\" fill-rule=\"nonzero\" fill-opacity=\"1\" /><path clip-path=\"url(#clip370)\" d=\"M482.187 160.402 L489.826 160.402 L489.826 134.037 L481.516 135.703 L481.516 131.444 L489.78 129.778 L494.456 129.778 L494.456 160.402 L502.095 160.402 L502.095 164.338 L482.187 164.338 L482.187 160.402 Z\" fill=\"#000000\" fill-rule=\"nonzero\" fill-opacity=\"1\" /><circle clip-path=\"url(#clip370)\" cx=\"353.305\" cy=\"198.898\" r=\"20.48\" fill=\"#ff0000\" fill-rule=\"evenodd\" fill-opacity=\"1\" stroke=\"#000000\" stroke-opacity=\"1\" stroke-width=\"4.55111\"/>\n",
       "<path clip-path=\"url(#clip370)\" d=\"M463.507 218.585 Q461.701 223.215 459.988 224.627 Q458.275 226.039 455.405 226.039 L452.002 226.039 L452.002 222.474 L454.502 222.474 Q456.261 222.474 457.234 221.64 Q458.206 220.807 459.386 217.705 L460.15 215.761 L449.664 190.252 L454.178 190.252 L462.28 210.529 L470.382 190.252 L474.896 190.252 L463.507 218.585 Z\" fill=\"#000000\" fill-rule=\"nonzero\" fill-opacity=\"1\" /><path clip-path=\"url(#clip370)\" d=\"M485.405 212.242 L501.724 212.242 L501.724 216.178 L479.78 216.178 L479.78 212.242 Q482.442 209.488 487.025 204.858 Q491.632 200.205 492.812 198.863 Q495.058 196.34 495.937 194.604 Q496.84 192.844 496.84 191.155 Q496.84 188.4 494.895 186.664 Q492.974 184.928 489.872 184.928 Q487.673 184.928 485.22 185.692 Q482.789 186.455 480.011 188.006 L480.011 183.284 Q482.835 182.15 485.289 181.571 Q487.743 180.993 489.78 180.993 Q495.15 180.993 498.345 183.678 Q501.539 186.363 501.539 190.854 Q501.539 192.983 500.729 194.905 Q499.942 196.803 497.835 199.395 Q497.257 200.067 494.155 203.284 Q491.053 206.479 485.405 212.242 Z\" fill=\"#000000\" fill-rule=\"nonzero\" fill-opacity=\"1\" /></svg>\n"
      ],
      "text/html": [
       "<?xml version=\"1.0\" encoding=\"utf-8\"?>\n",
       "<svg xmlns=\"http://www.w3.org/2000/svg\" xmlns:xlink=\"http://www.w3.org/1999/xlink\" width=\"600\" height=\"400\" viewBox=\"0 0 2400 1600\">\n",
       "<defs>\n",
       "  <clipPath id=\"clip420\">\n",
       "    <rect x=\"0\" y=\"0\" width=\"2400\" height=\"1600\"/>\n",
       "  </clipPath>\n",
       "</defs>\n",
       "<path clip-path=\"url(#clip420)\" d=\"M0 1600 L2400 1600 L2400 0 L0 0  Z\" fill=\"#ffffff\" fill-rule=\"evenodd\" fill-opacity=\"1\"/>\n",
       "<defs>\n",
       "  <clipPath id=\"clip421\">\n",
       "    <rect x=\"480\" y=\"0\" width=\"1681\" height=\"1600\"/>\n",
       "  </clipPath>\n",
       "</defs>\n",
       "<path clip-path=\"url(#clip420)\" d=\"M184.677 1486.45 L2352.76 1486.45 L2352.76 47.2441 L184.677 47.2441  Z\" fill=\"#ffffff\" fill-rule=\"evenodd\" fill-opacity=\"1\"/>\n",
       "<defs>\n",
       "  <clipPath id=\"clip422\">\n",
       "    <rect x=\"184\" y=\"47\" width=\"2169\" height=\"1440\"/>\n",
       "  </clipPath>\n",
       "</defs>\n",
       "<polyline clip-path=\"url(#clip422)\" style=\"stroke:#000000; stroke-linecap:round; stroke-linejoin:round; stroke-width:2; stroke-opacity:0.1; fill:none\" points=\"246.038,1486.45 246.038,47.2441 \"/>\n",
       "<polyline clip-path=\"url(#clip422)\" style=\"stroke:#000000; stroke-linecap:round; stroke-linejoin:round; stroke-width:2; stroke-opacity:0.1; fill:none\" points=\"757.377,1486.45 757.377,47.2441 \"/>\n",
       "<polyline clip-path=\"url(#clip422)\" style=\"stroke:#000000; stroke-linecap:round; stroke-linejoin:round; stroke-width:2; stroke-opacity:0.1; fill:none\" points=\"1268.72,1486.45 1268.72,47.2441 \"/>\n",
       "<polyline clip-path=\"url(#clip422)\" style=\"stroke:#000000; stroke-linecap:round; stroke-linejoin:round; stroke-width:2; stroke-opacity:0.1; fill:none\" points=\"1780.06,1486.45 1780.06,47.2441 \"/>\n",
       "<polyline clip-path=\"url(#clip422)\" style=\"stroke:#000000; stroke-linecap:round; stroke-linejoin:round; stroke-width:2; stroke-opacity:0.1; fill:none\" points=\"2291.4,1486.45 2291.4,47.2441 \"/>\n",
       "<polyline clip-path=\"url(#clip422)\" style=\"stroke:#000000; stroke-linecap:round; stroke-linejoin:round; stroke-width:2; stroke-opacity:0.1; fill:none\" points=\"184.677,1255.53 2352.76,1255.53 \"/>\n",
       "<polyline clip-path=\"url(#clip422)\" style=\"stroke:#000000; stroke-linecap:round; stroke-linejoin:round; stroke-width:2; stroke-opacity:0.1; fill:none\" points=\"184.677,999.008 2352.76,999.008 \"/>\n",
       "<polyline clip-path=\"url(#clip422)\" style=\"stroke:#000000; stroke-linecap:round; stroke-linejoin:round; stroke-width:2; stroke-opacity:0.1; fill:none\" points=\"184.677,742.481 2352.76,742.481 \"/>\n",
       "<polyline clip-path=\"url(#clip422)\" style=\"stroke:#000000; stroke-linecap:round; stroke-linejoin:round; stroke-width:2; stroke-opacity:0.1; fill:none\" points=\"184.677,485.955 2352.76,485.955 \"/>\n",
       "<polyline clip-path=\"url(#clip422)\" style=\"stroke:#000000; stroke-linecap:round; stroke-linejoin:round; stroke-width:2; stroke-opacity:0.1; fill:none\" points=\"184.677,229.428 2352.76,229.428 \"/>\n",
       "<polyline clip-path=\"url(#clip420)\" style=\"stroke:#000000; stroke-linecap:round; stroke-linejoin:round; stroke-width:4; stroke-opacity:1; fill:none\" points=\"184.677,1486.45 2352.76,1486.45 \"/>\n",
       "<polyline clip-path=\"url(#clip420)\" style=\"stroke:#000000; stroke-linecap:round; stroke-linejoin:round; stroke-width:4; stroke-opacity:1; fill:none\" points=\"246.038,1486.45 246.038,1467.55 \"/>\n",
       "<polyline clip-path=\"url(#clip420)\" style=\"stroke:#000000; stroke-linecap:round; stroke-linejoin:round; stroke-width:4; stroke-opacity:1; fill:none\" points=\"757.377,1486.45 757.377,1467.55 \"/>\n",
       "<polyline clip-path=\"url(#clip420)\" style=\"stroke:#000000; stroke-linecap:round; stroke-linejoin:round; stroke-width:4; stroke-opacity:1; fill:none\" points=\"1268.72,1486.45 1268.72,1467.55 \"/>\n",
       "<polyline clip-path=\"url(#clip420)\" style=\"stroke:#000000; stroke-linecap:round; stroke-linejoin:round; stroke-width:4; stroke-opacity:1; fill:none\" points=\"1780.06,1486.45 1780.06,1467.55 \"/>\n",
       "<polyline clip-path=\"url(#clip420)\" style=\"stroke:#000000; stroke-linecap:round; stroke-linejoin:round; stroke-width:4; stroke-opacity:1; fill:none\" points=\"2291.4,1486.45 2291.4,1467.55 \"/>\n",
       "<path clip-path=\"url(#clip420)\" d=\"M198.11 1544.91 L205.748 1544.91 L205.748 1518.55 L197.438 1520.21 L197.438 1515.95 L205.702 1514.29 L210.378 1514.29 L210.378 1544.91 L218.017 1544.91 L218.017 1548.85 L198.11 1548.85 L198.11 1544.91 Z\" fill=\"#000000\" fill-rule=\"nonzero\" fill-opacity=\"1\" /><path clip-path=\"url(#clip420)\" d=\"M227.461 1542.97 L232.345 1542.97 L232.345 1548.85 L227.461 1548.85 L227.461 1542.97 Z\" fill=\"#000000\" fill-rule=\"nonzero\" fill-opacity=\"1\" /><path clip-path=\"url(#clip420)\" d=\"M243.341 1544.91 L250.98 1544.91 L250.98 1518.55 L242.669 1520.21 L242.669 1515.95 L250.933 1514.29 L255.609 1514.29 L255.609 1544.91 L263.248 1544.91 L263.248 1548.85 L243.341 1548.85 L243.341 1544.91 Z\" fill=\"#000000\" fill-rule=\"nonzero\" fill-opacity=\"1\" /><path clip-path=\"url(#clip420)\" d=\"M282.692 1517.37 Q279.081 1517.37 277.253 1520.93 Q275.447 1524.47 275.447 1531.6 Q275.447 1538.71 277.253 1542.27 Q279.081 1545.82 282.692 1545.82 Q286.327 1545.82 288.132 1542.27 Q289.961 1538.71 289.961 1531.6 Q289.961 1524.47 288.132 1520.93 Q286.327 1517.37 282.692 1517.37 M282.692 1513.66 Q288.503 1513.66 291.558 1518.27 Q294.637 1522.85 294.637 1531.6 Q294.637 1540.33 291.558 1544.94 Q288.503 1549.52 282.692 1549.52 Q276.882 1549.52 273.804 1544.94 Q270.748 1540.33 270.748 1531.6 Q270.748 1522.85 273.804 1518.27 Q276.882 1513.66 282.692 1513.66 Z\" fill=\"#000000\" fill-rule=\"nonzero\" fill-opacity=\"1\" /><path clip-path=\"url(#clip420)\" d=\"M710.248 1544.91 L717.886 1544.91 L717.886 1518.55 L709.576 1520.21 L709.576 1515.95 L717.84 1514.29 L722.516 1514.29 L722.516 1544.91 L730.155 1544.91 L730.155 1548.85 L710.248 1548.85 L710.248 1544.91 Z\" fill=\"#000000\" fill-rule=\"nonzero\" fill-opacity=\"1\" /><path clip-path=\"url(#clip420)\" d=\"M739.599 1542.97 L744.483 1542.97 L744.483 1548.85 L739.599 1548.85 L739.599 1542.97 Z\" fill=\"#000000\" fill-rule=\"nonzero\" fill-opacity=\"1\" /><path clip-path=\"url(#clip420)\" d=\"M755.479 1544.91 L763.118 1544.91 L763.118 1518.55 L754.808 1520.21 L754.808 1515.95 L763.071 1514.29 L767.747 1514.29 L767.747 1544.91 L775.386 1544.91 L775.386 1548.85 L755.479 1548.85 L755.479 1544.91 Z\" fill=\"#000000\" fill-rule=\"nonzero\" fill-opacity=\"1\" /><path clip-path=\"url(#clip420)\" d=\"M788.858 1544.91 L805.178 1544.91 L805.178 1548.85 L783.233 1548.85 L783.233 1544.91 Q785.895 1542.16 790.479 1537.53 Q795.085 1532.88 796.266 1531.53 Q798.511 1529.01 799.391 1527.27 Q800.293 1525.51 800.293 1523.82 Q800.293 1521.07 798.349 1519.33 Q796.428 1517.6 793.326 1517.6 Q791.127 1517.6 788.673 1518.36 Q786.243 1519.13 783.465 1520.68 L783.465 1515.95 Q786.289 1514.82 788.743 1514.24 Q791.196 1513.66 793.233 1513.66 Q798.604 1513.66 801.798 1516.35 Q804.992 1519.03 804.992 1523.52 Q804.992 1525.65 804.182 1527.57 Q803.395 1529.47 801.289 1532.07 Q800.71 1532.74 797.608 1535.95 Q794.506 1539.15 788.858 1544.91 Z\" fill=\"#000000\" fill-rule=\"nonzero\" fill-opacity=\"1\" /><path clip-path=\"url(#clip420)\" d=\"M1220.55 1544.91 L1228.18 1544.91 L1228.18 1518.55 L1219.87 1520.21 L1219.87 1515.95 L1228.14 1514.29 L1232.81 1514.29 L1232.81 1544.91 L1240.45 1544.91 L1240.45 1548.85 L1220.55 1548.85 L1220.55 1544.91 Z\" fill=\"#000000\" fill-rule=\"nonzero\" fill-opacity=\"1\" /><path clip-path=\"url(#clip420)\" d=\"M1249.9 1542.97 L1254.78 1542.97 L1254.78 1548.85 L1249.9 1548.85 L1249.9 1542.97 Z\" fill=\"#000000\" fill-rule=\"nonzero\" fill-opacity=\"1\" /><path clip-path=\"url(#clip420)\" d=\"M1265.78 1544.91 L1273.42 1544.91 L1273.42 1518.55 L1265.11 1520.21 L1265.11 1515.95 L1273.37 1514.29 L1278.05 1514.29 L1278.05 1544.91 L1285.68 1544.91 L1285.68 1548.85 L1265.78 1548.85 L1265.78 1544.91 Z\" fill=\"#000000\" fill-rule=\"nonzero\" fill-opacity=\"1\" /><path clip-path=\"url(#clip420)\" d=\"M1307.98 1518.36 L1296.17 1536.81 L1307.98 1536.81 L1307.98 1518.36 M1306.75 1514.29 L1312.63 1514.29 L1312.63 1536.81 L1317.56 1536.81 L1317.56 1540.7 L1312.63 1540.7 L1312.63 1548.85 L1307.98 1548.85 L1307.98 1540.7 L1292.37 1540.7 L1292.37 1536.19 L1306.75 1514.29 Z\" fill=\"#000000\" fill-rule=\"nonzero\" fill-opacity=\"1\" /><path clip-path=\"url(#clip420)\" d=\"M1732.05 1544.91 L1739.69 1544.91 L1739.69 1518.55 L1731.38 1520.21 L1731.38 1515.95 L1739.64 1514.29 L1744.32 1514.29 L1744.32 1544.91 L1751.95 1544.91 L1751.95 1548.85 L1732.05 1548.85 L1732.05 1544.91 Z\" fill=\"#000000\" fill-rule=\"nonzero\" fill-opacity=\"1\" /><path clip-path=\"url(#clip420)\" d=\"M1761.4 1542.97 L1766.28 1542.97 L1766.28 1548.85 L1761.4 1548.85 L1761.4 1542.97 Z\" fill=\"#000000\" fill-rule=\"nonzero\" fill-opacity=\"1\" /><path clip-path=\"url(#clip420)\" d=\"M1777.28 1544.91 L1784.92 1544.91 L1784.92 1518.55 L1776.61 1520.21 L1776.61 1515.95 L1784.87 1514.29 L1789.55 1514.29 L1789.55 1544.91 L1797.19 1544.91 L1797.19 1548.85 L1777.28 1548.85 L1777.28 1544.91 Z\" fill=\"#000000\" fill-rule=\"nonzero\" fill-opacity=\"1\" /><path clip-path=\"url(#clip420)\" d=\"M1817.21 1529.7 Q1814.06 1529.7 1812.21 1531.86 Q1810.38 1534.01 1810.38 1537.76 Q1810.38 1541.49 1812.21 1543.66 Q1814.06 1545.82 1817.21 1545.82 Q1820.36 1545.82 1822.19 1543.66 Q1824.04 1541.49 1824.04 1537.76 Q1824.04 1534.01 1822.19 1531.86 Q1820.36 1529.7 1817.21 1529.7 M1826.49 1515.05 L1826.49 1519.31 Q1824.73 1518.48 1822.93 1518.04 Q1821.14 1517.6 1819.38 1517.6 Q1814.75 1517.6 1812.3 1520.72 Q1809.87 1523.85 1809.52 1530.17 Q1810.89 1528.15 1812.95 1527.09 Q1815.01 1526 1817.49 1526 Q1822.69 1526 1825.7 1529.17 Q1828.74 1532.32 1828.74 1537.76 Q1828.74 1543.08 1825.59 1546.3 Q1822.44 1549.52 1817.21 1549.52 Q1811.21 1549.52 1808.04 1544.94 Q1804.87 1540.33 1804.87 1531.6 Q1804.87 1523.41 1808.76 1518.55 Q1812.65 1513.66 1819.2 1513.66 Q1820.96 1513.66 1822.74 1514.01 Q1824.55 1514.36 1826.49 1515.05 Z\" fill=\"#000000\" fill-rule=\"nonzero\" fill-opacity=\"1\" /><path clip-path=\"url(#clip420)\" d=\"M2243.51 1544.91 L2251.15 1544.91 L2251.15 1518.55 L2242.84 1520.21 L2242.84 1515.95 L2251.11 1514.29 L2255.78 1514.29 L2255.78 1544.91 L2263.42 1544.91 L2263.42 1548.85 L2243.51 1548.85 L2243.51 1544.91 Z\" fill=\"#000000\" fill-rule=\"nonzero\" fill-opacity=\"1\" /><path clip-path=\"url(#clip420)\" d=\"M2272.87 1542.97 L2277.75 1542.97 L2277.75 1548.85 L2272.87 1548.85 L2272.87 1542.97 Z\" fill=\"#000000\" fill-rule=\"nonzero\" fill-opacity=\"1\" /><path clip-path=\"url(#clip420)\" d=\"M2288.74 1544.91 L2296.38 1544.91 L2296.38 1518.55 L2288.07 1520.21 L2288.07 1515.95 L2296.34 1514.29 L2301.01 1514.29 L2301.01 1544.91 L2308.65 1544.91 L2308.65 1548.85 L2288.74 1548.85 L2288.74 1544.91 Z\" fill=\"#000000\" fill-rule=\"nonzero\" fill-opacity=\"1\" /><path clip-path=\"url(#clip420)\" d=\"M2328.1 1532.44 Q2324.76 1532.44 2322.84 1534.22 Q2320.94 1536 2320.94 1539.13 Q2320.94 1542.25 2322.84 1544.03 Q2324.76 1545.82 2328.1 1545.82 Q2331.43 1545.82 2333.35 1544.03 Q2335.27 1542.23 2335.27 1539.13 Q2335.27 1536 2333.35 1534.22 Q2331.45 1532.44 2328.1 1532.44 M2323.42 1530.45 Q2320.41 1529.7 2318.72 1527.64 Q2317.05 1525.58 2317.05 1522.62 Q2317.05 1518.48 2319.99 1516.07 Q2322.96 1513.66 2328.1 1513.66 Q2333.26 1513.66 2336.2 1516.07 Q2339.14 1518.48 2339.14 1522.62 Q2339.14 1525.58 2337.45 1527.64 Q2335.78 1529.7 2332.8 1530.45 Q2336.18 1531.23 2338.05 1533.52 Q2339.95 1535.82 2339.95 1539.13 Q2339.95 1544.15 2336.87 1546.83 Q2333.81 1549.52 2328.1 1549.52 Q2322.38 1549.52 2319.3 1546.83 Q2316.24 1544.15 2316.24 1539.13 Q2316.24 1535.82 2318.14 1533.52 Q2320.04 1531.23 2323.42 1530.45 M2321.71 1523.06 Q2321.71 1525.75 2323.37 1527.25 Q2325.06 1528.76 2328.1 1528.76 Q2331.11 1528.76 2332.8 1527.25 Q2334.51 1525.75 2334.51 1523.06 Q2334.51 1520.38 2332.8 1518.87 Q2331.11 1517.37 2328.1 1517.37 Q2325.06 1517.37 2323.37 1518.87 Q2321.71 1520.38 2321.71 1523.06 Z\" fill=\"#000000\" fill-rule=\"nonzero\" fill-opacity=\"1\" /><polyline clip-path=\"url(#clip420)\" style=\"stroke:#000000; stroke-linecap:round; stroke-linejoin:round; stroke-width:4; stroke-opacity:1; fill:none\" points=\"184.677,1486.45 184.677,47.2441 \"/>\n",
       "<polyline clip-path=\"url(#clip420)\" style=\"stroke:#000000; stroke-linecap:round; stroke-linejoin:round; stroke-width:4; stroke-opacity:1; fill:none\" points=\"184.677,1255.53 203.574,1255.53 \"/>\n",
       "<polyline clip-path=\"url(#clip420)\" style=\"stroke:#000000; stroke-linecap:round; stroke-linejoin:round; stroke-width:4; stroke-opacity:1; fill:none\" points=\"184.677,999.008 203.574,999.008 \"/>\n",
       "<polyline clip-path=\"url(#clip420)\" style=\"stroke:#000000; stroke-linecap:round; stroke-linejoin:round; stroke-width:4; stroke-opacity:1; fill:none\" points=\"184.677,742.481 203.574,742.481 \"/>\n",
       "<polyline clip-path=\"url(#clip420)\" style=\"stroke:#000000; stroke-linecap:round; stroke-linejoin:round; stroke-width:4; stroke-opacity:1; fill:none\" points=\"184.677,485.955 203.574,485.955 \"/>\n",
       "<polyline clip-path=\"url(#clip420)\" style=\"stroke:#000000; stroke-linecap:round; stroke-linejoin:round; stroke-width:4; stroke-opacity:1; fill:none\" points=\"184.677,229.428 203.574,229.428 \"/>\n",
       "<path clip-path=\"url(#clip420)\" d=\"M53.3764 1268.88 L61.0152 1268.88 L61.0152 1242.51 L52.7051 1244.18 L52.7051 1239.92 L60.9689 1238.25 L65.6448 1238.25 L65.6448 1268.88 L73.2837 1268.88 L73.2837 1272.81 L53.3764 1272.81 L53.3764 1268.88 Z\" fill=\"#000000\" fill-rule=\"nonzero\" fill-opacity=\"1\" /><path clip-path=\"url(#clip420)\" d=\"M82.7281 1266.93 L87.6123 1266.93 L87.6123 1272.81 L82.7281 1272.81 L82.7281 1266.93 Z\" fill=\"#000000\" fill-rule=\"nonzero\" fill-opacity=\"1\" /><path clip-path=\"url(#clip420)\" d=\"M98.6076 1268.88 L106.246 1268.88 L106.246 1242.51 L97.9363 1244.18 L97.9363 1239.92 L106.2 1238.25 L110.876 1238.25 L110.876 1268.88 L118.515 1268.88 L118.515 1272.81 L98.6076 1272.81 L98.6076 1268.88 Z\" fill=\"#000000\" fill-rule=\"nonzero\" fill-opacity=\"1\" /><path clip-path=\"url(#clip420)\" d=\"M128.769 1268.88 L136.408 1268.88 L136.408 1242.51 L128.098 1244.18 L128.098 1239.92 L136.362 1238.25 L141.038 1238.25 L141.038 1268.88 L148.677 1268.88 L148.677 1272.81 L128.769 1272.81 L128.769 1268.88 Z\" fill=\"#000000\" fill-rule=\"nonzero\" fill-opacity=\"1\" /><path clip-path=\"url(#clip420)\" d=\"M51.6634 1012.35 L59.3023 1012.35 L59.3023 985.987 L50.9921 987.654 L50.9921 983.395 L59.256 981.728 L63.9319 981.728 L63.9319 1012.35 L71.5707 1012.35 L71.5707 1016.29 L51.6634 1016.29 L51.6634 1012.35 Z\" fill=\"#000000\" fill-rule=\"nonzero\" fill-opacity=\"1\" /><path clip-path=\"url(#clip420)\" d=\"M81.0151 1010.41 L85.8993 1010.41 L85.8993 1016.29 L81.0151 1016.29 L81.0151 1010.41 Z\" fill=\"#000000\" fill-rule=\"nonzero\" fill-opacity=\"1\" /><path clip-path=\"url(#clip420)\" d=\"M96.8947 1012.35 L104.534 1012.35 L104.534 985.987 L96.2234 987.654 L96.2234 983.395 L104.487 981.728 L109.163 981.728 L109.163 1012.35 L116.802 1012.35 L116.802 1016.29 L96.8947 1016.29 L96.8947 1012.35 Z\" fill=\"#000000\" fill-rule=\"nonzero\" fill-opacity=\"1\" /><path clip-path=\"url(#clip420)\" d=\"M139.094 985.802 L127.288 1004.25 L139.094 1004.25 L139.094 985.802 M137.867 981.728 L143.746 981.728 L143.746 1004.25 L148.677 1004.25 L148.677 1008.14 L143.746 1008.14 L143.746 1016.29 L139.094 1016.29 L139.094 1008.14 L123.492 1008.14 L123.492 1003.63 L137.867 981.728 Z\" fill=\"#000000\" fill-rule=\"nonzero\" fill-opacity=\"1\" /><path clip-path=\"url(#clip420)\" d=\"M53.0523 755.826 L60.6911 755.826 L60.6911 729.46 L52.381 731.127 L52.381 726.868 L60.6449 725.201 L65.3208 725.201 L65.3208 755.826 L72.9596 755.826 L72.9596 759.761 L53.0523 759.761 L53.0523 755.826 Z\" fill=\"#000000\" fill-rule=\"nonzero\" fill-opacity=\"1\" /><path clip-path=\"url(#clip420)\" d=\"M82.404 753.882 L87.2882 753.882 L87.2882 759.761 L82.404 759.761 L82.404 753.882 Z\" fill=\"#000000\" fill-rule=\"nonzero\" fill-opacity=\"1\" /><path clip-path=\"url(#clip420)\" d=\"M98.2835 755.826 L105.922 755.826 L105.922 729.46 L97.6122 731.127 L97.6122 726.868 L105.876 725.201 L110.552 725.201 L110.552 755.826 L118.191 755.826 L118.191 759.761 L98.2835 759.761 L98.2835 755.826 Z\" fill=\"#000000\" fill-rule=\"nonzero\" fill-opacity=\"1\" /><path clip-path=\"url(#clip420)\" d=\"M126.455 725.201 L148.677 725.201 L148.677 727.192 L136.131 759.761 L131.246 759.761 L143.052 729.136 L126.455 729.136 L126.455 725.201 Z\" fill=\"#000000\" fill-rule=\"nonzero\" fill-opacity=\"1\" /><path clip-path=\"url(#clip420)\" d=\"M52.1495 499.299 L59.7884 499.299 L59.7884 472.934 L51.4782 474.6 L51.4782 470.341 L59.7421 468.675 L64.418 468.675 L64.418 499.299 L72.0568 499.299 L72.0568 503.235 L52.1495 503.235 L52.1495 499.299 Z\" fill=\"#000000\" fill-rule=\"nonzero\" fill-opacity=\"1\" /><path clip-path=\"url(#clip420)\" d=\"M81.5012 497.355 L86.3855 497.355 L86.3855 503.235 L81.5012 503.235 L81.5012 497.355 Z\" fill=\"#000000\" fill-rule=\"nonzero\" fill-opacity=\"1\" /><path clip-path=\"url(#clip420)\" d=\"M100.598 499.299 L116.918 499.299 L116.918 503.235 L94.9734 503.235 L94.9734 499.299 Q97.6354 496.545 102.219 491.915 Q106.825 487.262 108.006 485.92 Q110.251 483.397 111.131 481.661 Q112.033 479.901 112.033 478.212 Q112.033 475.457 110.089 473.721 Q108.168 471.985 105.066 471.985 Q102.867 471.985 100.413 472.749 Q97.9826 473.512 95.2049 475.063 L95.2049 470.341 Q98.0289 469.207 100.483 468.628 Q102.936 468.05 104.973 468.05 Q110.344 468.05 113.538 470.735 Q116.733 473.42 116.733 477.911 Q116.733 480.04 115.922 481.962 Q115.135 483.86 113.029 486.452 Q112.45 487.124 109.348 490.341 Q106.246 493.536 100.598 499.299 Z\" fill=\"#000000\" fill-rule=\"nonzero\" fill-opacity=\"1\" /><path clip-path=\"url(#clip420)\" d=\"M136.732 471.753 Q133.121 471.753 131.293 475.318 Q129.487 478.86 129.487 485.989 Q129.487 493.096 131.293 496.66 Q133.121 500.202 136.732 500.202 Q140.367 500.202 142.172 496.66 Q144.001 493.096 144.001 485.989 Q144.001 478.86 142.172 475.318 Q140.367 471.753 136.732 471.753 M136.732 468.05 Q142.543 468.05 145.598 472.656 Q148.677 477.239 148.677 485.989 Q148.677 494.716 145.598 499.323 Q142.543 503.906 136.732 503.906 Q130.922 503.906 127.844 499.323 Q124.788 494.716 124.788 485.989 Q124.788 477.239 127.844 472.656 Q130.922 468.05 136.732 468.05 Z\" fill=\"#000000\" fill-rule=\"nonzero\" fill-opacity=\"1\" /><path clip-path=\"url(#clip420)\" d=\"M52.7977 242.773 L60.4365 242.773 L60.4365 216.407 L52.1264 218.074 L52.1264 213.815 L60.3902 212.148 L65.0661 212.148 L65.0661 242.773 L72.705 242.773 L72.705 246.708 L52.7977 246.708 L52.7977 242.773 Z\" fill=\"#000000\" fill-rule=\"nonzero\" fill-opacity=\"1\" /><path clip-path=\"url(#clip420)\" d=\"M82.1494 240.828 L87.0336 240.828 L87.0336 246.708 L82.1494 246.708 L82.1494 240.828 Z\" fill=\"#000000\" fill-rule=\"nonzero\" fill-opacity=\"1\" /><path clip-path=\"url(#clip420)\" d=\"M101.246 242.773 L117.566 242.773 L117.566 246.708 L95.6215 246.708 L95.6215 242.773 Q98.2835 240.018 102.867 235.388 Q107.473 230.736 108.654 229.393 Q110.899 226.87 111.779 225.134 Q112.682 223.375 112.682 221.685 Q112.682 218.93 110.737 217.194 Q108.816 215.458 105.714 215.458 Q103.515 215.458 101.061 216.222 Q98.6308 216.986 95.853 218.537 L95.853 213.815 Q98.6771 212.68 101.131 212.102 Q103.584 211.523 105.621 211.523 Q110.992 211.523 114.186 214.208 Q117.381 216.893 117.381 221.384 Q117.381 223.514 116.57 225.435 Q115.783 227.333 113.677 229.926 Q113.098 230.597 109.996 233.814 Q106.895 237.009 101.246 242.773 Z\" fill=\"#000000\" fill-rule=\"nonzero\" fill-opacity=\"1\" /><path clip-path=\"url(#clip420)\" d=\"M141.547 228.074 Q144.904 228.791 146.779 231.06 Q148.677 233.328 148.677 236.662 Q148.677 241.777 145.158 244.578 Q141.64 247.379 135.158 247.379 Q132.982 247.379 130.668 246.939 Q128.376 246.523 125.922 245.666 L125.922 241.152 Q127.867 242.287 130.182 242.865 Q132.496 243.444 135.019 243.444 Q139.418 243.444 141.709 241.708 Q144.024 239.972 144.024 236.662 Q144.024 233.606 141.871 231.893 Q139.742 230.157 135.922 230.157 L131.894 230.157 L131.894 226.314 L136.107 226.314 Q139.556 226.314 141.385 224.949 Q143.214 223.56 143.214 220.967 Q143.214 218.305 141.316 216.893 Q139.441 215.458 135.922 215.458 Q134.001 215.458 131.802 215.875 Q129.603 216.291 126.964 217.171 L126.964 213.004 Q129.626 212.264 131.941 211.893 Q134.279 211.523 136.339 211.523 Q141.663 211.523 144.765 213.953 Q147.867 216.361 147.867 220.481 Q147.867 223.352 146.223 225.342 Q144.58 227.31 141.547 228.074 Z\" fill=\"#000000\" fill-rule=\"nonzero\" fill-opacity=\"1\" /><circle clip-path=\"url(#clip422)\" cx=\"246.038\" cy=\"1418.99\" r=\"14.4\" fill=\"#0000ff\" fill-rule=\"evenodd\" fill-opacity=\"1\" stroke=\"#000000\" stroke-opacity=\"1\" stroke-width=\"3.2\"/>\n",
       "<circle clip-path=\"url(#clip422)\" cx=\"757.377\" cy=\"1095.07\" r=\"14.4\" fill=\"#0000ff\" fill-rule=\"evenodd\" fill-opacity=\"1\" stroke=\"#000000\" stroke-opacity=\"1\" stroke-width=\"3.2\"/>\n",
       "<circle clip-path=\"url(#clip422)\" cx=\"1268.72\" cy=\"765.349\" r=\"14.4\" fill=\"#0000ff\" fill-rule=\"evenodd\" fill-opacity=\"1\" stroke=\"#000000\" stroke-opacity=\"1\" stroke-width=\"3.2\"/>\n",
       "<circle clip-path=\"url(#clip422)\" cx=\"1780.06\" cy=\"429.698\" r=\"14.4\" fill=\"#0000ff\" fill-rule=\"evenodd\" fill-opacity=\"1\" stroke=\"#000000\" stroke-opacity=\"1\" stroke-width=\"3.2\"/>\n",
       "<circle clip-path=\"url(#clip422)\" cx=\"2291.4\" cy=\"87.9763\" r=\"14.4\" fill=\"#0000ff\" fill-rule=\"evenodd\" fill-opacity=\"1\" stroke=\"#000000\" stroke-opacity=\"1\" stroke-width=\"3.2\"/>\n",
       "<circle clip-path=\"url(#clip422)\" cx=\"246.038\" cy=\"1445.72\" r=\"14.4\" fill=\"#ff0000\" fill-rule=\"evenodd\" fill-opacity=\"1\" stroke=\"#000000\" stroke-opacity=\"1\" stroke-width=\"3.2\"/>\n",
       "<circle clip-path=\"url(#clip422)\" cx=\"757.377\" cy=\"1120.32\" r=\"14.4\" fill=\"#ff0000\" fill-rule=\"evenodd\" fill-opacity=\"1\" stroke=\"#000000\" stroke-opacity=\"1\" stroke-width=\"3.2\"/>\n",
       "<circle clip-path=\"url(#clip422)\" cx=\"1268.72\" cy=\"789.451\" r=\"14.4\" fill=\"#ff0000\" fill-rule=\"evenodd\" fill-opacity=\"1\" stroke=\"#000000\" stroke-opacity=\"1\" stroke-width=\"3.2\"/>\n",
       "<circle clip-path=\"url(#clip422)\" cx=\"1780.06\" cy=\"452.942\" r=\"14.4\" fill=\"#ff0000\" fill-rule=\"evenodd\" fill-opacity=\"1\" stroke=\"#000000\" stroke-opacity=\"1\" stroke-width=\"3.2\"/>\n",
       "<circle clip-path=\"url(#clip422)\" cx=\"2291.4\" cy=\"110.316\" r=\"14.4\" fill=\"#ff0000\" fill-rule=\"evenodd\" fill-opacity=\"1\" stroke=\"#000000\" stroke-opacity=\"1\" stroke-width=\"3.2\"/>\n",
       "<path clip-path=\"url(#clip420)\" d=\"M256.946 250.738 L526.184 250.738 L526.184 95.2176 L256.946 95.2176  Z\" fill=\"#ffffff\" fill-rule=\"evenodd\" fill-opacity=\"1\"/>\n",
       "<polyline clip-path=\"url(#clip420)\" style=\"stroke:#000000; stroke-linecap:round; stroke-linejoin:round; stroke-width:4; stroke-opacity:1; fill:none\" points=\"256.946,250.738 526.184,250.738 526.184,95.2176 256.946,95.2176 256.946,250.738 \"/>\n",
       "<circle clip-path=\"url(#clip420)\" cx=\"353.305\" cy=\"147.058\" r=\"20.48\" fill=\"#0000ff\" fill-rule=\"evenodd\" fill-opacity=\"1\" stroke=\"#000000\" stroke-opacity=\"1\" stroke-width=\"4.55111\"/>\n",
       "<path clip-path=\"url(#clip420)\" d=\"M463.507 166.745 Q461.701 171.375 459.988 172.787 Q458.275 174.199 455.405 174.199 L452.002 174.199 L452.002 170.634 L454.502 170.634 Q456.261 170.634 457.234 169.8 Q458.206 168.967 459.386 165.865 L460.15 163.921 L449.664 138.412 L454.178 138.412 L462.28 158.689 L470.382 138.412 L474.896 138.412 L463.507 166.745 Z\" fill=\"#000000\" fill-rule=\"nonzero\" fill-opacity=\"1\" /><path clip-path=\"url(#clip420)\" d=\"M482.187 160.402 L489.826 160.402 L489.826 134.037 L481.516 135.703 L481.516 131.444 L489.78 129.778 L494.456 129.778 L494.456 160.402 L502.095 160.402 L502.095 164.338 L482.187 164.338 L482.187 160.402 Z\" fill=\"#000000\" fill-rule=\"nonzero\" fill-opacity=\"1\" /><circle clip-path=\"url(#clip420)\" cx=\"353.305\" cy=\"198.898\" r=\"20.48\" fill=\"#ff0000\" fill-rule=\"evenodd\" fill-opacity=\"1\" stroke=\"#000000\" stroke-opacity=\"1\" stroke-width=\"4.55111\"/>\n",
       "<path clip-path=\"url(#clip420)\" d=\"M463.507 218.585 Q461.701 223.215 459.988 224.627 Q458.275 226.039 455.405 226.039 L452.002 226.039 L452.002 222.474 L454.502 222.474 Q456.261 222.474 457.234 221.64 Q458.206 220.807 459.386 217.705 L460.15 215.761 L449.664 190.252 L454.178 190.252 L462.28 210.529 L470.382 190.252 L474.896 190.252 L463.507 218.585 Z\" fill=\"#000000\" fill-rule=\"nonzero\" fill-opacity=\"1\" /><path clip-path=\"url(#clip420)\" d=\"M485.405 212.242 L501.724 212.242 L501.724 216.178 L479.78 216.178 L479.78 212.242 Q482.442 209.488 487.025 204.858 Q491.632 200.205 492.812 198.863 Q495.058 196.34 495.937 194.604 Q496.84 192.844 496.84 191.155 Q496.84 188.4 494.895 186.664 Q492.974 184.928 489.872 184.928 Q487.673 184.928 485.22 185.692 Q482.789 186.455 480.011 188.006 L480.011 183.284 Q482.835 182.15 485.289 181.571 Q487.743 180.993 489.78 180.993 Q495.15 180.993 498.345 183.678 Q501.539 186.363 501.539 190.854 Q501.539 192.983 500.729 194.905 Q499.942 196.803 497.835 199.395 Q497.257 200.067 494.155 203.284 Q491.053 206.479 485.405 212.242 Z\" fill=\"#000000\" fill-rule=\"nonzero\" fill-opacity=\"1\" /></svg>\n"
      ]
     },
     "metadata": {},
     "output_type": "display_data"
    },
    {
     "data": {
      "text/plain": [
       "([1.087758897317441, 1.125812350781187, 1.164506970773946, 1.2038607642956054, 1.2439298240182797], [1.0908843862365498, 1.128766125209535, 1.1673257269331534, 1.206578980678578, 1.246542328190307])"
      ]
     },
     "execution_count": 50,
     "metadata": {},
     "output_type": "execute_result"
    }
   ],
   "source": [
    "plotBoundHolderreg(phi1,T1(e),1.1,0.02,5,n,N,m,M,nu,Nu,true)"
   ]
  },
  {
   "cell_type": "markdown",
   "id": "e282a56d",
   "metadata": {},
   "source": [
    "## Examples of transformations"
   ]
  },
  {
   "cell_type": "code",
   "execution_count": 27,
   "id": "ad8ae2e2",
   "metadata": {},
   "outputs": [],
   "source": [
    "struct T\n",
    "    image\n",
    "    d\n",
    "    maxd\n",
    "    mind\n",
    "    degree\n",
    "end"
   ]
  },
  {
   "cell_type": "code",
   "execution_count": 28,
   "id": "30453fa3",
   "metadata": {},
   "outputs": [
    {
     "data": {
      "text/plain": [
       "T1 (generic function with 1 method)"
      ]
     },
     "execution_count": 28,
     "metadata": {},
     "output_type": "execute_result"
    }
   ],
   "source": [
    "T1(e)=T(x->2*x+e*sin(2*pi*x),x->2+2*pi*e*cos(2*pi*x),2+2*pi*e,2-2*pi*e,2)"
   ]
  },
  {
   "cell_type": "markdown",
   "id": "4a8cd0e9",
   "metadata": {},
   "source": [
    "## Examples of laws of reproduction"
   ]
  },
  {
   "cell_type": "code",
   "execution_count": 29,
   "id": "fb21ad6c",
   "metadata": {},
   "outputs": [],
   "source": [
    "struct phi\n",
    "    image\n",
    "    logds\n",
    "    exp\n",
    "    maxexp\n",
    "    maxdexp\n",
    "    maxdx\n",
    "end"
   ]
  },
  {
   "cell_type": "code",
   "execution_count": 30,
   "id": "09b1bacd",
   "metadata": {},
   "outputs": [
    {
     "data": {
      "text/plain": [
       "phi1 (generic function with 1 method)"
      ]
     },
     "execution_count": 30,
     "metadata": {},
     "output_type": "execute_result"
    }
   ],
   "source": [
    "phi1(l)=phi((x,s)->exp((s - 1) * exp(l + cos(2 * x * π))),(x,s)->log(exp(l + cos(2 * x * π)) * phi1(l).image(x, s)),x->exp(l+cos(2 * x * π)),exp(l+1),2*π*exp(l+1),2*π/exp(1))"
   ]
  },
  {
   "cell_type": "code",
   "execution_count": 31,
   "id": "1d961230",
   "metadata": {},
   "outputs": [
    {
     "data": {
      "text/plain": [
       "phi2 (generic function with 1 method)"
      ]
     },
     "execution_count": 31,
     "metadata": {},
     "output_type": "execute_result"
    }
   ],
   "source": [
    "phi2(l)=phi((x,s)->exp((s - 1) * exp(l - cos(2 * x * π))),(x,s)->log(exp(l - cos(2 * x * π)) * phi2(l).image(x, s)),x->exp(l-cos(2 * x * π)),exp(l+1),2*π*exp(l+1),2*π/exp(1))"
   ]
  },
  {
   "cell_type": "markdown",
   "id": "86c17ea1",
   "metadata": {},
   "source": [
    "## General settings"
   ]
  },
  {
   "cell_type": "code",
   "execution_count": 32,
   "id": "6cc1da95",
   "metadata": {},
   "outputs": [
    {
     "data": {
      "text/plain": [
       "8"
      ]
     },
     "execution_count": 32,
     "metadata": {},
     "output_type": "execute_result"
    }
   ],
   "source": [
    "N = 14 # 2^N est le nb d'intervalles\n",
    "n = 14 # le nb d'itérations de notre fonction majorante et minorante\n",
    "m = 8\n",
    "M = 8 # taille max des orbites périodiques"
   ]
  },
  {
   "cell_type": "code",
   "execution_count": 33,
   "id": "c7a74e77",
   "metadata": {},
   "outputs": [
    {
     "data": {
      "text/plain": [
       "8"
      ]
     },
     "execution_count": 33,
     "metadata": {},
     "output_type": "execute_result"
    }
   ],
   "source": [
    "Nu=14\n",
    "nu=8\n",
    "Mu=8"
   ]
  },
  {
   "cell_type": "markdown",
   "id": "6a4823e6",
   "metadata": {},
   "source": [
    "## Main"
   ]
  },
  {
   "cell_type": "code",
   "execution_count": 34,
   "id": "2c1e9f62",
   "metadata": {},
   "outputs": [
    {
     "data": {
      "text/plain": [
       "l"
      ]
     },
     "execution_count": 34,
     "metadata": {},
     "output_type": "execute_result"
    }
   ],
   "source": [
    "e=0.1\n",
    "\"e doit etre inférieur à 1/(pi*2) soit environ 0.159\"\n",
    "l=0.6"
   ]
  },
  {
   "cell_type": "code",
   "execution_count": null,
   "id": "e9218c61",
   "metadata": {},
   "outputs": [],
   "source": []
  },
  {
   "cell_type": "code",
   "execution_count": null,
   "id": "5fca2e80",
   "metadata": {},
   "outputs": [],
   "source": []
  },
  {
   "cell_type": "code",
   "execution_count": null,
   "id": "1c289907",
   "metadata": {},
   "outputs": [],
   "source": []
  }
 ],
 "metadata": {
  "kernelspec": {
   "display_name": "Julia 1.10.5",
   "language": "julia",
   "name": "julia-1.10"
  },
  "language_info": {
   "file_extension": ".jl",
   "mimetype": "application/julia",
   "name": "julia",
   "version": "1.10.5"
  }
 },
 "nbformat": 4,
 "nbformat_minor": 5
}
