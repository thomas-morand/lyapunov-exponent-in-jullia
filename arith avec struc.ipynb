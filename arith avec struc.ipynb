{
 "cells": [
  {
   "cell_type": "code",
   "execution_count": 117,
   "id": "39888979",
   "metadata": {},
   "outputs": [],
   "source": [
    "using IntervalArithmetic\n",
    "using Plots \n",
    "using Dates"
   ]
  },
  {
   "cell_type": "markdown",
   "id": "d0d7fcb3",
   "metadata": {},
   "source": [
    "## Common functions"
   ]
  },
  {
   "cell_type": "code",
   "execution_count": 118,
   "id": "ab8c42e2",
   "metadata": {},
   "outputs": [
    {
     "data": {
      "text/plain": [
       "phi_n (generic function with 1 method)"
      ]
     },
     "execution_count": 118,
     "metadata": {},
     "output_type": "execute_result"
    }
   ],
   "source": [
    "function phi_n(phi,T,x, s, n)\n",
    "    \"Calculate the image of phi^{(n)}\"\n",
    "    if n == 0\n",
    "        return s\n",
    "    else\n",
    "        return phi.image(x, phi_n(phi,T,T.image(x), s, n-1))\n",
    "    end\n",
    "end\n"
   ]
  },
  {
   "cell_type": "code",
   "execution_count": 119,
   "id": "35c5d1d6",
   "metadata": {},
   "outputs": [
    {
     "data": {
      "text/plain": [
       "phi_nBoundK (generic function with 1 method)"
      ]
     },
     "execution_count": 119,
     "metadata": {},
     "output_type": "execute_result"
    }
   ],
   "source": [
    "function phi_nBoundK(phi,T,x, s, n,K)\n",
    "    if n == 0\n",
    "        return s\n",
    "    else\n",
    "        return phi.image(x,min(phi_nBoundK(phi,T,T.image(x), s, n-1,K),K))\n",
    "    end\n",
    "end"
   ]
  },
  {
   "cell_type": "code",
   "execution_count": 120,
   "id": "c31ebcec",
   "metadata": {},
   "outputs": [
    {
     "data": {
      "text/plain": [
       "compose (generic function with 1 method)"
      ]
     },
     "execution_count": 120,
     "metadata": {},
     "output_type": "execute_result"
    }
   ],
   "source": [
    "function compose(f, x, n)\n",
    "    if n == 0\n",
    "        return x\n",
    "    else\n",
    "        return compose(f, f(x), n-1)\n",
    "    end\n",
    "end\n"
   ]
  },
  {
   "cell_type": "markdown",
   "id": "e4082b4c",
   "metadata": {},
   "source": [
    "## Upper bound of q"
   ]
  },
  {
   "cell_type": "code",
   "execution_count": 121,
   "id": "daf6722d",
   "metadata": {},
   "outputs": [
    {
     "data": {
      "text/plain": [
       "FindNK (generic function with 1 method)"
      ]
     },
     "execution_count": 121,
     "metadata": {},
     "output_type": "execute_result"
    }
   ],
   "source": [
    "function FindNK(phi,T,N) \n",
    "    \"Find N such that the derivative at 1 of phi is always bigger than 1\"\n",
    "    x=[interval((i-1)/2^N,i/2^N) for i in 1:2^N]\n",
    "    y=[phi.exp(u) for u in x]\n",
    "    infi=minimum([inf(z) for z in y])\n",
    "    NK=1\n",
    "    while infi <= 1 && NK<30\n",
    "        NK=NK+1\n",
    "        x=[T.image(i) for i in x]\n",
    "        y=y.*[phi.exp(u) for u in x]\n",
    "        infi=minimum([inf(z) for z in y])\n",
    "    end\n",
    "    if NK==30\n",
    "        error(\"NK not find\")\n",
    "    end\n",
    "    return NK\n",
    "end\n"
   ]
  },
  {
   "cell_type": "code",
   "execution_count": 122,
   "id": "bb0e17b5",
   "metadata": {},
   "outputs": [
    {
     "data": {
      "text/plain": [
       "FindK (generic function with 1 method)"
      ]
     },
     "execution_count": 122,
     "metadata": {},
     "output_type": "execute_result"
    }
   ],
   "source": [
    "function FindK(phi,T,NK,N)\n",
    "    \"Find K which dominates the extinction probability\"\n",
    "    K=1/2\n",
    "    A=[interval((i-1)/2^N,i/2^N) for i in 1:2^N]\n",
    "    while any(K-sup(phi_n(phi,T,x, K, NK))< 0 for x in A) && K<0.9999\n",
    "        K=(1+K)/2\n",
    "    end\n",
    "    if K>=0.9999\n",
    "        error(\"K not find\")\n",
    "    end\n",
    "    return maximum([sup(phi_n(phi,T,x, K, NK)) for x in A])\n",
    "end \n"
   ]
  },
  {
   "cell_type": "code",
   "execution_count": 123,
   "id": "333b0737",
   "metadata": {},
   "outputs": [
    {
     "data": {
      "text/plain": [
       "upboundq (generic function with 1 method)"
      ]
     },
     "execution_count": 123,
     "metadata": {},
     "output_type": "execute_result"
    }
   ],
   "source": [
    "function upboundq(phi,T,n,N,plt)  # N>n\n",
    "    \"find a good upper bound of q\"\n",
    "    NK=FindNK(phi,T,N)\n",
    "    K=FindK(phi,T,NK,N)\n",
    "    l1=[[interval(i/2^N,(i+1)/2^N),interval(K,K)]  for i in 0:(2^N-1)]\n",
    "    l2=[phi_n(phi,T,x[1],x[2],n) for x in l1]\n",
    "    if plt==true\n",
    "        x=[i/2^N for i in 1:2^N]\n",
    "        majqm=[sup(i) for i in l2]\n",
    "        p=plot(x,majqm,title=\"upboundq\",ylim=(-0.01,1.01))\n",
    "        display(p)\n",
    "    end\n",
    "    return l2\n",
    "end \n"
   ]
  },
  {
   "cell_type": "markdown",
   "id": "2864f003",
   "metadata": {},
   "source": [
    "## Upper bound of LambdaF"
   ]
  },
  {
   "cell_type": "code",
   "execution_count": 124,
   "id": "b3c0dea1",
   "metadata": {},
   "outputs": [
    {
     "data": {
      "text/plain": [
       "upboundlambdaF (generic function with 1 method)"
      ]
     },
     "execution_count": 124,
     "metadata": {},
     "output_type": "execute_result"
    }
   ],
   "source": [
    "function upboundlambdaF(phi,T,n,N,m)\n",
    "    \"find a good upper bound of lambdaF method 1\"   \n",
    "    NK=FindNK(phi,T,N)\n",
    "    K=FindK(phi,T,NK,N)\n",
    "    l=[[interval(i/2^N,(i+1)/2^N) for i in 0:2^N-1]]\n",
    "    for i in 1:m\n",
    "        push!(l,[T.image(x) for x in l[i]])\n",
    "    end\n",
    "    l1=[[x,interval(K,K)]  for x in l[m+1]]\n",
    "    majq=[phi_n(phi,T,x[1],x[2],n) for x in l1]\n",
    "    r=[interval(0,0) for i in 1:2^N]\n",
    "    for i in 1:m\n",
    "        r+=[phi.logds(l[m+1-i][j],majq[j]) for j in 1:2^N]\n",
    "        if i<m\n",
    "            majq=[phi.image(l[m+1-i][j],majq[j]) for j in 1:2^N]\n",
    "        end\n",
    "    end\n",
    "    return maximum([sup(j) for j in r])/m\n",
    "end"
   ]
  },
  {
   "cell_type": "code",
   "execution_count": 125,
   "id": "c2ce03ac",
   "metadata": {},
   "outputs": [
    {
     "data": {
      "text/plain": [
       "upboundlambdaF2 (generic function with 1 method)"
      ]
     },
     "execution_count": 125,
     "metadata": {},
     "output_type": "execute_result"
    }
   ],
   "source": [
    "function upboundlambdaF2(phi,T,n,N,m)\n",
    "    \"find a good upper bound of lambdaF method 2\"   \n",
    "    NK=FindNK(phi,T,N)\n",
    "    K=FindK(phi,T,NK,N)\n",
    "    l=[interval(i/2^N,(i+1)/2^N) for i in 0:2^N-1]\n",
    "    Tl=[]\n",
    "    r=[interval(0,0) for i in 1:2^N]\n",
    "    infi=[0 for i in 1:2^N]\n",
    "    for i in 1:m\n",
    "        Tl=[T.image(x) for x in l]\n",
    "        majq=[phi_nBoundK(phi,T,x,interval(K,K),n,K) for x in Tl]\n",
    "        r+=[phi.logds(l[j],majq[j]) for j in 1:2^N]\n",
    "        infi=[min(sup(r[j])/i,infi[j]) for j in 1:2^N]\n",
    "        l=Tl\n",
    "    end\n",
    "    return maximum(infi)\n",
    "end"
   ]
  },
  {
   "cell_type": "markdown",
   "id": "15775329",
   "metadata": {},
   "source": [
    "## Lower bound of q "
   ]
  },
  {
   "cell_type": "code",
   "execution_count": 129,
   "id": "1fcddb20",
   "metadata": {},
   "outputs": [
    {
     "data": {
      "text/plain": [
       "lowboundq (generic function with 1 method)"
      ]
     },
     "execution_count": 129,
     "metadata": {},
     "output_type": "execute_result"
    }
   ],
   "source": [
    "function lowboundq(phi,T,n,N,plt)  # N>n\n",
    "    \"find a good lower bound of q\"\n",
    "    l1=[[interval(i/2^N,(i+1)/2^N),interval(0,0)]  for i in 0:(2^N-1)]\n",
    "    l2=[phi_n(phi,T,x[1],x[2],n) for x in l1]\n",
    "    if plt==true\n",
    "        x=[i/2^N for i in 1:2^N]\n",
    "        minqm=[inf(i) for i in l2]\n",
    "        p=plot(x,minqm,title=\"lowboundq\",ylim=(-0.01,1.01))\n",
    "        display(p)\n",
    "    end\n",
    "    return l2\n",
    "end"
   ]
  },
  {
   "cell_type": "markdown",
   "id": "6cf778ef",
   "metadata": {},
   "source": [
    "## Bounds on q "
   ]
  },
  {
   "cell_type": "code",
   "execution_count": 130,
   "id": "f57ff081",
   "metadata": {},
   "outputs": [
    {
     "data": {
      "text/plain": [
       "boundq (generic function with 1 method)"
      ]
     },
     "execution_count": 130,
     "metadata": {},
     "output_type": "execute_result"
    }
   ],
   "source": [
    "function boundq(phi,T,n,N,plt)  # N>n\n",
    "    \"find good bounds of q\"\n",
    "        NK=FindNK(phi,T,N)\n",
    "        K=FindK(phi,T,NK,N)\n",
    "        l1=[[interval(i/2^N,(i+1)/2^N),interval(K,K)]  for i in 0:(2^N-1)]\n",
    "        l2=[phi_n(phi,T,x[1],x[2],n) for x in l1]\n",
    "        l3=[[interval(i/2^N,(i+1)/2^N),interval(0,0)]  for i in 0:(2^N-1)]\n",
    "        l4=[phi_n(phi,T,x[1],x[2],n) for x in l3]\n",
    "        if plt==true\n",
    "            x=[i/2^N for i in 1:2^N]\n",
    "            majqm=[sup(i) for i in l2]\n",
    "            minqm=[inf(i) for i in l4]\n",
    "            plot(x,majqm,label=\"upboundq\",ylim=(-0.01,1.01))\n",
    "            display(plot!(x,minqm,label=\"lowboundq\"))\n",
    "        end\n",
    "        return l2,l4\n",
    "    end"
   ]
  },
  {
   "cell_type": "markdown",
   "id": "b079ec73",
   "metadata": {},
   "source": [
    "## Lower bound of Lambda_F"
   ]
  },
  {
   "cell_type": "code",
   "execution_count": 131,
   "id": "aaf302ec",
   "metadata": {},
   "outputs": [
    {
     "data": {
      "text/plain": [
       "next_sequence (generic function with 1 method)"
      ]
     },
     "execution_count": 131,
     "metadata": {},
     "output_type": "execute_result"
    }
   ],
   "source": [
    "\"finds a representative of each sequence of size n with integer values \n",
    "between 0 and d up to rotation and not containing a repeating pattern\"\n",
    "\n",
    "function is_rotation_of_minimal(seq, n)\n",
    "    for i in 1:n-1\n",
    "        rotated_seq = vcat(seq[i+1:end], seq[1:i])\n",
    "        if rotated_seq < seq\n",
    "            return false\n",
    "        end\n",
    "    end\n",
    "    return true\n",
    "end\n",
    "\n",
    "function has_repeating_pattern(seq, n)\n",
    "    for len in 1:div(n, 2)\n",
    "        if n % len == 0\n",
    "            pattern = seq[1:len]\n",
    "            is_repeating = true\n",
    "            for i in 1:div(n, len)\n",
    "                if seq[(i-1)*len+1:i*len] != pattern\n",
    "                    is_repeating = false\n",
    "                    break\n",
    "                end\n",
    "            end\n",
    "            if is_repeating\n",
    "                return true\n",
    "            end\n",
    "        end\n",
    "    end\n",
    "    return false\n",
    "end\n",
    "\n",
    "function generate_minimal_non_repeating_sequences(d::Int, n::Int)\n",
    "    minimal_sequences = Vector{Vector{Int}}()  \n",
    "    seq = fill(0, n)  \n",
    "    \n",
    "    while seq != nothing\n",
    "        if is_rotation_of_minimal(seq, n) && !has_repeating_pattern(seq, n)\n",
    "            push!(minimal_sequences, copy(seq))  # Ajouter une copie de la séquence à la liste\n",
    "        end\n",
    "        seq = next_sequence(seq, d)\n",
    "    end\n",
    "    \n",
    "    return minimal_sequences\n",
    "end\n",
    "\n",
    "function next_sequence(seq::Vector{Int}, d::Int)\n",
    "    n = length(seq)\n",
    "    for i in n:-1:1\n",
    "        if seq[i] < d - 1\n",
    "            seq[i] += 1\n",
    "            for j in i+1:n\n",
    "                seq[j] = 0\n",
    "            end\n",
    "            return seq\n",
    "        end\n",
    "    end\n",
    "    return nothing\n",
    "end"
   ]
  },
  {
   "cell_type": "code",
   "execution_count": 132,
   "id": "40118243",
   "metadata": {},
   "outputs": [
    {
     "data": {
      "text/plain": [
       "dichotomy (generic function with 1 method)"
      ]
     },
     "execution_count": 132,
     "metadata": {},
     "output_type": "execute_result"
    }
   ],
   "source": [
    "function dichotomy(g,z,xm,XM,epsi)\n",
    "    t=(xm+XM)/2\n",
    "    while XM-xm>epsi\n",
    "        if g(t)>z\n",
    "            XM=t\n",
    "        else\n",
    "            xm=t\n",
    "        end\n",
    "        t=(xm+XM)/2\n",
    "    end\n",
    "    return t\n",
    "end"
   ]
  },
  {
   "cell_type": "code",
   "execution_count": 133,
   "id": "2ee8eeb5",
   "metadata": {},
   "outputs": [
    {
     "data": {
      "text/plain": [
       "suite_dadique (generic function with 1 method)"
      ]
     },
     "execution_count": 133,
     "metadata": {},
     "output_type": "execute_result"
    }
   ],
   "source": [
    "function suite_dadique(suite::Vector{Int}, d::Int,i)\n",
    "    value = [sum(suite[(j+i-k)%i+1] * d^(j-1) for j in 1:i) for k in 1:i]\n",
    "    return value\n",
    "end"
   ]
  },
  {
   "cell_type": "code",
   "execution_count": 179,
   "id": "7c01def4",
   "metadata": {},
   "outputs": [
    {
     "data": {
      "text/plain": [
       "logdphiq (generic function with 1 method)"
      ]
     },
     "execution_count": 179,
     "metadata": {},
     "output_type": "execute_result"
    }
   ],
   "source": [
    "function logdphiq(phi,orbx,i,lbq,N,epsi)\n",
    "    lf=0\n",
    "    for j in 1:i\n",
    "        qtx=orbx[(j%i)+1]\n",
    "        indice=Int(mod(div(qtx,2.0^(-N)),2^N))\n",
    "        if indice==0\n",
    "            qtxE=hull(lbq[end],lbq[indice+1],lbq[indice+2])\n",
    "        elseif indice==2^N-1\n",
    "            qtxE=hull(lbq[indice],lbq[indice+1],lbq[1])\n",
    "        else\n",
    "            qtxE=hull(lbq[indice],lbq[indice+1],lbq[indice+2])\n",
    "        end\n",
    "        lf+=inf(phi.logds(interval(orbx[j]-epsi,orbx[j]+epsi),qtxE))\n",
    "    end\n",
    "    return lf/i\n",
    "end"
   ]
  },
  {
   "cell_type": "code",
   "execution_count": 135,
   "id": "7d555ed9",
   "metadata": {},
   "outputs": [
    {
     "data": {
      "text/plain": [
       "lowboundlambdaF (generic function with 1 method)"
      ]
     },
     "execution_count": 135,
     "metadata": {},
     "output_type": "execute_result"
    }
   ],
   "source": [
    "function lowboundlambdaF(phi,T,n,N,M)\n",
    "    d=T.degree\n",
    "    lbq=lowboundq(phi,T,n,N,false)\n",
    "    lf=inf(phi.logds(0,lbq[1]))\n",
    "    epsi=min(1/(2^N),1/(2*(1+T.maxd)*(T.maxd^M-1)))/10\n",
    "    for i in 2:M\n",
    "        g=x->compose(T.image,x,i)-x\n",
    "        seq=generate_minimal_non_repeating_sequences(T.degree,i)\n",
    "        for x in seq \n",
    "            image_orbx=suite_dadique(x,T.degree,i)\n",
    "            orbx=[]\n",
    "            xm=0\n",
    "            xM=1\n",
    "            for f in image_orbx\n",
    "                a=dichotomy(g,f,xm,xM,epsi)\n",
    "                push!(orbx,a)\n",
    "                Ta=T.image(a)\n",
    "                err=epsi*T.maxd\n",
    "                xm=Ta-err\n",
    "                xM=Ta+err\n",
    "            end\n",
    "            lf=max(lf,logdphiq(phi,orbx,i,lbq,N,epsi))\n",
    "        end\n",
    "    end\n",
    "    return lf\n",
    "end"
   ]
  },
  {
   "cell_type": "markdown",
   "id": "fb23a815",
   "metadata": {},
   "source": [
    "## Plot of Lambda_F against lambda\n"
   ]
  },
  {
   "cell_type": "code",
   "execution_count": 136,
   "id": "bfa0c5d1",
   "metadata": {},
   "outputs": [
    {
     "data": {
      "text/plain": [
       "plotlowupbound (generic function with 1 method)"
      ]
     },
     "execution_count": 136,
     "metadata": {},
     "output_type": "execute_result"
    }
   ],
   "source": [
    "function plotlowupbound(phi,T,premierl,pas,nbl,n,N,m,M)\n",
    "    L=[premierl + i*pas for i in 0:nbl-1]\n",
    "    Up=[upboundlambdaF2(phi(l),T,n,N,m) for l in L]\n",
    "    Upl2=[upboundlambdaF2(phi(l),T,n,N-2,m) for l in L]\n",
    "    Upl4=[upboundlambdaF2(phi(l),T,n,N-4,m) for l in L]\n",
    "    Low=[lowboundlambdaF(phi(l),T,n,N,M) for l in L]\n",
    "    p=scatter(L,Up,color=:yellow)\n",
    "    scatter!(p,L,Upl2,color=:red)\n",
    "    scatter!(p,L,Upl4,color=:black)\n",
    "    scatter!(p,L,Low,color=:blue)\n",
    "    times=Dates.format(now(),\"yyyy-mm-dd_HH-MM-SS\")\n",
    "    savefig(homedir() * \"/Bureau/plot/\" * \"graphe_$times.png\")\n",
    "    display(p)\n",
    "end"
   ]
  },
  {
   "cell_type": "markdown",
   "id": "04a93f1e",
   "metadata": {},
   "source": [
    "## Bound on Lambda_u"
   ]
  },
  {
   "cell_type": "code",
   "execution_count": 137,
   "id": "8f0e5cf4",
   "metadata": {},
   "outputs": [
    {
     "data": {
      "text/plain": [
       "upperboundLu (generic function with 1 method)"
      ]
     },
     "execution_count": 137,
     "metadata": {},
     "output_type": "execute_result"
    }
   ],
   "source": [
    "function upperboundLu(T,Nu,nu,plt)\n",
    "    l1=[interval(i/2^Nu,(i+1)/2^Nu) for i in 0:(2^Nu-1)]\n",
    "    l2=[interval(0,0) for i in 0:(2^Nu-1)]\n",
    "    for k in 1:nu\n",
    "        l2+=[log(T.d(x)) for x in l1]\n",
    "        if k<nu\n",
    "            l1=[T.image(x) for x in l1]\n",
    "        end\n",
    "    end\n",
    "    upLu=[sup(i)/nu for i in l2]\n",
    "    if plt==true\n",
    "        x=[i/2^N for i in 1:2^N]\n",
    "        p=plot(x,upLu,title=\"upboundLu\")\n",
    "        display(p)\n",
    "    end\n",
    "    return maximum(upLu)\n",
    "end   "
   ]
  },
  {
   "cell_type": "code",
   "execution_count": 138,
   "id": "ff927d11",
   "metadata": {},
   "outputs": [
    {
     "data": {
      "text/plain": [
       "logdTseq (generic function with 1 method)"
      ]
     },
     "execution_count": 138,
     "metadata": {},
     "output_type": "execute_result"
    }
   ],
   "source": [
    "function logdTseq(T,orbx,i,epsi)\n",
    "    r=interval(0,0)\n",
    "    for j in 1:i\n",
    "        r+=log(T.d(interval(orbx[j]-epsi,orbx[j]+epsi)))\n",
    "    end\n",
    "    return inf(r)/i\n",
    "end"
   ]
  },
  {
   "cell_type": "code",
   "execution_count": 139,
   "id": "6d58d0cf",
   "metadata": {},
   "outputs": [
    {
     "data": {
      "text/plain": [
       "lowerboundLu (generic function with 1 method)"
      ]
     },
     "execution_count": 139,
     "metadata": {},
     "output_type": "execute_result"
    }
   ],
   "source": [
    "function lowerboundLu(T,Mu)\n",
    "    d=T.degree\n",
    "    ldLu=log(T.d(0))\n",
    "    epsi=min(1/(1000),1/(2*(1+T.maxd)*(T.maxd^Mu-1)))/10\n",
    "    for i in 2:Mu\n",
    "        g=x->compose(T.image,x,i)-x\n",
    "        seq=generate_minimal_non_repeating_sequences(T.degree,i)\n",
    "        for x in seq \n",
    "            image_orbx=suite_dadique(x,T.degree,i)\n",
    "            orbx=[]\n",
    "            xm=0\n",
    "            xM=1\n",
    "            for f in image_orbx\n",
    "                a=dichotomy(g,f,xm,xM,epsi)\n",
    "                push!(orbx,a)\n",
    "                Ta=T.image(a)\n",
    "                err=epsi*T.maxd\n",
    "                xm=Ta-err\n",
    "                xM=Ta+err\n",
    "            end\n",
    "            ldLu=max(ldLu,logdTseq(T,orbx,i,epsi))\n",
    "        end\n",
    "    end\n",
    "    return ldLu\n",
    "end"
   ]
  },
  {
   "cell_type": "markdown",
   "id": "3fba8b64",
   "metadata": {},
   "source": [
    "## Plot Holder regularity\n"
   ]
  },
  {
   "cell_type": "code",
   "execution_count": 140,
   "id": "9b1053ef",
   "metadata": {},
   "outputs": [
    {
     "data": {
      "text/plain": [
       "logdTseqbis (generic function with 1 method)"
      ]
     },
     "execution_count": 140,
     "metadata": {},
     "output_type": "execute_result"
    }
   ],
   "source": [
    "function logdTseqbis(T,orbx,epsi)\n",
    "    r=interval(0,0)\n",
    "    i=length(orbx)\n",
    "    for j in 1:i\n",
    "        r+=log(T.d(interval(orbx[j]-epsi,orbx[j]+epsi)))\n",
    "    end\n",
    "    return inf(r)/i\n",
    "end"
   ]
  },
  {
   "cell_type": "code",
   "execution_count": 180,
   "id": "03c2350b",
   "metadata": {},
   "outputs": [
    {
     "data": {
      "text/plain": [
       "logdphiqbis (generic function with 1 method)"
      ]
     },
     "execution_count": 180,
     "metadata": {},
     "output_type": "execute_result"
    }
   ],
   "source": [
    "function logdphiqbis(phi,orbx,lbq,N,epsi)\n",
    "    lf=0\n",
    "    i=length(orbx)\n",
    "    for j in 1:i\n",
    "        qtx=orbx[(j%i)+1]\n",
    "        indice=Int(mod(div(qtx,2.0^(-N)),2^N))\n",
    "        if indice==0\n",
    "            qtxE=hull(lbq[end],lbq[indice+1],lbq[indice+2])\n",
    "        elseif indice==2^N-1\n",
    "            qtxE=hull(lbq[indice],lbq[indice+1],lbq[1])\n",
    "        else\n",
    "            qtxE=hull(lbq[indice],lbq[indice+1],lbq[indice+2])\n",
    "        end\n",
    "        lf+=inf(phi.logds(interval(orbx[j]-epsi,orbx[j]+epsi),qtxE))\n",
    "    end\n",
    "    return lf/i\n",
    "end"
   ]
  },
  {
   "cell_type": "code",
   "execution_count": 151,
   "id": "d7a70176",
   "metadata": {},
   "outputs": [
    {
     "data": {
      "text/plain": [
       "plotBoundHolderreg (generic function with 1 method)"
      ]
     },
     "execution_count": 151,
     "metadata": {},
     "output_type": "execute_result"
    }
   ],
   "source": [
    "function plotBoundHolderreg(phi,T,premierl,pas,nbl,n,N,m,M,nu,Nu,plt)\n",
    "    \"step 1: find approximation of the periodique orbit\"\n",
    "    d=T.degree\n",
    "    epsi=(1/(2*(1+T.maxd)*(T.maxd^M-1)))/10\n",
    "    Orbite=Vector{Vector{Float64}}()\n",
    "    push!(Orbite,[0])\n",
    "    for i in 2:M\n",
    "        g=x->compose(T.image,x,i)-x\n",
    "        seq=generate_minimal_non_repeating_sequences(T.degree,i)\n",
    "        for x in seq \n",
    "            image_orbx=suite_dadique(x,T.degree,i)\n",
    "            orbx=[]\n",
    "            xm=0\n",
    "            xM=1\n",
    "            for f in image_orbx\n",
    "                a=dichotomy(g,f,xm,xM,epsi)\n",
    "                push!(orbx,a)\n",
    "                Ta=T.image(a)\n",
    "                err=epsi*T.maxd\n",
    "                xm=Ta-err\n",
    "                xM=Ta+err\n",
    "            end\n",
    "        push!(Orbite,orbx) \n",
    "        end\n",
    "    end\n",
    "    \"step 2: find Lu\"\n",
    "    lowLu=maximum([logdTseqbis(T,orbx,epsi) for orbx in Orbite])\n",
    "    upLu=upperboundLu(T,Nu,nu,false)\n",
    "    \"step 3: find Lf\"\n",
    "    upLf=zeros(Float64,nbl)\n",
    "    for p in 1:nbl\n",
    "        l=premierl+(p-1)*pas\n",
    "        NK=FindNK(phi(l),T,N)\n",
    "        K=FindK(phi(l),T,NK,N)\n",
    "        li=[interval(i/2^N,(i+1)/2^N) for i in 0:2^N-1]\n",
    "        Tl=[]\n",
    "        r=[interval(0,0) for i in 1:2^N]\n",
    "        infi=[0 for i in 1:2^N]\n",
    "        for i in 1:m\n",
    "            Tl=[T.image(x) for x in li]\n",
    "            majq=[phi_nBoundK(phi(l),T,x,interval(K,K),n,K) for x in Tl]\n",
    "            r+=[phi(l).logds(li[j],majq[j]) for j in 1:2^N]\n",
    "            infi=[min(sup(r[j])/i,infi[j]) for j in 1:2^N]\n",
    "            li=Tl\n",
    "        end\n",
    "        upLf[p]=maximum(infi)\n",
    "    end\n",
    "    lowLf=zeros(Float64,nbl)\n",
    "    for p in 1:nbl\n",
    "        l=premierl+(p-1)*pas\n",
    "        lbq=lowboundq(phi(l),T,n,N,false)\n",
    "        lowLf[p]=maximum([logdphiqbis(phi(l),orbx,lbq,N,epsi) for orbx in Orbite])\n",
    "    end\n",
    "    lowReg=upLf./(-lowLu)\n",
    "    upReg=lowLf./(-upLu)\n",
    "    if plt==true\n",
    "        L=[premierl + i*pas for i in 0:nbl-1]\n",
    "        p=scatter(L,upReg,color=:blue)\n",
    "        scatter!(p,L,lowReg,color=:red)\n",
    "        times=Dates.format(now(),\"yyyy-mm-dd_HH-MM-SS\")\n",
    "        savefig(homedir() * \"/Bureau/plot/\" * \"graphe_$times.png\")\n",
    "        display(p)\n",
    "    end\n",
    "    return lowReg,upReg\n",
    "end\n",
    "    "
   ]
  },
  {
   "cell_type": "code",
   "execution_count": 192,
   "id": "d8cfe3c7",
   "metadata": {},
   "outputs": [
    {
     "data": {
      "image/png": "[encoded data removed]",
      "image/svg+xml": [
       "<?xml version=\"1.0\" encoding=\"utf-8\"?>\n",
       "<svg xmlns=\"http://www.w3.org/2000/svg\" xmlns:xlink=\"http://www.w3.org/1999/xlink\" width=\"600\" height=\"400\" viewBox=\"0 0 2400 1600\">\n",
       "<defs>\n",
       "  <clipPath id=\"clip140\">\n",
       "    <rect x=\"0\" y=\"0\" width=\"2400\" height=\"1600\"/>\n",
       "  </clipPath>\n",
       "</defs>\n",
       "<path clip-path=\"url(#clip140)\" d=\"M0 1600 L2400 1600 L2400 0 L0 0  Z\" fill=\"#ffffff\" fill-rule=\"evenodd\" fill-opacity=\"1\"/>\n",
       "<defs>\n",
       "  <clipPath id=\"clip141\">\n",
       "    <rect x=\"480\" y=\"0\" width=\"1681\" height=\"1600\"/>\n",
       "  </clipPath>\n",
       "</defs>\n",
       "<path clip-path=\"url(#clip140)\" d=\"M156.598 1486.45 L2352.76 1486.45 L2352.76 47.2441 L156.598 47.2441  Z\" fill=\"#ffffff\" fill-rule=\"evenodd\" fill-opacity=\"1\"/>\n",
       "<defs>\n",
       "  <clipPath id=\"clip142\">\n",
       "    <rect x=\"156\" y=\"47\" width=\"2197\" height=\"1440\"/>\n",
       "  </clipPath>\n",
       "</defs>\n",
       "<polyline clip-path=\"url(#clip142)\" style=\"stroke:#000000; stroke-linecap:round; stroke-linejoin:round; stroke-width:2; stroke-opacity:0.1; fill:none\" points=\"600.41,1486.45 600.41,47.2441 \"/>\n",
       "<polyline clip-path=\"url(#clip142)\" style=\"stroke:#000000; stroke-linecap:round; stroke-linejoin:round; stroke-width:2; stroke-opacity:0.1; fill:none\" points=\"1145.63,1486.45 1145.63,47.2441 \"/>\n",
       "<polyline clip-path=\"url(#clip142)\" style=\"stroke:#000000; stroke-linecap:round; stroke-linejoin:round; stroke-width:2; stroke-opacity:0.1; fill:none\" points=\"1690.86,1486.45 1690.86,47.2441 \"/>\n",
       "<polyline clip-path=\"url(#clip142)\" style=\"stroke:#000000; stroke-linecap:round; stroke-linejoin:round; stroke-width:2; stroke-opacity:0.1; fill:none\" points=\"2236.08,1486.45 2236.08,47.2441 \"/>\n",
       "<polyline clip-path=\"url(#clip142)\" style=\"stroke:#000000; stroke-linecap:round; stroke-linejoin:round; stroke-width:2; stroke-opacity:0.1; fill:none\" points=\"156.598,1445.72 2352.76,1445.72 \"/>\n",
       "<polyline clip-path=\"url(#clip142)\" style=\"stroke:#000000; stroke-linecap:round; stroke-linejoin:round; stroke-width:2; stroke-opacity:0.1; fill:none\" points=\"156.598,1053.63 2352.76,1053.63 \"/>\n",
       "<polyline clip-path=\"url(#clip142)\" style=\"stroke:#000000; stroke-linecap:round; stroke-linejoin:round; stroke-width:2; stroke-opacity:0.1; fill:none\" points=\"156.598,661.545 2352.76,661.545 \"/>\n",
       "<polyline clip-path=\"url(#clip142)\" style=\"stroke:#000000; stroke-linecap:round; stroke-linejoin:round; stroke-width:2; stroke-opacity:0.1; fill:none\" points=\"156.598,269.46 2352.76,269.46 \"/>\n",
       "<polyline clip-path=\"url(#clip140)\" style=\"stroke:#000000; stroke-linecap:round; stroke-linejoin:round; stroke-width:4; stroke-opacity:1; fill:none\" points=\"156.598,1486.45 2352.76,1486.45 \"/>\n",
       "<polyline clip-path=\"url(#clip140)\" style=\"stroke:#000000; stroke-linecap:round; stroke-linejoin:round; stroke-width:4; stroke-opacity:1; fill:none\" points=\"600.41,1486.45 600.41,1467.55 \"/>\n",
       "<polyline clip-path=\"url(#clip140)\" style=\"stroke:#000000; stroke-linecap:round; stroke-linejoin:round; stroke-width:4; stroke-opacity:1; fill:none\" points=\"1145.63,1486.45 1145.63,1467.55 \"/>\n",
       "<polyline clip-path=\"url(#clip140)\" style=\"stroke:#000000; stroke-linecap:round; stroke-linejoin:round; stroke-width:4; stroke-opacity:1; fill:none\" points=\"1690.86,1486.45 1690.86,1467.55 \"/>\n",
       "<polyline clip-path=\"url(#clip140)\" style=\"stroke:#000000; stroke-linecap:round; stroke-linejoin:round; stroke-width:4; stroke-opacity:1; fill:none\" points=\"2236.08,1486.45 2236.08,1467.55 \"/>\n",
       "<path clip-path=\"url(#clip140)\" d=\"M577.713 1517.37 Q574.102 1517.37 572.273 1520.93 Q570.468 1524.47 570.468 1531.6 Q570.468 1538.71 572.273 1542.27 Q574.102 1545.82 577.713 1545.82 Q581.347 1545.82 583.153 1542.27 Q584.981 1538.71 584.981 1531.6 Q584.981 1524.47 583.153 1520.93 Q581.347 1517.37 577.713 1517.37 M577.713 1513.66 Q583.523 1513.66 586.579 1518.27 Q589.657 1522.85 589.657 1531.6 Q589.657 1540.33 586.579 1544.94 Q583.523 1549.52 577.713 1549.52 Q571.903 1549.52 568.824 1544.94 Q565.769 1540.33 565.769 1531.6 Q565.769 1522.85 568.824 1518.27 Q571.903 1513.66 577.713 1513.66 Z\" fill=\"#000000\" fill-rule=\"nonzero\" fill-opacity=\"1\" /><path clip-path=\"url(#clip140)\" d=\"M597.875 1542.97 L602.759 1542.97 L602.759 1548.85 L597.875 1548.85 L597.875 1542.97 Z\" fill=\"#000000\" fill-rule=\"nonzero\" fill-opacity=\"1\" /><path clip-path=\"url(#clip140)\" d=\"M623.523 1529.7 Q620.375 1529.7 618.523 1531.86 Q616.694 1534.01 616.694 1537.76 Q616.694 1541.49 618.523 1543.66 Q620.375 1545.82 623.523 1545.82 Q626.671 1545.82 628.5 1543.66 Q630.352 1541.49 630.352 1537.76 Q630.352 1534.01 628.5 1531.86 Q626.671 1529.7 623.523 1529.7 M632.805 1515.05 L632.805 1519.31 Q631.046 1518.48 629.241 1518.04 Q627.458 1517.6 625.699 1517.6 Q621.069 1517.6 618.616 1520.72 Q616.185 1523.85 615.838 1530.17 Q617.204 1528.15 619.264 1527.09 Q621.324 1526 623.801 1526 Q629.009 1526 632.018 1529.17 Q635.051 1532.32 635.051 1537.76 Q635.051 1543.08 631.903 1546.3 Q628.754 1549.52 623.523 1549.52 Q617.528 1549.52 614.356 1544.94 Q611.185 1540.33 611.185 1531.6 Q611.185 1523.41 615.074 1518.55 Q618.963 1513.66 625.514 1513.66 Q627.273 1513.66 629.055 1514.01 Q630.861 1514.36 632.805 1515.05 Z\" fill=\"#000000\" fill-rule=\"nonzero\" fill-opacity=\"1\" /><path clip-path=\"url(#clip140)\" d=\"M1123.47 1517.37 Q1119.86 1517.37 1118.03 1520.93 Q1116.22 1524.47 1116.22 1531.6 Q1116.22 1538.71 1118.03 1542.27 Q1119.86 1545.82 1123.47 1545.82 Q1127.1 1545.82 1128.91 1542.27 Q1130.74 1538.71 1130.74 1531.6 Q1130.74 1524.47 1128.91 1520.93 Q1127.1 1517.37 1123.47 1517.37 M1123.47 1513.66 Q1129.28 1513.66 1132.33 1518.27 Q1135.41 1522.85 1135.41 1531.6 Q1135.41 1540.33 1132.33 1544.94 Q1129.28 1549.52 1123.47 1549.52 Q1117.66 1549.52 1114.58 1544.94 Q1111.52 1540.33 1111.52 1531.6 Q1111.52 1522.85 1114.58 1518.27 Q1117.66 1513.66 1123.47 1513.66 Z\" fill=\"#000000\" fill-rule=\"nonzero\" fill-opacity=\"1\" /><path clip-path=\"url(#clip140)\" d=\"M1143.63 1542.97 L1148.51 1542.97 L1148.51 1548.85 L1143.63 1548.85 L1143.63 1542.97 Z\" fill=\"#000000\" fill-rule=\"nonzero\" fill-opacity=\"1\" /><path clip-path=\"url(#clip140)\" d=\"M1157.52 1514.29 L1179.74 1514.29 L1179.74 1516.28 L1167.19 1548.85 L1162.31 1548.85 L1174.12 1518.22 L1157.52 1518.22 L1157.52 1514.29 Z\" fill=\"#000000\" fill-rule=\"nonzero\" fill-opacity=\"1\" /><path clip-path=\"url(#clip140)\" d=\"M1668.29 1517.37 Q1664.67 1517.37 1662.85 1520.93 Q1661.04 1524.47 1661.04 1531.6 Q1661.04 1538.71 1662.85 1542.27 Q1664.67 1545.82 1668.29 1545.82 Q1671.92 1545.82 1673.73 1542.27 Q1675.55 1538.71 1675.55 1531.6 Q1675.55 1524.47 1673.73 1520.93 Q1671.92 1517.37 1668.29 1517.37 M1668.29 1513.66 Q1674.1 1513.66 1677.15 1518.27 Q1680.23 1522.85 1680.23 1531.6 Q1680.23 1540.33 1677.15 1544.94 Q1674.1 1549.52 1668.29 1549.52 Q1662.48 1549.52 1659.4 1544.94 Q1656.34 1540.33 1656.34 1531.6 Q1656.34 1522.85 1659.4 1518.27 Q1662.48 1513.66 1668.29 1513.66 Z\" fill=\"#000000\" fill-rule=\"nonzero\" fill-opacity=\"1\" /><path clip-path=\"url(#clip140)\" d=\"M1688.45 1542.97 L1693.33 1542.97 L1693.33 1548.85 L1688.45 1548.85 L1688.45 1542.97 Z\" fill=\"#000000\" fill-rule=\"nonzero\" fill-opacity=\"1\" /><path clip-path=\"url(#clip140)\" d=\"M1713.52 1532.44 Q1710.18 1532.44 1708.26 1534.22 Q1706.36 1536 1706.36 1539.13 Q1706.36 1542.25 1708.26 1544.03 Q1710.18 1545.82 1713.52 1545.82 Q1716.85 1545.82 1718.77 1544.03 Q1720.69 1542.23 1720.69 1539.13 Q1720.69 1536 1718.77 1534.22 Q1716.87 1532.44 1713.52 1532.44 M1708.84 1530.45 Q1705.83 1529.7 1704.14 1527.64 Q1702.48 1525.58 1702.48 1522.62 Q1702.48 1518.48 1705.42 1516.07 Q1708.38 1513.66 1713.52 1513.66 Q1718.68 1513.66 1721.62 1516.07 Q1724.56 1518.48 1724.56 1522.62 Q1724.56 1525.58 1722.87 1527.64 Q1721.2 1529.7 1718.22 1530.45 Q1721.6 1531.23 1723.47 1533.52 Q1725.37 1535.82 1725.37 1539.13 Q1725.37 1544.15 1722.29 1546.83 Q1719.23 1549.52 1713.52 1549.52 Q1707.8 1549.52 1704.72 1546.83 Q1701.67 1544.15 1701.67 1539.13 Q1701.67 1535.82 1703.56 1533.52 Q1705.46 1531.23 1708.84 1530.45 M1707.13 1523.06 Q1707.13 1525.75 1708.8 1527.25 Q1710.48 1528.76 1713.52 1528.76 Q1716.53 1528.76 1718.22 1527.25 Q1719.93 1525.75 1719.93 1523.06 Q1719.93 1520.38 1718.22 1518.87 Q1716.53 1517.37 1713.52 1517.37 Q1710.48 1517.37 1708.8 1518.87 Q1707.13 1520.38 1707.13 1523.06 Z\" fill=\"#000000\" fill-rule=\"nonzero\" fill-opacity=\"1\" /><path clip-path=\"url(#clip140)\" d=\"M2213.56 1517.37 Q2209.94 1517.37 2208.12 1520.93 Q2206.31 1524.47 2206.31 1531.6 Q2206.31 1538.71 2208.12 1542.27 Q2209.94 1545.82 2213.56 1545.82 Q2217.19 1545.82 2218.99 1542.27 Q2220.82 1538.71 2220.82 1531.6 Q2220.82 1524.47 2218.99 1520.93 Q2217.19 1517.37 2213.56 1517.37 M2213.56 1513.66 Q2219.37 1513.66 2222.42 1518.27 Q2225.5 1522.85 2225.5 1531.6 Q2225.5 1540.33 2222.42 1544.94 Q2219.37 1549.52 2213.56 1549.52 Q2207.75 1549.52 2204.67 1544.94 Q2201.61 1540.33 2201.61 1531.6 Q2201.61 1522.85 2204.67 1518.27 Q2207.75 1513.66 2213.56 1513.66 Z\" fill=\"#000000\" fill-rule=\"nonzero\" fill-opacity=\"1\" /><path clip-path=\"url(#clip140)\" d=\"M2233.72 1542.97 L2238.6 1542.97 L2238.6 1548.85 L2233.72 1548.85 L2233.72 1542.97 Z\" fill=\"#000000\" fill-rule=\"nonzero\" fill-opacity=\"1\" /><path clip-path=\"url(#clip140)\" d=\"M2248.93 1548.13 L2248.93 1543.87 Q2250.68 1544.7 2252.49 1545.14 Q2254.3 1545.58 2256.03 1545.58 Q2260.66 1545.58 2263.09 1542.48 Q2265.55 1539.36 2265.89 1533.01 Q2264.55 1535.01 2262.49 1536.07 Q2260.43 1537.13 2257.93 1537.13 Q2252.74 1537.13 2249.71 1534.01 Q2246.7 1530.86 2246.7 1525.42 Q2246.7 1520.1 2249.85 1516.88 Q2253 1513.66 2258.23 1513.66 Q2264.23 1513.66 2267.37 1518.27 Q2270.55 1522.85 2270.55 1531.6 Q2270.55 1539.77 2266.66 1544.66 Q2262.79 1549.52 2256.24 1549.52 Q2254.48 1549.52 2252.68 1549.17 Q2250.87 1548.82 2248.93 1548.13 M2258.23 1533.48 Q2261.38 1533.48 2263.21 1531.32 Q2265.06 1529.17 2265.06 1525.42 Q2265.06 1521.7 2263.21 1519.54 Q2261.38 1517.37 2258.23 1517.37 Q2255.08 1517.37 2253.23 1519.54 Q2251.4 1521.7 2251.4 1525.42 Q2251.4 1529.17 2253.23 1531.32 Q2255.08 1533.48 2258.23 1533.48 Z\" fill=\"#000000\" fill-rule=\"nonzero\" fill-opacity=\"1\" /><polyline clip-path=\"url(#clip140)\" style=\"stroke:#000000; stroke-linecap:round; stroke-linejoin:round; stroke-width:4; stroke-opacity:1; fill:none\" points=\"156.598,1486.45 156.598,47.2441 \"/>\n",
       "<polyline clip-path=\"url(#clip140)\" style=\"stroke:#000000; stroke-linecap:round; stroke-linejoin:round; stroke-width:4; stroke-opacity:1; fill:none\" points=\"156.598,1445.72 175.496,1445.72 \"/>\n",
       "<polyline clip-path=\"url(#clip140)\" style=\"stroke:#000000; stroke-linecap:round; stroke-linejoin:round; stroke-width:4; stroke-opacity:1; fill:none\" points=\"156.598,1053.63 175.496,1053.63 \"/>\n",
       "<polyline clip-path=\"url(#clip140)\" style=\"stroke:#000000; stroke-linecap:round; stroke-linejoin:round; stroke-width:4; stroke-opacity:1; fill:none\" points=\"156.598,661.545 175.496,661.545 \"/>\n",
       "<polyline clip-path=\"url(#clip140)\" style=\"stroke:#000000; stroke-linecap:round; stroke-linejoin:round; stroke-width:4; stroke-opacity:1; fill:none\" points=\"156.598,269.46 175.496,269.46 \"/>\n",
       "<path clip-path=\"url(#clip140)\" d=\"M63.4226 1431.51 Q59.8115 1431.51 57.9828 1435.08 Q56.1773 1438.62 56.1773 1445.75 Q56.1773 1452.86 57.9828 1456.42 Q59.8115 1459.96 63.4226 1459.96 Q67.0569 1459.96 68.8624 1456.42 Q70.6911 1452.86 70.6911 1445.75 Q70.6911 1438.62 68.8624 1435.08 Q67.0569 1431.51 63.4226 1431.51 M63.4226 1427.81 Q69.2328 1427.81 72.2883 1432.42 Q75.367 1437 75.367 1445.75 Q75.367 1454.48 72.2883 1459.08 Q69.2328 1463.67 63.4226 1463.67 Q57.6125 1463.67 54.5338 1459.08 Q51.4782 1454.48 51.4782 1445.75 Q51.4782 1437 54.5338 1432.42 Q57.6125 1427.81 63.4226 1427.81 Z\" fill=\"#000000\" fill-rule=\"nonzero\" fill-opacity=\"1\" /><path clip-path=\"url(#clip140)\" d=\"M83.5845 1457.12 L88.4688 1457.12 L88.4688 1463 L83.5845 1463 L83.5845 1457.12 Z\" fill=\"#000000\" fill-rule=\"nonzero\" fill-opacity=\"1\" /><path clip-path=\"url(#clip140)\" d=\"M108.654 1431.51 Q105.043 1431.51 103.214 1435.08 Q101.409 1438.62 101.409 1445.75 Q101.409 1452.86 103.214 1456.42 Q105.043 1459.96 108.654 1459.96 Q112.288 1459.96 114.094 1456.42 Q115.922 1452.86 115.922 1445.75 Q115.922 1438.62 114.094 1435.08 Q112.288 1431.51 108.654 1431.51 M108.654 1427.81 Q114.464 1427.81 117.52 1432.42 Q120.598 1437 120.598 1445.75 Q120.598 1454.48 117.52 1459.08 Q114.464 1463.67 108.654 1463.67 Q102.844 1463.67 99.765 1459.08 Q96.7095 1454.48 96.7095 1445.75 Q96.7095 1437 99.765 1432.42 Q102.844 1427.81 108.654 1427.81 Z\" fill=\"#000000\" fill-rule=\"nonzero\" fill-opacity=\"1\" /><path clip-path=\"url(#clip140)\" d=\"M65.0198 1039.43 Q61.4087 1039.43 59.58 1042.99 Q57.7745 1046.54 57.7745 1053.67 Q57.7745 1060.77 59.58 1064.34 Q61.4087 1067.88 65.0198 1067.88 Q68.6541 1067.88 70.4596 1064.34 Q72.2883 1060.77 72.2883 1053.67 Q72.2883 1046.54 70.4596 1042.99 Q68.6541 1039.43 65.0198 1039.43 M65.0198 1035.73 Q70.83 1035.73 73.8855 1040.33 Q76.9642 1044.92 76.9642 1053.67 Q76.9642 1062.39 73.8855 1067 Q70.83 1071.58 65.0198 1071.58 Q59.2097 1071.58 56.131 1067 Q53.0754 1062.39 53.0754 1053.67 Q53.0754 1044.92 56.131 1040.33 Q59.2097 1035.73 65.0198 1035.73 Z\" fill=\"#000000\" fill-rule=\"nonzero\" fill-opacity=\"1\" /><path clip-path=\"url(#clip140)\" d=\"M85.1818 1065.03 L90.066 1065.03 L90.066 1070.91 L85.1818 1070.91 L85.1818 1065.03 Z\" fill=\"#000000\" fill-rule=\"nonzero\" fill-opacity=\"1\" /><path clip-path=\"url(#clip140)\" d=\"M104.279 1066.98 L120.598 1066.98 L120.598 1070.91 L98.6539 1070.91 L98.6539 1066.98 Q101.316 1064.22 105.899 1059.59 Q110.506 1054.94 111.686 1053.6 Q113.932 1051.07 114.811 1049.34 Q115.714 1047.58 115.714 1045.89 Q115.714 1043.13 113.77 1041.4 Q111.848 1039.66 108.746 1039.66 Q106.547 1039.66 104.094 1040.42 Q101.663 1041.19 98.8854 1042.74 L98.8854 1038.02 Q101.709 1036.88 104.163 1036.3 Q106.617 1035.73 108.654 1035.73 Q114.024 1035.73 117.219 1038.41 Q120.413 1041.1 120.413 1045.59 Q120.413 1047.72 119.603 1049.64 Q118.816 1051.54 116.709 1054.13 Q116.131 1054.8 113.029 1058.02 Q109.927 1061.21 104.279 1066.98 Z\" fill=\"#000000\" fill-rule=\"nonzero\" fill-opacity=\"1\" /><path clip-path=\"url(#clip140)\" d=\"M62.9365 647.344 Q59.3254 647.344 57.4967 650.909 Q55.6912 654.451 55.6912 661.58 Q55.6912 668.687 57.4967 672.251 Q59.3254 675.793 62.9365 675.793 Q66.5707 675.793 68.3763 672.251 Q70.205 668.687 70.205 661.58 Q70.205 654.451 68.3763 650.909 Q66.5707 647.344 62.9365 647.344 M62.9365 643.64 Q68.7467 643.64 71.8022 648.247 Q74.8809 652.83 74.8809 661.58 Q74.8809 670.307 71.8022 674.913 Q68.7467 679.497 62.9365 679.497 Q57.1264 679.497 54.0477 674.913 Q50.9921 670.307 50.9921 661.58 Q50.9921 652.83 54.0477 648.247 Q57.1264 643.64 62.9365 643.64 Z\" fill=\"#000000\" fill-rule=\"nonzero\" fill-opacity=\"1\" /><path clip-path=\"url(#clip140)\" d=\"M83.0984 672.946 L87.9827 672.946 L87.9827 678.825 L83.0984 678.825 L83.0984 672.946 Z\" fill=\"#000000\" fill-rule=\"nonzero\" fill-opacity=\"1\" /><path clip-path=\"url(#clip140)\" d=\"M111.015 648.339 L99.2095 666.788 L111.015 666.788 L111.015 648.339 M109.788 644.265 L115.668 644.265 L115.668 666.788 L120.598 666.788 L120.598 670.677 L115.668 670.677 L115.668 678.825 L111.015 678.825 L111.015 670.677 L95.4132 670.677 L95.4132 666.163 L109.788 644.265 Z\" fill=\"#000000\" fill-rule=\"nonzero\" fill-opacity=\"1\" /><path clip-path=\"url(#clip140)\" d=\"M63.2606 255.259 Q59.6495 255.259 57.8208 258.824 Q56.0152 262.365 56.0152 269.495 Q56.0152 276.601 57.8208 280.166 Q59.6495 283.708 63.2606 283.708 Q66.8948 283.708 68.7004 280.166 Q70.5291 276.601 70.5291 269.495 Q70.5291 262.365 68.7004 258.824 Q66.8948 255.259 63.2606 255.259 M63.2606 251.555 Q69.0707 251.555 72.1263 256.162 Q75.205 260.745 75.205 269.495 Q75.205 278.222 72.1263 282.828 Q69.0707 287.412 63.2606 287.412 Q57.4504 287.412 54.3717 282.828 Q51.3162 278.222 51.3162 269.495 Q51.3162 260.745 54.3717 256.162 Q57.4504 251.555 63.2606 251.555 Z\" fill=\"#000000\" fill-rule=\"nonzero\" fill-opacity=\"1\" /><path clip-path=\"url(#clip140)\" d=\"M83.4225 280.861 L88.3067 280.861 L88.3067 286.74 L83.4225 286.74 L83.4225 280.861 Z\" fill=\"#000000\" fill-rule=\"nonzero\" fill-opacity=\"1\" /><path clip-path=\"url(#clip140)\" d=\"M109.071 267.597 Q105.922 267.597 104.071 269.75 Q102.242 271.902 102.242 275.652 Q102.242 279.379 104.071 281.555 Q105.922 283.708 109.071 283.708 Q112.219 283.708 114.047 281.555 Q115.899 279.379 115.899 275.652 Q115.899 271.902 114.047 269.75 Q112.219 267.597 109.071 267.597 M118.353 252.944 L118.353 257.203 Q116.594 256.37 114.788 255.93 Q113.006 255.49 111.246 255.49 Q106.617 255.49 104.163 258.615 Q101.733 261.74 101.385 268.06 Q102.751 266.046 104.811 264.981 Q106.871 263.893 109.348 263.893 Q114.557 263.893 117.566 267.064 Q120.598 270.213 120.598 275.652 Q120.598 280.976 117.45 284.194 Q114.302 287.412 109.071 287.412 Q103.075 287.412 99.9039 282.828 Q96.7326 278.222 96.7326 269.495 Q96.7326 261.301 100.621 256.44 Q104.51 251.555 111.061 251.555 Q112.82 251.555 114.603 251.903 Q116.408 252.25 118.353 252.944 Z\" fill=\"#000000\" fill-rule=\"nonzero\" fill-opacity=\"1\" /><circle clip-path=\"url(#clip142)\" cx=\"218.754\" cy=\"997.657\" r=\"14.4\" fill=\"#0000ff\" fill-rule=\"evenodd\" fill-opacity=\"1\" stroke=\"#000000\" stroke-opacity=\"1\" stroke-width=\"3.2\"/>\n",
       "<circle clip-path=\"url(#clip142)\" cx=\"327.798\" cy=\"986.018\" r=\"14.4\" fill=\"#0000ff\" fill-rule=\"evenodd\" fill-opacity=\"1\" stroke=\"#000000\" stroke-opacity=\"1\" stroke-width=\"3.2\"/>\n",
       "<circle clip-path=\"url(#clip142)\" cx=\"436.843\" cy=\"969.175\" r=\"14.4\" fill=\"#0000ff\" fill-rule=\"evenodd\" fill-opacity=\"1\" stroke=\"#000000\" stroke-opacity=\"1\" stroke-width=\"3.2\"/>\n",
       "<circle clip-path=\"url(#clip142)\" cx=\"545.887\" cy=\"947.233\" r=\"14.4\" fill=\"#0000ff\" fill-rule=\"evenodd\" fill-opacity=\"1\" stroke=\"#000000\" stroke-opacity=\"1\" stroke-width=\"3.2\"/>\n",
       "<circle clip-path=\"url(#clip142)\" cx=\"654.932\" cy=\"920.345\" r=\"14.4\" fill=\"#0000ff\" fill-rule=\"evenodd\" fill-opacity=\"1\" stroke=\"#000000\" stroke-opacity=\"1\" stroke-width=\"3.2\"/>\n",
       "<circle clip-path=\"url(#clip142)\" cx=\"763.976\" cy=\"888.71\" r=\"14.4\" fill=\"#0000ff\" fill-rule=\"evenodd\" fill-opacity=\"1\" stroke=\"#000000\" stroke-opacity=\"1\" stroke-width=\"3.2\"/>\n",
       "<circle clip-path=\"url(#clip142)\" cx=\"873.021\" cy=\"852.561\" r=\"14.4\" fill=\"#0000ff\" fill-rule=\"evenodd\" fill-opacity=\"1\" stroke=\"#000000\" stroke-opacity=\"1\" stroke-width=\"3.2\"/>\n",
       "<circle clip-path=\"url(#clip142)\" cx=\"982.066\" cy=\"812.155\" r=\"14.4\" fill=\"#0000ff\" fill-rule=\"evenodd\" fill-opacity=\"1\" stroke=\"#000000\" stroke-opacity=\"1\" stroke-width=\"3.2\"/>\n",
       "<circle clip-path=\"url(#clip142)\" cx=\"1091.11\" cy=\"767.765\" r=\"14.4\" fill=\"#0000ff\" fill-rule=\"evenodd\" fill-opacity=\"1\" stroke=\"#000000\" stroke-opacity=\"1\" stroke-width=\"3.2\"/>\n",
       "<circle clip-path=\"url(#clip142)\" cx=\"1200.15\" cy=\"719.669\" r=\"14.4\" fill=\"#0000ff\" fill-rule=\"evenodd\" fill-opacity=\"1\" stroke=\"#000000\" stroke-opacity=\"1\" stroke-width=\"3.2\"/>\n",
       "<circle clip-path=\"url(#clip142)\" cx=\"1309.2\" cy=\"668.145\" r=\"14.4\" fill=\"#0000ff\" fill-rule=\"evenodd\" fill-opacity=\"1\" stroke=\"#000000\" stroke-opacity=\"1\" stroke-width=\"3.2\"/>\n",
       "<circle clip-path=\"url(#clip142)\" cx=\"1418.24\" cy=\"613.459\" r=\"14.4\" fill=\"#0000ff\" fill-rule=\"evenodd\" fill-opacity=\"1\" stroke=\"#000000\" stroke-opacity=\"1\" stroke-width=\"3.2\"/>\n",
       "<circle clip-path=\"url(#clip142)\" cx=\"1527.29\" cy=\"555.866\" r=\"14.4\" fill=\"#0000ff\" fill-rule=\"evenodd\" fill-opacity=\"1\" stroke=\"#000000\" stroke-opacity=\"1\" stroke-width=\"3.2\"/>\n",
       "<circle clip-path=\"url(#clip142)\" cx=\"1636.33\" cy=\"495.599\" r=\"14.4\" fill=\"#0000ff\" fill-rule=\"evenodd\" fill-opacity=\"1\" stroke=\"#000000\" stroke-opacity=\"1\" stroke-width=\"3.2\"/>\n",
       "<circle clip-path=\"url(#clip142)\" cx=\"1745.38\" cy=\"432.83\" r=\"14.4\" fill=\"#0000ff\" fill-rule=\"evenodd\" fill-opacity=\"1\" stroke=\"#000000\" stroke-opacity=\"1\" stroke-width=\"3.2\"/>\n",
       "<circle clip-path=\"url(#clip142)\" cx=\"1854.42\" cy=\"367.792\" r=\"14.4\" fill=\"#0000ff\" fill-rule=\"evenodd\" fill-opacity=\"1\" stroke=\"#000000\" stroke-opacity=\"1\" stroke-width=\"3.2\"/>\n",
       "<circle clip-path=\"url(#clip142)\" cx=\"1963.47\" cy=\"300.658\" r=\"14.4\" fill=\"#0000ff\" fill-rule=\"evenodd\" fill-opacity=\"1\" stroke=\"#000000\" stroke-opacity=\"1\" stroke-width=\"3.2\"/>\n",
       "<circle clip-path=\"url(#clip142)\" cx=\"2072.51\" cy=\"231.569\" r=\"14.4\" fill=\"#0000ff\" fill-rule=\"evenodd\" fill-opacity=\"1\" stroke=\"#000000\" stroke-opacity=\"1\" stroke-width=\"3.2\"/>\n",
       "<circle clip-path=\"url(#clip142)\" cx=\"2181.56\" cy=\"160.642\" r=\"14.4\" fill=\"#0000ff\" fill-rule=\"evenodd\" fill-opacity=\"1\" stroke=\"#000000\" stroke-opacity=\"1\" stroke-width=\"3.2\"/>\n",
       "<circle clip-path=\"url(#clip142)\" cx=\"2290.6\" cy=\"87.9763\" r=\"14.4\" fill=\"#0000ff\" fill-rule=\"evenodd\" fill-opacity=\"1\" stroke=\"#000000\" stroke-opacity=\"1\" stroke-width=\"3.2\"/>\n",
       "<circle clip-path=\"url(#clip142)\" cx=\"218.754\" cy=\"1445.72\" r=\"14.4\" fill=\"#ff0000\" fill-rule=\"evenodd\" fill-opacity=\"1\" stroke=\"#000000\" stroke-opacity=\"1\" stroke-width=\"3.2\"/>\n",
       "<circle clip-path=\"url(#clip142)\" cx=\"327.798\" cy=\"1445.72\" r=\"14.4\" fill=\"#ff0000\" fill-rule=\"evenodd\" fill-opacity=\"1\" stroke=\"#000000\" stroke-opacity=\"1\" stroke-width=\"3.2\"/>\n",
       "<circle clip-path=\"url(#clip142)\" cx=\"436.843\" cy=\"1445.72\" r=\"14.4\" fill=\"#ff0000\" fill-rule=\"evenodd\" fill-opacity=\"1\" stroke=\"#000000\" stroke-opacity=\"1\" stroke-width=\"3.2\"/>\n",
       "<circle clip-path=\"url(#clip142)\" cx=\"545.887\" cy=\"1445.72\" r=\"14.4\" fill=\"#ff0000\" fill-rule=\"evenodd\" fill-opacity=\"1\" stroke=\"#000000\" stroke-opacity=\"1\" stroke-width=\"3.2\"/>\n",
       "<circle clip-path=\"url(#clip142)\" cx=\"654.932\" cy=\"1445.72\" r=\"14.4\" fill=\"#ff0000\" fill-rule=\"evenodd\" fill-opacity=\"1\" stroke=\"#000000\" stroke-opacity=\"1\" stroke-width=\"3.2\"/>\n",
       "<circle clip-path=\"url(#clip142)\" cx=\"763.976\" cy=\"1445.72\" r=\"14.4\" fill=\"#ff0000\" fill-rule=\"evenodd\" fill-opacity=\"1\" stroke=\"#000000\" stroke-opacity=\"1\" stroke-width=\"3.2\"/>\n",
       "<circle clip-path=\"url(#clip142)\" cx=\"873.021\" cy=\"1445.72\" r=\"14.4\" fill=\"#ff0000\" fill-rule=\"evenodd\" fill-opacity=\"1\" stroke=\"#000000\" stroke-opacity=\"1\" stroke-width=\"3.2\"/>\n",
       "<circle clip-path=\"url(#clip142)\" cx=\"982.066\" cy=\"1445.72\" r=\"14.4\" fill=\"#ff0000\" fill-rule=\"evenodd\" fill-opacity=\"1\" stroke=\"#000000\" stroke-opacity=\"1\" stroke-width=\"3.2\"/>\n",
       "<circle clip-path=\"url(#clip142)\" cx=\"1091.11\" cy=\"1186.62\" r=\"14.4\" fill=\"#ff0000\" fill-rule=\"evenodd\" fill-opacity=\"1\" stroke=\"#000000\" stroke-opacity=\"1\" stroke-width=\"3.2\"/>\n",
       "<circle clip-path=\"url(#clip142)\" cx=\"1200.15\" cy=\"1121.96\" r=\"14.4\" fill=\"#ff0000\" fill-rule=\"evenodd\" fill-opacity=\"1\" stroke=\"#000000\" stroke-opacity=\"1\" stroke-width=\"3.2\"/>\n",
       "<circle clip-path=\"url(#clip142)\" cx=\"1309.2\" cy=\"1035.39\" r=\"14.4\" fill=\"#ff0000\" fill-rule=\"evenodd\" fill-opacity=\"1\" stroke=\"#000000\" stroke-opacity=\"1\" stroke-width=\"3.2\"/>\n",
       "<circle clip-path=\"url(#clip142)\" cx=\"1418.24\" cy=\"931.312\" r=\"14.4\" fill=\"#ff0000\" fill-rule=\"evenodd\" fill-opacity=\"1\" stroke=\"#000000\" stroke-opacity=\"1\" stroke-width=\"3.2\"/>\n",
       "<circle clip-path=\"url(#clip142)\" cx=\"1527.29\" cy=\"807.92\" r=\"14.4\" fill=\"#ff0000\" fill-rule=\"evenodd\" fill-opacity=\"1\" stroke=\"#000000\" stroke-opacity=\"1\" stroke-width=\"3.2\"/>\n",
       "<circle clip-path=\"url(#clip142)\" cx=\"1636.33\" cy=\"630.389\" r=\"14.4\" fill=\"#ff0000\" fill-rule=\"evenodd\" fill-opacity=\"1\" stroke=\"#000000\" stroke-opacity=\"1\" stroke-width=\"3.2\"/>\n",
       "<circle clip-path=\"url(#clip142)\" cx=\"1745.38\" cy=\"547.29\" r=\"14.4\" fill=\"#ff0000\" fill-rule=\"evenodd\" fill-opacity=\"1\" stroke=\"#000000\" stroke-opacity=\"1\" stroke-width=\"3.2\"/>\n",
       "<circle clip-path=\"url(#clip142)\" cx=\"1854.42\" cy=\"468.926\" r=\"14.4\" fill=\"#ff0000\" fill-rule=\"evenodd\" fill-opacity=\"1\" stroke=\"#000000\" stroke-opacity=\"1\" stroke-width=\"3.2\"/>\n",
       "<circle clip-path=\"url(#clip142)\" cx=\"1963.47\" cy=\"341.555\" r=\"14.4\" fill=\"#ff0000\" fill-rule=\"evenodd\" fill-opacity=\"1\" stroke=\"#000000\" stroke-opacity=\"1\" stroke-width=\"3.2\"/>\n",
       "<circle clip-path=\"url(#clip142)\" cx=\"2072.51\" cy=\"269.246\" r=\"14.4\" fill=\"#ff0000\" fill-rule=\"evenodd\" fill-opacity=\"1\" stroke=\"#000000\" stroke-opacity=\"1\" stroke-width=\"3.2\"/>\n",
       "<circle clip-path=\"url(#clip142)\" cx=\"2181.56\" cy=\"195.172\" r=\"14.4\" fill=\"#ff0000\" fill-rule=\"evenodd\" fill-opacity=\"1\" stroke=\"#000000\" stroke-opacity=\"1\" stroke-width=\"3.2\"/>\n",
       "<circle clip-path=\"url(#clip142)\" cx=\"2290.6\" cy=\"119.485\" r=\"14.4\" fill=\"#ff0000\" fill-rule=\"evenodd\" fill-opacity=\"1\" stroke=\"#000000\" stroke-opacity=\"1\" stroke-width=\"3.2\"/>\n",
       "<path clip-path=\"url(#clip140)\" d=\"M229.803 250.738 L501.85 250.738 L501.85 95.2176 L229.803 95.2176  Z\" fill=\"#ffffff\" fill-rule=\"evenodd\" fill-opacity=\"1\"/>\n",
       "<polyline clip-path=\"url(#clip140)\" style=\"stroke:#000000; stroke-linecap:round; stroke-linejoin:round; stroke-width:4; stroke-opacity:1; fill:none\" points=\"229.803,250.738 501.85,250.738 501.85,95.2176 229.803,95.2176 229.803,250.738 \"/>\n",
       "<circle clip-path=\"url(#clip140)\" cx=\"327.41\" cy=\"147.058\" r=\"20.48\" fill=\"#0000ff\" fill-rule=\"evenodd\" fill-opacity=\"1\" stroke=\"#000000\" stroke-opacity=\"1\" stroke-width=\"4.55111\"/>\n",
       "<path clip-path=\"url(#clip140)\" d=\"M438.86 166.745 Q437.054 171.375 435.342 172.787 Q433.629 174.199 430.758 174.199 L427.355 174.199 L427.355 170.634 L429.855 170.634 Q431.615 170.634 432.587 169.8 Q433.559 168.967 434.74 165.865 L435.504 163.921 L425.018 138.412 L429.531 138.412 L437.633 158.689 L445.735 138.412 L450.249 138.412 L438.86 166.745 Z\" fill=\"#000000\" fill-rule=\"nonzero\" fill-opacity=\"1\" /><path clip-path=\"url(#clip140)\" d=\"M457.54 160.402 L465.179 160.402 L465.179 134.037 L456.869 135.703 L456.869 131.444 L465.133 129.778 L469.809 129.778 L469.809 160.402 L477.448 160.402 L477.448 164.338 L457.54 164.338 L457.54 160.402 Z\" fill=\"#000000\" fill-rule=\"nonzero\" fill-opacity=\"1\" /><circle clip-path=\"url(#clip140)\" cx=\"327.41\" cy=\"198.898\" r=\"20.48\" fill=\"#ff0000\" fill-rule=\"evenodd\" fill-opacity=\"1\" stroke=\"#000000\" stroke-opacity=\"1\" stroke-width=\"4.55111\"/>\n",
       "<path clip-path=\"url(#clip140)\" d=\"M438.86 218.585 Q437.054 223.215 435.342 224.627 Q433.629 226.039 430.758 226.039 L427.355 226.039 L427.355 222.474 L429.855 222.474 Q431.615 222.474 432.587 221.64 Q433.559 220.807 434.74 217.705 L435.504 215.761 L425.018 190.252 L429.531 190.252 L437.633 210.529 L445.735 190.252 L450.249 190.252 L438.86 218.585 Z\" fill=\"#000000\" fill-rule=\"nonzero\" fill-opacity=\"1\" /><path clip-path=\"url(#clip140)\" d=\"M460.758 212.242 L477.077 212.242 L477.077 216.178 L455.133 216.178 L455.133 212.242 Q457.795 209.488 462.378 204.858 Q466.985 200.205 468.165 198.863 Q470.411 196.34 471.29 194.604 Q472.193 192.844 472.193 191.155 Q472.193 188.4 470.249 186.664 Q468.327 184.928 465.226 184.928 Q463.027 184.928 460.573 185.692 Q458.142 186.455 455.365 188.006 L455.365 183.284 Q458.189 182.15 460.642 181.571 Q463.096 180.993 465.133 180.993 Q470.503 180.993 473.698 183.678 Q476.892 186.363 476.892 190.854 Q476.892 192.983 476.082 194.905 Q475.295 196.803 473.189 199.395 Q472.61 200.067 469.508 203.284 Q466.406 206.479 460.758 212.242 Z\" fill=\"#000000\" fill-rule=\"nonzero\" fill-opacity=\"1\" /></svg>\n"
      ],
      "text/html": [
       "<?xml version=\"1.0\" encoding=\"utf-8\"?>\n",
       "<svg xmlns=\"http://www.w3.org/2000/svg\" xmlns:xlink=\"http://www.w3.org/1999/xlink\" width=\"600\" height=\"400\" viewBox=\"0 0 2400 1600\">\n",
       "<defs>\n",
       "  <clipPath id=\"clip190\">\n",
       "    <rect x=\"0\" y=\"0\" width=\"2400\" height=\"1600\"/>\n",
       "  </clipPath>\n",
       "</defs>\n",
       "<path clip-path=\"url(#clip190)\" d=\"M0 1600 L2400 1600 L2400 0 L0 0  Z\" fill=\"#ffffff\" fill-rule=\"evenodd\" fill-opacity=\"1\"/>\n",
       "<defs>\n",
       "  <clipPath id=\"clip191\">\n",
       "    <rect x=\"480\" y=\"0\" width=\"1681\" height=\"1600\"/>\n",
       "  </clipPath>\n",
       "</defs>\n",
       "<path clip-path=\"url(#clip190)\" d=\"M156.598 1486.45 L2352.76 1486.45 L2352.76 47.2441 L156.598 47.2441  Z\" fill=\"#ffffff\" fill-rule=\"evenodd\" fill-opacity=\"1\"/>\n",
       "<defs>\n",
       "  <clipPath id=\"clip192\">\n",
       "    <rect x=\"156\" y=\"47\" width=\"2197\" height=\"1440\"/>\n",
       "  </clipPath>\n",
       "</defs>\n",
       "<polyline clip-path=\"url(#clip192)\" style=\"stroke:#000000; stroke-linecap:round; stroke-linejoin:round; stroke-width:2; stroke-opacity:0.1; fill:none\" points=\"600.41,1486.45 600.41,47.2441 \"/>\n",
       "<polyline clip-path=\"url(#clip192)\" style=\"stroke:#000000; stroke-linecap:round; stroke-linejoin:round; stroke-width:2; stroke-opacity:0.1; fill:none\" points=\"1145.63,1486.45 1145.63,47.2441 \"/>\n",
       "<polyline clip-path=\"url(#clip192)\" style=\"stroke:#000000; stroke-linecap:round; stroke-linejoin:round; stroke-width:2; stroke-opacity:0.1; fill:none\" points=\"1690.86,1486.45 1690.86,47.2441 \"/>\n",
       "<polyline clip-path=\"url(#clip192)\" style=\"stroke:#000000; stroke-linecap:round; stroke-linejoin:round; stroke-width:2; stroke-opacity:0.1; fill:none\" points=\"2236.08,1486.45 2236.08,47.2441 \"/>\n",
       "<polyline clip-path=\"url(#clip192)\" style=\"stroke:#000000; stroke-linecap:round; stroke-linejoin:round; stroke-width:2; stroke-opacity:0.1; fill:none\" points=\"156.598,1445.72 2352.76,1445.72 \"/>\n",
       "<polyline clip-path=\"url(#clip192)\" style=\"stroke:#000000; stroke-linecap:round; stroke-linejoin:round; stroke-width:2; stroke-opacity:0.1; fill:none\" points=\"156.598,1053.63 2352.76,1053.63 \"/>\n",
       "<polyline clip-path=\"url(#clip192)\" style=\"stroke:#000000; stroke-linecap:round; stroke-linejoin:round; stroke-width:2; stroke-opacity:0.1; fill:none\" points=\"156.598,661.545 2352.76,661.545 \"/>\n",
       "<polyline clip-path=\"url(#clip192)\" style=\"stroke:#000000; stroke-linecap:round; stroke-linejoin:round; stroke-width:2; stroke-opacity:0.1; fill:none\" points=\"156.598,269.46 2352.76,269.46 \"/>\n",
       "<polyline clip-path=\"url(#clip190)\" style=\"stroke:#000000; stroke-linecap:round; stroke-linejoin:round; stroke-width:4; stroke-opacity:1; fill:none\" points=\"156.598,1486.45 2352.76,1486.45 \"/>\n",
       "<polyline clip-path=\"url(#clip190)\" style=\"stroke:#000000; stroke-linecap:round; stroke-linejoin:round; stroke-width:4; stroke-opacity:1; fill:none\" points=\"600.41,1486.45 600.41,1467.55 \"/>\n",
       "<polyline clip-path=\"url(#clip190)\" style=\"stroke:#000000; stroke-linecap:round; stroke-linejoin:round; stroke-width:4; stroke-opacity:1; fill:none\" points=\"1145.63,1486.45 1145.63,1467.55 \"/>\n",
       "<polyline clip-path=\"url(#clip190)\" style=\"stroke:#000000; stroke-linecap:round; stroke-linejoin:round; stroke-width:4; stroke-opacity:1; fill:none\" points=\"1690.86,1486.45 1690.86,1467.55 \"/>\n",
       "<polyline clip-path=\"url(#clip190)\" style=\"stroke:#000000; stroke-linecap:round; stroke-linejoin:round; stroke-width:4; stroke-opacity:1; fill:none\" points=\"2236.08,1486.45 2236.08,1467.55 \"/>\n",
       "<path clip-path=\"url(#clip190)\" d=\"M577.713 1517.37 Q574.102 1517.37 572.273 1520.93 Q570.468 1524.47 570.468 1531.6 Q570.468 1538.71 572.273 1542.27 Q574.102 1545.82 577.713 1545.82 Q581.347 1545.82 583.153 1542.27 Q584.981 1538.71 584.981 1531.6 Q584.981 1524.47 583.153 1520.93 Q581.347 1517.37 577.713 1517.37 M577.713 1513.66 Q583.523 1513.66 586.579 1518.27 Q589.657 1522.85 589.657 1531.6 Q589.657 1540.33 586.579 1544.94 Q583.523 1549.52 577.713 1549.52 Q571.903 1549.52 568.824 1544.94 Q565.769 1540.33 565.769 1531.6 Q565.769 1522.85 568.824 1518.27 Q571.903 1513.66 577.713 1513.66 Z\" fill=\"#000000\" fill-rule=\"nonzero\" fill-opacity=\"1\" /><path clip-path=\"url(#clip190)\" d=\"M597.875 1542.97 L602.759 1542.97 L602.759 1548.85 L597.875 1548.85 L597.875 1542.97 Z\" fill=\"#000000\" fill-rule=\"nonzero\" fill-opacity=\"1\" /><path clip-path=\"url(#clip190)\" d=\"M623.523 1529.7 Q620.375 1529.7 618.523 1531.86 Q616.694 1534.01 616.694 1537.76 Q616.694 1541.49 618.523 1543.66 Q620.375 1545.82 623.523 1545.82 Q626.671 1545.82 628.5 1543.66 Q630.352 1541.49 630.352 1537.76 Q630.352 1534.01 628.5 1531.86 Q626.671 1529.7 623.523 1529.7 M632.805 1515.05 L632.805 1519.31 Q631.046 1518.48 629.241 1518.04 Q627.458 1517.6 625.699 1517.6 Q621.069 1517.6 618.616 1520.72 Q616.185 1523.85 615.838 1530.17 Q617.204 1528.15 619.264 1527.09 Q621.324 1526 623.801 1526 Q629.009 1526 632.018 1529.17 Q635.051 1532.32 635.051 1537.76 Q635.051 1543.08 631.903 1546.3 Q628.754 1549.52 623.523 1549.52 Q617.528 1549.52 614.356 1544.94 Q611.185 1540.33 611.185 1531.6 Q611.185 1523.41 615.074 1518.55 Q618.963 1513.66 625.514 1513.66 Q627.273 1513.66 629.055 1514.01 Q630.861 1514.36 632.805 1515.05 Z\" fill=\"#000000\" fill-rule=\"nonzero\" fill-opacity=\"1\" /><path clip-path=\"url(#clip190)\" d=\"M1123.47 1517.37 Q1119.86 1517.37 1118.03 1520.93 Q1116.22 1524.47 1116.22 1531.6 Q1116.22 1538.71 1118.03 1542.27 Q1119.86 1545.82 1123.47 1545.82 Q1127.1 1545.82 1128.91 1542.27 Q1130.74 1538.71 1130.74 1531.6 Q1130.74 1524.47 1128.91 1520.93 Q1127.1 1517.37 1123.47 1517.37 M1123.47 1513.66 Q1129.28 1513.66 1132.33 1518.27 Q1135.41 1522.85 1135.41 1531.6 Q1135.41 1540.33 1132.33 1544.94 Q1129.28 1549.52 1123.47 1549.52 Q1117.66 1549.52 1114.58 1544.94 Q1111.52 1540.33 1111.52 1531.6 Q1111.52 1522.85 1114.58 1518.27 Q1117.66 1513.66 1123.47 1513.66 Z\" fill=\"#000000\" fill-rule=\"nonzero\" fill-opacity=\"1\" /><path clip-path=\"url(#clip190)\" d=\"M1143.63 1542.97 L1148.51 1542.97 L1148.51 1548.85 L1143.63 1548.85 L1143.63 1542.97 Z\" fill=\"#000000\" fill-rule=\"nonzero\" fill-opacity=\"1\" /><path clip-path=\"url(#clip190)\" d=\"M1157.52 1514.29 L1179.74 1514.29 L1179.74 1516.28 L1167.19 1548.85 L1162.31 1548.85 L1174.12 1518.22 L1157.52 1518.22 L1157.52 1514.29 Z\" fill=\"#000000\" fill-rule=\"nonzero\" fill-opacity=\"1\" /><path clip-path=\"url(#clip190)\" d=\"M1668.29 1517.37 Q1664.67 1517.37 1662.85 1520.93 Q1661.04 1524.47 1661.04 1531.6 Q1661.04 1538.71 1662.85 1542.27 Q1664.67 1545.82 1668.29 1545.82 Q1671.92 1545.82 1673.73 1542.27 Q1675.55 1538.71 1675.55 1531.6 Q1675.55 1524.47 1673.73 1520.93 Q1671.92 1517.37 1668.29 1517.37 M1668.29 1513.66 Q1674.1 1513.66 1677.15 1518.27 Q1680.23 1522.85 1680.23 1531.6 Q1680.23 1540.33 1677.15 1544.94 Q1674.1 1549.52 1668.29 1549.52 Q1662.48 1549.52 1659.4 1544.94 Q1656.34 1540.33 1656.34 1531.6 Q1656.34 1522.85 1659.4 1518.27 Q1662.48 1513.66 1668.29 1513.66 Z\" fill=\"#000000\" fill-rule=\"nonzero\" fill-opacity=\"1\" /><path clip-path=\"url(#clip190)\" d=\"M1688.45 1542.97 L1693.33 1542.97 L1693.33 1548.85 L1688.45 1548.85 L1688.45 1542.97 Z\" fill=\"#000000\" fill-rule=\"nonzero\" fill-opacity=\"1\" /><path clip-path=\"url(#clip190)\" d=\"M1713.52 1532.44 Q1710.18 1532.44 1708.26 1534.22 Q1706.36 1536 1706.36 1539.13 Q1706.36 1542.25 1708.26 1544.03 Q1710.18 1545.82 1713.52 1545.82 Q1716.85 1545.82 1718.77 1544.03 Q1720.69 1542.23 1720.69 1539.13 Q1720.69 1536 1718.77 1534.22 Q1716.87 1532.44 1713.52 1532.44 M1708.84 1530.45 Q1705.83 1529.7 1704.14 1527.64 Q1702.48 1525.58 1702.48 1522.62 Q1702.48 1518.48 1705.42 1516.07 Q1708.38 1513.66 1713.52 1513.66 Q1718.68 1513.66 1721.62 1516.07 Q1724.56 1518.48 1724.56 1522.62 Q1724.56 1525.58 1722.87 1527.64 Q1721.2 1529.7 1718.22 1530.45 Q1721.6 1531.23 1723.47 1533.52 Q1725.37 1535.82 1725.37 1539.13 Q1725.37 1544.15 1722.29 1546.83 Q1719.23 1549.52 1713.52 1549.52 Q1707.8 1549.52 1704.72 1546.83 Q1701.67 1544.15 1701.67 1539.13 Q1701.67 1535.82 1703.56 1533.52 Q1705.46 1531.23 1708.84 1530.45 M1707.13 1523.06 Q1707.13 1525.75 1708.8 1527.25 Q1710.48 1528.76 1713.52 1528.76 Q1716.53 1528.76 1718.22 1527.25 Q1719.93 1525.75 1719.93 1523.06 Q1719.93 1520.38 1718.22 1518.87 Q1716.53 1517.37 1713.52 1517.37 Q1710.48 1517.37 1708.8 1518.87 Q1707.13 1520.38 1707.13 1523.06 Z\" fill=\"#000000\" fill-rule=\"nonzero\" fill-opacity=\"1\" /><path clip-path=\"url(#clip190)\" d=\"M2213.56 1517.37 Q2209.94 1517.37 2208.12 1520.93 Q2206.31 1524.47 2206.31 1531.6 Q2206.31 1538.71 2208.12 1542.27 Q2209.94 1545.82 2213.56 1545.82 Q2217.19 1545.82 2218.99 1542.27 Q2220.82 1538.71 2220.82 1531.6 Q2220.82 1524.47 2218.99 1520.93 Q2217.19 1517.37 2213.56 1517.37 M2213.56 1513.66 Q2219.37 1513.66 2222.42 1518.27 Q2225.5 1522.85 2225.5 1531.6 Q2225.5 1540.33 2222.42 1544.94 Q2219.37 1549.52 2213.56 1549.52 Q2207.75 1549.52 2204.67 1544.94 Q2201.61 1540.33 2201.61 1531.6 Q2201.61 1522.85 2204.67 1518.27 Q2207.75 1513.66 2213.56 1513.66 Z\" fill=\"#000000\" fill-rule=\"nonzero\" fill-opacity=\"1\" /><path clip-path=\"url(#clip190)\" d=\"M2233.72 1542.97 L2238.6 1542.97 L2238.6 1548.85 L2233.72 1548.85 L2233.72 1542.97 Z\" fill=\"#000000\" fill-rule=\"nonzero\" fill-opacity=\"1\" /><path clip-path=\"url(#clip190)\" d=\"M2248.93 1548.13 L2248.93 1543.87 Q2250.68 1544.7 2252.49 1545.14 Q2254.3 1545.58 2256.03 1545.58 Q2260.66 1545.58 2263.09 1542.48 Q2265.55 1539.36 2265.89 1533.01 Q2264.55 1535.01 2262.49 1536.07 Q2260.43 1537.13 2257.93 1537.13 Q2252.74 1537.13 2249.71 1534.01 Q2246.7 1530.86 2246.7 1525.42 Q2246.7 1520.1 2249.85 1516.88 Q2253 1513.66 2258.23 1513.66 Q2264.23 1513.66 2267.37 1518.27 Q2270.55 1522.85 2270.55 1531.6 Q2270.55 1539.77 2266.66 1544.66 Q2262.79 1549.52 2256.24 1549.52 Q2254.48 1549.52 2252.68 1549.17 Q2250.87 1548.82 2248.93 1548.13 M2258.23 1533.48 Q2261.38 1533.48 2263.21 1531.32 Q2265.06 1529.17 2265.06 1525.42 Q2265.06 1521.7 2263.21 1519.54 Q2261.38 1517.37 2258.23 1517.37 Q2255.08 1517.37 2253.23 1519.54 Q2251.4 1521.7 2251.4 1525.42 Q2251.4 1529.17 2253.23 1531.32 Q2255.08 1533.48 2258.23 1533.48 Z\" fill=\"#000000\" fill-rule=\"nonzero\" fill-opacity=\"1\" /><polyline clip-path=\"url(#clip190)\" style=\"stroke:#000000; stroke-linecap:round; stroke-linejoin:round; stroke-width:4; stroke-opacity:1; fill:none\" points=\"156.598,1486.45 156.598,47.2441 \"/>\n",
       "<polyline clip-path=\"url(#clip190)\" style=\"stroke:#000000; stroke-linecap:round; stroke-linejoin:round; stroke-width:4; stroke-opacity:1; fill:none\" points=\"156.598,1445.72 175.496,1445.72 \"/>\n",
       "<polyline clip-path=\"url(#clip190)\" style=\"stroke:#000000; stroke-linecap:round; stroke-linejoin:round; stroke-width:4; stroke-opacity:1; fill:none\" points=\"156.598,1053.63 175.496,1053.63 \"/>\n",
       "<polyline clip-path=\"url(#clip190)\" style=\"stroke:#000000; stroke-linecap:round; stroke-linejoin:round; stroke-width:4; stroke-opacity:1; fill:none\" points=\"156.598,661.545 175.496,661.545 \"/>\n",
       "<polyline clip-path=\"url(#clip190)\" style=\"stroke:#000000; stroke-linecap:round; stroke-linejoin:round; stroke-width:4; stroke-opacity:1; fill:none\" points=\"156.598,269.46 175.496,269.46 \"/>\n",
       "<path clip-path=\"url(#clip190)\" d=\"M63.4226 1431.51 Q59.8115 1431.51 57.9828 1435.08 Q56.1773 1438.62 56.1773 1445.75 Q56.1773 1452.86 57.9828 1456.42 Q59.8115 1459.96 63.4226 1459.96 Q67.0569 1459.96 68.8624 1456.42 Q70.6911 1452.86 70.6911 1445.75 Q70.6911 1438.62 68.8624 1435.08 Q67.0569 1431.51 63.4226 1431.51 M63.4226 1427.81 Q69.2328 1427.81 72.2883 1432.42 Q75.367 1437 75.367 1445.75 Q75.367 1454.48 72.2883 1459.08 Q69.2328 1463.67 63.4226 1463.67 Q57.6125 1463.67 54.5338 1459.08 Q51.4782 1454.48 51.4782 1445.75 Q51.4782 1437 54.5338 1432.42 Q57.6125 1427.81 63.4226 1427.81 Z\" fill=\"#000000\" fill-rule=\"nonzero\" fill-opacity=\"1\" /><path clip-path=\"url(#clip190)\" d=\"M83.5845 1457.12 L88.4688 1457.12 L88.4688 1463 L83.5845 1463 L83.5845 1457.12 Z\" fill=\"#000000\" fill-rule=\"nonzero\" fill-opacity=\"1\" /><path clip-path=\"url(#clip190)\" d=\"M108.654 1431.51 Q105.043 1431.51 103.214 1435.08 Q101.409 1438.62 101.409 1445.75 Q101.409 1452.86 103.214 1456.42 Q105.043 1459.96 108.654 1459.96 Q112.288 1459.96 114.094 1456.42 Q115.922 1452.86 115.922 1445.75 Q115.922 1438.62 114.094 1435.08 Q112.288 1431.51 108.654 1431.51 M108.654 1427.81 Q114.464 1427.81 117.52 1432.42 Q120.598 1437 120.598 1445.75 Q120.598 1454.48 117.52 1459.08 Q114.464 1463.67 108.654 1463.67 Q102.844 1463.67 99.765 1459.08 Q96.7095 1454.48 96.7095 1445.75 Q96.7095 1437 99.765 1432.42 Q102.844 1427.81 108.654 1427.81 Z\" fill=\"#000000\" fill-rule=\"nonzero\" fill-opacity=\"1\" /><path clip-path=\"url(#clip190)\" d=\"M65.0198 1039.43 Q61.4087 1039.43 59.58 1042.99 Q57.7745 1046.54 57.7745 1053.67 Q57.7745 1060.77 59.58 1064.34 Q61.4087 1067.88 65.0198 1067.88 Q68.6541 1067.88 70.4596 1064.34 Q72.2883 1060.77 72.2883 1053.67 Q72.2883 1046.54 70.4596 1042.99 Q68.6541 1039.43 65.0198 1039.43 M65.0198 1035.73 Q70.83 1035.73 73.8855 1040.33 Q76.9642 1044.92 76.9642 1053.67 Q76.9642 1062.39 73.8855 1067 Q70.83 1071.58 65.0198 1071.58 Q59.2097 1071.58 56.131 1067 Q53.0754 1062.39 53.0754 1053.67 Q53.0754 1044.92 56.131 1040.33 Q59.2097 1035.73 65.0198 1035.73 Z\" fill=\"#000000\" fill-rule=\"nonzero\" fill-opacity=\"1\" /><path clip-path=\"url(#clip190)\" d=\"M85.1818 1065.03 L90.066 1065.03 L90.066 1070.91 L85.1818 1070.91 L85.1818 1065.03 Z\" fill=\"#000000\" fill-rule=\"nonzero\" fill-opacity=\"1\" /><path clip-path=\"url(#clip190)\" d=\"M104.279 1066.98 L120.598 1066.98 L120.598 1070.91 L98.6539 1070.91 L98.6539 1066.98 Q101.316 1064.22 105.899 1059.59 Q110.506 1054.94 111.686 1053.6 Q113.932 1051.07 114.811 1049.34 Q115.714 1047.58 115.714 1045.89 Q115.714 1043.13 113.77 1041.4 Q111.848 1039.66 108.746 1039.66 Q106.547 1039.66 104.094 1040.42 Q101.663 1041.19 98.8854 1042.74 L98.8854 1038.02 Q101.709 1036.88 104.163 1036.3 Q106.617 1035.73 108.654 1035.73 Q114.024 1035.73 117.219 1038.41 Q120.413 1041.1 120.413 1045.59 Q120.413 1047.72 119.603 1049.64 Q118.816 1051.54 116.709 1054.13 Q116.131 1054.8 113.029 1058.02 Q109.927 1061.21 104.279 1066.98 Z\" fill=\"#000000\" fill-rule=\"nonzero\" fill-opacity=\"1\" /><path clip-path=\"url(#clip190)\" d=\"M62.9365 647.344 Q59.3254 647.344 57.4967 650.909 Q55.6912 654.451 55.6912 661.58 Q55.6912 668.687 57.4967 672.251 Q59.3254 675.793 62.9365 675.793 Q66.5707 675.793 68.3763 672.251 Q70.205 668.687 70.205 661.58 Q70.205 654.451 68.3763 650.909 Q66.5707 647.344 62.9365 647.344 M62.9365 643.64 Q68.7467 643.64 71.8022 648.247 Q74.8809 652.83 74.8809 661.58 Q74.8809 670.307 71.8022 674.913 Q68.7467 679.497 62.9365 679.497 Q57.1264 679.497 54.0477 674.913 Q50.9921 670.307 50.9921 661.58 Q50.9921 652.83 54.0477 648.247 Q57.1264 643.64 62.9365 643.64 Z\" fill=\"#000000\" fill-rule=\"nonzero\" fill-opacity=\"1\" /><path clip-path=\"url(#clip190)\" d=\"M83.0984 672.946 L87.9827 672.946 L87.9827 678.825 L83.0984 678.825 L83.0984 672.946 Z\" fill=\"#000000\" fill-rule=\"nonzero\" fill-opacity=\"1\" /><path clip-path=\"url(#clip190)\" d=\"M111.015 648.339 L99.2095 666.788 L111.015 666.788 L111.015 648.339 M109.788 644.265 L115.668 644.265 L115.668 666.788 L120.598 666.788 L120.598 670.677 L115.668 670.677 L115.668 678.825 L111.015 678.825 L111.015 670.677 L95.4132 670.677 L95.4132 666.163 L109.788 644.265 Z\" fill=\"#000000\" fill-rule=\"nonzero\" fill-opacity=\"1\" /><path clip-path=\"url(#clip190)\" d=\"M63.2606 255.259 Q59.6495 255.259 57.8208 258.824 Q56.0152 262.365 56.0152 269.495 Q56.0152 276.601 57.8208 280.166 Q59.6495 283.708 63.2606 283.708 Q66.8948 283.708 68.7004 280.166 Q70.5291 276.601 70.5291 269.495 Q70.5291 262.365 68.7004 258.824 Q66.8948 255.259 63.2606 255.259 M63.2606 251.555 Q69.0707 251.555 72.1263 256.162 Q75.205 260.745 75.205 269.495 Q75.205 278.222 72.1263 282.828 Q69.0707 287.412 63.2606 287.412 Q57.4504 287.412 54.3717 282.828 Q51.3162 278.222 51.3162 269.495 Q51.3162 260.745 54.3717 256.162 Q57.4504 251.555 63.2606 251.555 Z\" fill=\"#000000\" fill-rule=\"nonzero\" fill-opacity=\"1\" /><path clip-path=\"url(#clip190)\" d=\"M83.4225 280.861 L88.3067 280.861 L88.3067 286.74 L83.4225 286.74 L83.4225 280.861 Z\" fill=\"#000000\" fill-rule=\"nonzero\" fill-opacity=\"1\" /><path clip-path=\"url(#clip190)\" d=\"M109.071 267.597 Q105.922 267.597 104.071 269.75 Q102.242 271.902 102.242 275.652 Q102.242 279.379 104.071 281.555 Q105.922 283.708 109.071 283.708 Q112.219 283.708 114.047 281.555 Q115.899 279.379 115.899 275.652 Q115.899 271.902 114.047 269.75 Q112.219 267.597 109.071 267.597 M118.353 252.944 L118.353 257.203 Q116.594 256.37 114.788 255.93 Q113.006 255.49 111.246 255.49 Q106.617 255.49 104.163 258.615 Q101.733 261.74 101.385 268.06 Q102.751 266.046 104.811 264.981 Q106.871 263.893 109.348 263.893 Q114.557 263.893 117.566 267.064 Q120.598 270.213 120.598 275.652 Q120.598 280.976 117.45 284.194 Q114.302 287.412 109.071 287.412 Q103.075 287.412 99.9039 282.828 Q96.7326 278.222 96.7326 269.495 Q96.7326 261.301 100.621 256.44 Q104.51 251.555 111.061 251.555 Q112.82 251.555 114.603 251.903 Q116.408 252.25 118.353 252.944 Z\" fill=\"#000000\" fill-rule=\"nonzero\" fill-opacity=\"1\" /><circle clip-path=\"url(#clip192)\" cx=\"218.754\" cy=\"997.657\" r=\"14.4\" fill=\"#0000ff\" fill-rule=\"evenodd\" fill-opacity=\"1\" stroke=\"#000000\" stroke-opacity=\"1\" stroke-width=\"3.2\"/>\n",
       "<circle clip-path=\"url(#clip192)\" cx=\"327.798\" cy=\"986.018\" r=\"14.4\" fill=\"#0000ff\" fill-rule=\"evenodd\" fill-opacity=\"1\" stroke=\"#000000\" stroke-opacity=\"1\" stroke-width=\"3.2\"/>\n",
       "<circle clip-path=\"url(#clip192)\" cx=\"436.843\" cy=\"969.175\" r=\"14.4\" fill=\"#0000ff\" fill-rule=\"evenodd\" fill-opacity=\"1\" stroke=\"#000000\" stroke-opacity=\"1\" stroke-width=\"3.2\"/>\n",
       "<circle clip-path=\"url(#clip192)\" cx=\"545.887\" cy=\"947.233\" r=\"14.4\" fill=\"#0000ff\" fill-rule=\"evenodd\" fill-opacity=\"1\" stroke=\"#000000\" stroke-opacity=\"1\" stroke-width=\"3.2\"/>\n",
       "<circle clip-path=\"url(#clip192)\" cx=\"654.932\" cy=\"920.345\" r=\"14.4\" fill=\"#0000ff\" fill-rule=\"evenodd\" fill-opacity=\"1\" stroke=\"#000000\" stroke-opacity=\"1\" stroke-width=\"3.2\"/>\n",
       "<circle clip-path=\"url(#clip192)\" cx=\"763.976\" cy=\"888.71\" r=\"14.4\" fill=\"#0000ff\" fill-rule=\"evenodd\" fill-opacity=\"1\" stroke=\"#000000\" stroke-opacity=\"1\" stroke-width=\"3.2\"/>\n",
       "<circle clip-path=\"url(#clip192)\" cx=\"873.021\" cy=\"852.561\" r=\"14.4\" fill=\"#0000ff\" fill-rule=\"evenodd\" fill-opacity=\"1\" stroke=\"#000000\" stroke-opacity=\"1\" stroke-width=\"3.2\"/>\n",
       "<circle clip-path=\"url(#clip192)\" cx=\"982.066\" cy=\"812.155\" r=\"14.4\" fill=\"#0000ff\" fill-rule=\"evenodd\" fill-opacity=\"1\" stroke=\"#000000\" stroke-opacity=\"1\" stroke-width=\"3.2\"/>\n",
       "<circle clip-path=\"url(#clip192)\" cx=\"1091.11\" cy=\"767.765\" r=\"14.4\" fill=\"#0000ff\" fill-rule=\"evenodd\" fill-opacity=\"1\" stroke=\"#000000\" stroke-opacity=\"1\" stroke-width=\"3.2\"/>\n",
       "<circle clip-path=\"url(#clip192)\" cx=\"1200.15\" cy=\"719.669\" r=\"14.4\" fill=\"#0000ff\" fill-rule=\"evenodd\" fill-opacity=\"1\" stroke=\"#000000\" stroke-opacity=\"1\" stroke-width=\"3.2\"/>\n",
       "<circle clip-path=\"url(#clip192)\" cx=\"1309.2\" cy=\"668.145\" r=\"14.4\" fill=\"#0000ff\" fill-rule=\"evenodd\" fill-opacity=\"1\" stroke=\"#000000\" stroke-opacity=\"1\" stroke-width=\"3.2\"/>\n",
       "<circle clip-path=\"url(#clip192)\" cx=\"1418.24\" cy=\"613.459\" r=\"14.4\" fill=\"#0000ff\" fill-rule=\"evenodd\" fill-opacity=\"1\" stroke=\"#000000\" stroke-opacity=\"1\" stroke-width=\"3.2\"/>\n",
       "<circle clip-path=\"url(#clip192)\" cx=\"1527.29\" cy=\"555.866\" r=\"14.4\" fill=\"#0000ff\" fill-rule=\"evenodd\" fill-opacity=\"1\" stroke=\"#000000\" stroke-opacity=\"1\" stroke-width=\"3.2\"/>\n",
       "<circle clip-path=\"url(#clip192)\" cx=\"1636.33\" cy=\"495.599\" r=\"14.4\" fill=\"#0000ff\" fill-rule=\"evenodd\" fill-opacity=\"1\" stroke=\"#000000\" stroke-opacity=\"1\" stroke-width=\"3.2\"/>\n",
       "<circle clip-path=\"url(#clip192)\" cx=\"1745.38\" cy=\"432.83\" r=\"14.4\" fill=\"#0000ff\" fill-rule=\"evenodd\" fill-opacity=\"1\" stroke=\"#000000\" stroke-opacity=\"1\" stroke-width=\"3.2\"/>\n",
       "<circle clip-path=\"url(#clip192)\" cx=\"1854.42\" cy=\"367.792\" r=\"14.4\" fill=\"#0000ff\" fill-rule=\"evenodd\" fill-opacity=\"1\" stroke=\"#000000\" stroke-opacity=\"1\" stroke-width=\"3.2\"/>\n",
       "<circle clip-path=\"url(#clip192)\" cx=\"1963.47\" cy=\"300.658\" r=\"14.4\" fill=\"#0000ff\" fill-rule=\"evenodd\" fill-opacity=\"1\" stroke=\"#000000\" stroke-opacity=\"1\" stroke-width=\"3.2\"/>\n",
       "<circle clip-path=\"url(#clip192)\" cx=\"2072.51\" cy=\"231.569\" r=\"14.4\" fill=\"#0000ff\" fill-rule=\"evenodd\" fill-opacity=\"1\" stroke=\"#000000\" stroke-opacity=\"1\" stroke-width=\"3.2\"/>\n",
       "<circle clip-path=\"url(#clip192)\" cx=\"2181.56\" cy=\"160.642\" r=\"14.4\" fill=\"#0000ff\" fill-rule=\"evenodd\" fill-opacity=\"1\" stroke=\"#000000\" stroke-opacity=\"1\" stroke-width=\"3.2\"/>\n",
       "<circle clip-path=\"url(#clip192)\" cx=\"2290.6\" cy=\"87.9763\" r=\"14.4\" fill=\"#0000ff\" fill-rule=\"evenodd\" fill-opacity=\"1\" stroke=\"#000000\" stroke-opacity=\"1\" stroke-width=\"3.2\"/>\n",
       "<circle clip-path=\"url(#clip192)\" cx=\"218.754\" cy=\"1445.72\" r=\"14.4\" fill=\"#ff0000\" fill-rule=\"evenodd\" fill-opacity=\"1\" stroke=\"#000000\" stroke-opacity=\"1\" stroke-width=\"3.2\"/>\n",
       "<circle clip-path=\"url(#clip192)\" cx=\"327.798\" cy=\"1445.72\" r=\"14.4\" fill=\"#ff0000\" fill-rule=\"evenodd\" fill-opacity=\"1\" stroke=\"#000000\" stroke-opacity=\"1\" stroke-width=\"3.2\"/>\n",
       "<circle clip-path=\"url(#clip192)\" cx=\"436.843\" cy=\"1445.72\" r=\"14.4\" fill=\"#ff0000\" fill-rule=\"evenodd\" fill-opacity=\"1\" stroke=\"#000000\" stroke-opacity=\"1\" stroke-width=\"3.2\"/>\n",
       "<circle clip-path=\"url(#clip192)\" cx=\"545.887\" cy=\"1445.72\" r=\"14.4\" fill=\"#ff0000\" fill-rule=\"evenodd\" fill-opacity=\"1\" stroke=\"#000000\" stroke-opacity=\"1\" stroke-width=\"3.2\"/>\n",
       "<circle clip-path=\"url(#clip192)\" cx=\"654.932\" cy=\"1445.72\" r=\"14.4\" fill=\"#ff0000\" fill-rule=\"evenodd\" fill-opacity=\"1\" stroke=\"#000000\" stroke-opacity=\"1\" stroke-width=\"3.2\"/>\n",
       "<circle clip-path=\"url(#clip192)\" cx=\"763.976\" cy=\"1445.72\" r=\"14.4\" fill=\"#ff0000\" fill-rule=\"evenodd\" fill-opacity=\"1\" stroke=\"#000000\" stroke-opacity=\"1\" stroke-width=\"3.2\"/>\n",
       "<circle clip-path=\"url(#clip192)\" cx=\"873.021\" cy=\"1445.72\" r=\"14.4\" fill=\"#ff0000\" fill-rule=\"evenodd\" fill-opacity=\"1\" stroke=\"#000000\" stroke-opacity=\"1\" stroke-width=\"3.2\"/>\n",
       "<circle clip-path=\"url(#clip192)\" cx=\"982.066\" cy=\"1445.72\" r=\"14.4\" fill=\"#ff0000\" fill-rule=\"evenodd\" fill-opacity=\"1\" stroke=\"#000000\" stroke-opacity=\"1\" stroke-width=\"3.2\"/>\n",
       "<circle clip-path=\"url(#clip192)\" cx=\"1091.11\" cy=\"1186.62\" r=\"14.4\" fill=\"#ff0000\" fill-rule=\"evenodd\" fill-opacity=\"1\" stroke=\"#000000\" stroke-opacity=\"1\" stroke-width=\"3.2\"/>\n",
       "<circle clip-path=\"url(#clip192)\" cx=\"1200.15\" cy=\"1121.96\" r=\"14.4\" fill=\"#ff0000\" fill-rule=\"evenodd\" fill-opacity=\"1\" stroke=\"#000000\" stroke-opacity=\"1\" stroke-width=\"3.2\"/>\n",
       "<circle clip-path=\"url(#clip192)\" cx=\"1309.2\" cy=\"1035.39\" r=\"14.4\" fill=\"#ff0000\" fill-rule=\"evenodd\" fill-opacity=\"1\" stroke=\"#000000\" stroke-opacity=\"1\" stroke-width=\"3.2\"/>\n",
       "<circle clip-path=\"url(#clip192)\" cx=\"1418.24\" cy=\"931.312\" r=\"14.4\" fill=\"#ff0000\" fill-rule=\"evenodd\" fill-opacity=\"1\" stroke=\"#000000\" stroke-opacity=\"1\" stroke-width=\"3.2\"/>\n",
       "<circle clip-path=\"url(#clip192)\" cx=\"1527.29\" cy=\"807.92\" r=\"14.4\" fill=\"#ff0000\" fill-rule=\"evenodd\" fill-opacity=\"1\" stroke=\"#000000\" stroke-opacity=\"1\" stroke-width=\"3.2\"/>\n",
       "<circle clip-path=\"url(#clip192)\" cx=\"1636.33\" cy=\"630.389\" r=\"14.4\" fill=\"#ff0000\" fill-rule=\"evenodd\" fill-opacity=\"1\" stroke=\"#000000\" stroke-opacity=\"1\" stroke-width=\"3.2\"/>\n",
       "<circle clip-path=\"url(#clip192)\" cx=\"1745.38\" cy=\"547.29\" r=\"14.4\" fill=\"#ff0000\" fill-rule=\"evenodd\" fill-opacity=\"1\" stroke=\"#000000\" stroke-opacity=\"1\" stroke-width=\"3.2\"/>\n",
       "<circle clip-path=\"url(#clip192)\" cx=\"1854.42\" cy=\"468.926\" r=\"14.4\" fill=\"#ff0000\" fill-rule=\"evenodd\" fill-opacity=\"1\" stroke=\"#000000\" stroke-opacity=\"1\" stroke-width=\"3.2\"/>\n",
       "<circle clip-path=\"url(#clip192)\" cx=\"1963.47\" cy=\"341.555\" r=\"14.4\" fill=\"#ff0000\" fill-rule=\"evenodd\" fill-opacity=\"1\" stroke=\"#000000\" stroke-opacity=\"1\" stroke-width=\"3.2\"/>\n",
       "<circle clip-path=\"url(#clip192)\" cx=\"2072.51\" cy=\"269.246\" r=\"14.4\" fill=\"#ff0000\" fill-rule=\"evenodd\" fill-opacity=\"1\" stroke=\"#000000\" stroke-opacity=\"1\" stroke-width=\"3.2\"/>\n",
       "<circle clip-path=\"url(#clip192)\" cx=\"2181.56\" cy=\"195.172\" r=\"14.4\" fill=\"#ff0000\" fill-rule=\"evenodd\" fill-opacity=\"1\" stroke=\"#000000\" stroke-opacity=\"1\" stroke-width=\"3.2\"/>\n",
       "<circle clip-path=\"url(#clip192)\" cx=\"2290.6\" cy=\"119.485\" r=\"14.4\" fill=\"#ff0000\" fill-rule=\"evenodd\" fill-opacity=\"1\" stroke=\"#000000\" stroke-opacity=\"1\" stroke-width=\"3.2\"/>\n",
       "<path clip-path=\"url(#clip190)\" d=\"M229.803 250.738 L501.85 250.738 L501.85 95.2176 L229.803 95.2176  Z\" fill=\"#ffffff\" fill-rule=\"evenodd\" fill-opacity=\"1\"/>\n",
       "<polyline clip-path=\"url(#clip190)\" style=\"stroke:#000000; stroke-linecap:round; stroke-linejoin:round; stroke-width:4; stroke-opacity:1; fill:none\" points=\"229.803,250.738 501.85,250.738 501.85,95.2176 229.803,95.2176 229.803,250.738 \"/>\n",
       "<circle clip-path=\"url(#clip190)\" cx=\"327.41\" cy=\"147.058\" r=\"20.48\" fill=\"#0000ff\" fill-rule=\"evenodd\" fill-opacity=\"1\" stroke=\"#000000\" stroke-opacity=\"1\" stroke-width=\"4.55111\"/>\n",
       "<path clip-path=\"url(#clip190)\" d=\"M438.86 166.745 Q437.054 171.375 435.342 172.787 Q433.629 174.199 430.758 174.199 L427.355 174.199 L427.355 170.634 L429.855 170.634 Q431.615 170.634 432.587 169.8 Q433.559 168.967 434.74 165.865 L435.504 163.921 L425.018 138.412 L429.531 138.412 L437.633 158.689 L445.735 138.412 L450.249 138.412 L438.86 166.745 Z\" fill=\"#000000\" fill-rule=\"nonzero\" fill-opacity=\"1\" /><path clip-path=\"url(#clip190)\" d=\"M457.54 160.402 L465.179 160.402 L465.179 134.037 L456.869 135.703 L456.869 131.444 L465.133 129.778 L469.809 129.778 L469.809 160.402 L477.448 160.402 L477.448 164.338 L457.54 164.338 L457.54 160.402 Z\" fill=\"#000000\" fill-rule=\"nonzero\" fill-opacity=\"1\" /><circle clip-path=\"url(#clip190)\" cx=\"327.41\" cy=\"198.898\" r=\"20.48\" fill=\"#ff0000\" fill-rule=\"evenodd\" fill-opacity=\"1\" stroke=\"#000000\" stroke-opacity=\"1\" stroke-width=\"4.55111\"/>\n",
       "<path clip-path=\"url(#clip190)\" d=\"M438.86 218.585 Q437.054 223.215 435.342 224.627 Q433.629 226.039 430.758 226.039 L427.355 226.039 L427.355 222.474 L429.855 222.474 Q431.615 222.474 432.587 221.64 Q433.559 220.807 434.74 217.705 L435.504 215.761 L425.018 190.252 L429.531 190.252 L437.633 210.529 L445.735 190.252 L450.249 190.252 L438.86 218.585 Z\" fill=\"#000000\" fill-rule=\"nonzero\" fill-opacity=\"1\" /><path clip-path=\"url(#clip190)\" d=\"M460.758 212.242 L477.077 212.242 L477.077 216.178 L455.133 216.178 L455.133 212.242 Q457.795 209.488 462.378 204.858 Q466.985 200.205 468.165 198.863 Q470.411 196.34 471.29 194.604 Q472.193 192.844 472.193 191.155 Q472.193 188.4 470.249 186.664 Q468.327 184.928 465.226 184.928 Q463.027 184.928 460.573 185.692 Q458.142 186.455 455.365 188.006 L455.365 183.284 Q458.189 182.15 460.642 181.571 Q463.096 180.993 465.133 180.993 Q470.503 180.993 473.698 183.678 Q476.892 186.363 476.892 190.854 Q476.892 192.983 476.082 194.905 Q475.295 196.803 473.189 199.395 Q472.61 200.067 469.508 203.284 Q466.406 206.479 460.758 212.242 Z\" fill=\"#000000\" fill-rule=\"nonzero\" fill-opacity=\"1\" /></svg>\n"
      ]
     },
     "metadata": {},
     "output_type": "display_data"
    },
    {
     "data": {
      "text/plain": [
       "([-0.0, -0.0, -0.0, -0.0, -0.0, -0.0, -0.0, -0.0, 0.13216456166416282, 0.16514642195332513, 0.2093053716886068, 0.2623936966202607, 0.3253351758212583, 0.41589272904229746, 0.4582810185175273, 0.49825405349964597, 0.563224860987598, 0.6001090840630137, 0.637893718315433, 0.6765014398113157], [0.22855169040019083, 0.2344885595541176, 0.2430800079445384, 0.25427287145952016, 0.2679881403221677, 0.28412476562812744, 0.30256414877571636, 0.3231749930980064, 0.34581820086410187, 0.3703515328559713, 0.3966338037542007, 0.4245284546639372, 0.45390641455248487, 0.4846482270908472, 0.516666046898006, 0.5498415203805415, 0.5840860313255458, 0.6193280436370592, 0.6555072472192581, 0.6925737929559171])"
      ]
     },
     "execution_count": 192,
     "metadata": {},
     "output_type": "execute_result"
    }
   ],
   "source": [
    "plotBoundHolderreg(phi1,T1(0),0.53,0.02,20,n,N,m,M,nu,Nu,true)"
   ]
  },
  {
   "cell_type": "markdown",
   "id": "e282a56d",
   "metadata": {},
   "source": [
    "## Examples of transformations"
   ]
  },
  {
   "cell_type": "code",
   "execution_count": 24,
   "id": "ad8ae2e2",
   "metadata": {},
   "outputs": [],
   "source": [
    "struct T\n",
    "    image\n",
    "    d\n",
    "    maxd\n",
    "    mind\n",
    "    degree\n",
    "end"
   ]
  },
  {
   "cell_type": "code",
   "execution_count": 83,
   "id": "30453fa3",
   "metadata": {},
   "outputs": [
    {
     "data": {
      "text/plain": [
       "T1 (generic function with 1 method)"
      ]
     },
     "execution_count": 83,
     "metadata": {},
     "output_type": "execute_result"
    }
   ],
   "source": [
    "T1(e)=T(x->2*x+e*sin(2*pi*x),x->2+2*pi*e*cos(2*pi*x),2+2*pi*e,2-2*pi*e,2)"
   ]
  },
  {
   "cell_type": "markdown",
   "id": "4a8cd0e9",
   "metadata": {},
   "source": [
    "## Examples of laws of reproduction"
   ]
  },
  {
   "cell_type": "code",
   "execution_count": 26,
   "id": "fb21ad6c",
   "metadata": {},
   "outputs": [],
   "source": [
    "struct phi\n",
    "    image\n",
    "    logds\n",
    "    exp\n",
    "    maxexp\n",
    "    maxdexp\n",
    "    maxdx\n",
    "end"
   ]
  },
  {
   "cell_type": "code",
   "execution_count": 82,
   "id": "09b1bacd",
   "metadata": {},
   "outputs": [
    {
     "data": {
      "text/plain": [
       "phi1 (generic function with 1 method)"
      ]
     },
     "execution_count": 82,
     "metadata": {},
     "output_type": "execute_result"
    }
   ],
   "source": [
    "phi1(l)=phi((x,s)->exp((s - 1) * exp(l + cos(2 * x * π))),(x,s)->log(exp(l + cos(2 * x * π)) * phi1(l).image(x, s)),x->exp(l+cos(2 * x * π)),exp(l+1),2*π*exp(l+1),2*π/exp(1))"
   ]
  },
  {
   "cell_type": "code",
   "execution_count": 81,
   "id": "1d961230",
   "metadata": {},
   "outputs": [
    {
     "data": {
      "text/plain": [
       "phi2 (generic function with 1 method)"
      ]
     },
     "execution_count": 81,
     "metadata": {},
     "output_type": "execute_result"
    }
   ],
   "source": [
    "phi2(l)=phi((x,s)->exp((s - 1) * exp(l - cos(2 * x * π))),(x,s)->log(exp(l - cos(2 * x * π)) * phi2(l).image(x, s)),x->exp(l-cos(2 * x * π)),exp(l+1),2*π*exp(l+1),2*π/exp(1))"
   ]
  },
  {
   "cell_type": "markdown",
   "id": "86c17ea1",
   "metadata": {},
   "source": [
    "## General settings"
   ]
  },
  {
   "cell_type": "code",
   "execution_count": 80,
   "id": "6cc1da95",
   "metadata": {},
   "outputs": [
    {
     "data": {
      "text/plain": [
       "8"
      ]
     },
     "execution_count": 80,
     "metadata": {},
     "output_type": "execute_result"
    }
   ],
   "source": [
    "N = 14 # 2^N est le nb d'intervalles\n",
    "n = 14 # le nb d'itérations de notre fonction majorante et minorante\n",
    "m = 8\n",
    "M = 8 # taille max des orbites périodiques"
   ]
  },
  {
   "cell_type": "code",
   "execution_count": 79,
   "id": "c7a74e77",
   "metadata": {},
   "outputs": [
    {
     "data": {
      "text/plain": [
       "8"
      ]
     },
     "execution_count": 79,
     "metadata": {},
     "output_type": "execute_result"
    }
   ],
   "source": [
    "Nu=14\n",
    "nu=8\n",
    "Mu=8"
   ]
  },
  {
   "cell_type": "markdown",
   "id": "6a4823e6",
   "metadata": {},
   "source": [
    "## Main"
   ]
  },
  {
   "cell_type": "code",
   "execution_count": 177,
   "id": "2c1e9f62",
   "metadata": {},
   "outputs": [
    {
     "data": {
      "text/plain": [
       "l"
      ]
     },
     "execution_count": 177,
     "metadata": {},
     "output_type": "execute_result"
    }
   ],
   "source": [
    "e=0.1\n",
    "\"e doit etre inférieur à 1/(pi*2) soit environ 0.159\"\n",
    "l=0.6"
   ]
  }
 ],
 "metadata": {
  "kernelspec": {
   "display_name": "Julia 1.10.5",
   "language": "julia",
   "name": "julia-1.10"
  },
  "language_info": {
   "file_extension": ".jl",
   "mimetype": "application/julia",
   "name": "julia",
   "version": "1.10.5"
  }
 },
 "nbformat": 4,
 "nbformat_minor": 5
}
